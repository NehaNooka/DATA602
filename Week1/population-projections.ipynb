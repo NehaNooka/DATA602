{
 "cells": [
  {
   "cell_type": "markdown",
   "metadata": {},
   "source": [
    "# Population Projections\n",
    "\n",
    "## Resources:\n",
    "[pandas Melt](https://pandas.pydata.org/docs/reference/api/pandas.melt.html)\n",
    "<br>[pandas Query](https://pandas.pydata.org/docs/reference/api/pandas.DataFrame.query.html)\n"
   ]
  },
  {
   "cell_type": "code",
   "execution_count": 1,
   "metadata": {},
   "outputs": [
    {
     "name": "stdout",
     "output_type": "stream",
     "text": [
      "<class 'pandas.core.frame.DataFrame'>\n",
      "RangeIndex: 4860 entries, 0 to 4859\n",
      "Columns: 106 entries, SEX to POP_100\n",
      "dtypes: int64(106)\n",
      "memory usage: 3.9 MB\n"
     ]
    }
   ],
   "source": [
    "import pandas as pd\n",
    "import numpy as np\n",
    "import matplotlib.pyplot as plt\n",
    "%matplotlib inline\n",
    "\n",
    "dfUrl = 'https://www2.census.gov/programs-surveys/popproj/datasets/2017/2017-popproj/np2017_d1_mid.csv'\n",
    "\n",
    "df = pd.read_csv(dfUrl)\n",
    "df.info()"
   ]
  },
  {
   "cell_type": "code",
   "execution_count": 2,
   "metadata": {},
   "outputs": [
    {
     "name": "stdout",
     "output_type": "stream",
     "text": [
      "Rows: 4,860\n",
      "Columns: 106\n"
     ]
    }
   ],
   "source": [
    "print(f'Rows: {df.shape[0]:,}')\n",
    "print(f'Columns: {df.shape[1]:,}')"
   ]
  },
  {
   "cell_type": "code",
   "execution_count": 3,
   "metadata": {},
   "outputs": [
    {
     "data": {
      "text/plain": [
       "Index(['SEX', 'ORIGIN', 'RACE', 'YEAR', 'TOTAL_POP', 'POP_0', 'POP_1', 'POP_2',\n",
       "       'POP_3', 'POP_4',\n",
       "       ...\n",
       "       'POP_91', 'POP_92', 'POP_93', 'POP_94', 'POP_95', 'POP_96', 'POP_97',\n",
       "       'POP_98', 'POP_99', 'POP_100'],\n",
       "      dtype='object', length=106)"
      ]
     },
     "execution_count": 3,
     "metadata": {},
     "output_type": "execute_result"
    }
   ],
   "source": [
    "df.columns"
   ]
  },
  {
   "cell_type": "code",
   "execution_count": 4,
   "metadata": {},
   "outputs": [
    {
     "data": {
      "text/html": [
       "<div>\n",
       "<style scoped>\n",
       "    .dataframe tbody tr th:only-of-type {\n",
       "        vertical-align: middle;\n",
       "    }\n",
       "\n",
       "    .dataframe tbody tr th {\n",
       "        vertical-align: top;\n",
       "    }\n",
       "\n",
       "    .dataframe thead th {\n",
       "        text-align: right;\n",
       "    }\n",
       "</style>\n",
       "<table border=\"1\" class=\"dataframe\">\n",
       "  <thead>\n",
       "    <tr style=\"text-align: right;\">\n",
       "      <th></th>\n",
       "      <th>SEX</th>\n",
       "      <th>ORIGIN</th>\n",
       "      <th>RACE</th>\n",
       "      <th>YEAR</th>\n",
       "      <th>TOTAL_POP</th>\n",
       "      <th>POP_0</th>\n",
       "      <th>POP_1</th>\n",
       "      <th>POP_2</th>\n",
       "      <th>POP_3</th>\n",
       "      <th>POP_4</th>\n",
       "      <th>...</th>\n",
       "      <th>POP_91</th>\n",
       "      <th>POP_92</th>\n",
       "      <th>POP_93</th>\n",
       "      <th>POP_94</th>\n",
       "      <th>POP_95</th>\n",
       "      <th>POP_96</th>\n",
       "      <th>POP_97</th>\n",
       "      <th>POP_98</th>\n",
       "      <th>POP_99</th>\n",
       "      <th>POP_100</th>\n",
       "    </tr>\n",
       "  </thead>\n",
       "  <tbody>\n",
       "    <tr>\n",
       "      <th>0</th>\n",
       "      <td>0</td>\n",
       "      <td>0</td>\n",
       "      <td>0</td>\n",
       "      <td>2016</td>\n",
       "      <td>323127513</td>\n",
       "      <td>3970145</td>\n",
       "      <td>3995008</td>\n",
       "      <td>3992154</td>\n",
       "      <td>3982074</td>\n",
       "      <td>3987656</td>\n",
       "      <td>...</td>\n",
       "      <td>449986</td>\n",
       "      <td>372625</td>\n",
       "      <td>300000</td>\n",
       "      <td>239313</td>\n",
       "      <td>186408</td>\n",
       "      <td>135797</td>\n",
       "      <td>94311</td>\n",
       "      <td>68972</td>\n",
       "      <td>44895</td>\n",
       "      <td>81896</td>\n",
       "    </tr>\n",
       "    <tr>\n",
       "      <th>1</th>\n",
       "      <td>0</td>\n",
       "      <td>0</td>\n",
       "      <td>0</td>\n",
       "      <td>2017</td>\n",
       "      <td>325511184</td>\n",
       "      <td>4054035</td>\n",
       "      <td>3982964</td>\n",
       "      <td>4008116</td>\n",
       "      <td>4003478</td>\n",
       "      <td>3992207</td>\n",
       "      <td>...</td>\n",
       "      <td>449945</td>\n",
       "      <td>382669</td>\n",
       "      <td>311525</td>\n",
       "      <td>246219</td>\n",
       "      <td>192531</td>\n",
       "      <td>146801</td>\n",
       "      <td>104540</td>\n",
       "      <td>70840</td>\n",
       "      <td>50486</td>\n",
       "      <td>83574</td>\n",
       "    </tr>\n",
       "    <tr>\n",
       "      <th>2</th>\n",
       "      <td>0</td>\n",
       "      <td>0</td>\n",
       "      <td>0</td>\n",
       "      <td>2018</td>\n",
       "      <td>327891911</td>\n",
       "      <td>4075563</td>\n",
       "      <td>4068172</td>\n",
       "      <td>3995888</td>\n",
       "      <td>4019345</td>\n",
       "      <td>4013649</td>\n",
       "      <td>...</td>\n",
       "      <td>462335</td>\n",
       "      <td>382993</td>\n",
       "      <td>320285</td>\n",
       "      <td>256011</td>\n",
       "      <td>198354</td>\n",
       "      <td>151848</td>\n",
       "      <td>113165</td>\n",
       "      <td>78659</td>\n",
       "      <td>51938</td>\n",
       "      <td>86221</td>\n",
       "    </tr>\n",
       "    <tr>\n",
       "      <th>3</th>\n",
       "      <td>0</td>\n",
       "      <td>0</td>\n",
       "      <td>0</td>\n",
       "      <td>2019</td>\n",
       "      <td>330268840</td>\n",
       "      <td>4095614</td>\n",
       "      <td>4089881</td>\n",
       "      <td>4082231</td>\n",
       "      <td>4006967</td>\n",
       "      <td>4029427</td>\n",
       "      <td>...</td>\n",
       "      <td>467488</td>\n",
       "      <td>393919</td>\n",
       "      <td>320884</td>\n",
       "      <td>263533</td>\n",
       "      <td>206526</td>\n",
       "      <td>156654</td>\n",
       "      <td>117240</td>\n",
       "      <td>85265</td>\n",
       "      <td>57778</td>\n",
       "      <td>87671</td>\n",
       "    </tr>\n",
       "    <tr>\n",
       "      <th>4</th>\n",
       "      <td>0</td>\n",
       "      <td>0</td>\n",
       "      <td>0</td>\n",
       "      <td>2020</td>\n",
       "      <td>332639102</td>\n",
       "      <td>4113164</td>\n",
       "      <td>4110117</td>\n",
       "      <td>4104058</td>\n",
       "      <td>4094281</td>\n",
       "      <td>4016919</td>\n",
       "      <td>...</td>\n",
       "      <td>464985</td>\n",
       "      <td>398712</td>\n",
       "      <td>330389</td>\n",
       "      <td>264318</td>\n",
       "      <td>212880</td>\n",
       "      <td>163348</td>\n",
       "      <td>121128</td>\n",
       "      <td>88491</td>\n",
       "      <td>62724</td>\n",
       "      <td>92064</td>\n",
       "    </tr>\n",
       "  </tbody>\n",
       "</table>\n",
       "<p>5 rows × 106 columns</p>\n",
       "</div>"
      ],
      "text/plain": [
       "   SEX  ORIGIN  RACE  YEAR  TOTAL_POP    POP_0    POP_1    POP_2    POP_3  \\\n",
       "0    0       0     0  2016  323127513  3970145  3995008  3992154  3982074   \n",
       "1    0       0     0  2017  325511184  4054035  3982964  4008116  4003478   \n",
       "2    0       0     0  2018  327891911  4075563  4068172  3995888  4019345   \n",
       "3    0       0     0  2019  330268840  4095614  4089881  4082231  4006967   \n",
       "4    0       0     0  2020  332639102  4113164  4110117  4104058  4094281   \n",
       "\n",
       "     POP_4  ...  POP_91  POP_92  POP_93  POP_94  POP_95  POP_96  POP_97  \\\n",
       "0  3987656  ...  449986  372625  300000  239313  186408  135797   94311   \n",
       "1  3992207  ...  449945  382669  311525  246219  192531  146801  104540   \n",
       "2  4013649  ...  462335  382993  320285  256011  198354  151848  113165   \n",
       "3  4029427  ...  467488  393919  320884  263533  206526  156654  117240   \n",
       "4  4016919  ...  464985  398712  330389  264318  212880  163348  121128   \n",
       "\n",
       "   POP_98  POP_99  POP_100  \n",
       "0   68972   44895    81896  \n",
       "1   70840   50486    83574  \n",
       "2   78659   51938    86221  \n",
       "3   85265   57778    87671  \n",
       "4   88491   62724    92064  \n",
       "\n",
       "[5 rows x 106 columns]"
      ]
     },
     "execution_count": 4,
     "metadata": {},
     "output_type": "execute_result"
    }
   ],
   "source": [
    "df.head()"
   ]
  },
  {
   "cell_type": "markdown",
   "metadata": {},
   "source": [
    "## File layout\n",
    "- SEX: sex, see key  \n",
    "- ORIGIN: Hispanic origin, see key  \n",
    "- RACE: see key  \n",
    "- YEAR: year of population projection  \n",
    "- TOTAL_POP: total population, all ages combined  \n",
    "- (POP_0, POP_1, ...POP_99, POP_100): population for given age  \n",
    "\n",
    "The key for ORIGIN is as follows:\n",
    "- 0 = Total  \n",
    "- 1 = Not Hispanic  \n",
    "- 2 = Hispanic  \n",
    "\n",
    "The key for RACE is as follows:\n",
    "- 0 = All races (codes 1 through 6)  \n",
    "- 1 = White alone  \n",
    "- 2 = Black alone  \n",
    "- 3 = AIAN alone  \n",
    "- 4 = Asian alone  \n",
    "- 5 = NHPI alone  \n",
    "- 6 = Two or More Races  \n",
    "- 7 = White alone or in combination  \n",
    "- 8 = Black alone or in combination  \n",
    "- 9 = AIAN alone or in combination  \n",
    "- 10 = Asian alone or in combination  \n",
    "- 11 = NHPI alone or in combination\n",
    "\n",
    "The key for SEX is as follows:\n",
    "- 0 = Both sexes  \n",
    "- 1 = Male  \n",
    "- 2 = Female  \n",
    "      \n",
    "NOTE: Hispanic origin is considered an ethnicity, not a race. Hispanics may be of any race."
   ]
  },
  {
   "cell_type": "markdown",
   "metadata": {},
   "source": [
    "## Original question:\n",
    "We need to understand what the 85+ population looks like over time and understand trends in its annual growth rate. Probably don't need to worry about ORIGIN, RACE, or SEX so we can filter down to the aggregate values.\n",
    "\n",
    "## Things to consider\n",
    "- This dataset is very wide, likely want to consider converting to a long format  \n",
    "- There are aggregations included with the raw data\n",
    "- Haven't determined if there are nulls/missing data yet   "
   ]
  },
  {
   "cell_type": "markdown",
   "metadata": {},
   "source": [
    "### Let's get checking for null values out of the way!"
   ]
  },
  {
   "cell_type": "code",
   "execution_count": 5,
   "metadata": {},
   "outputs": [
    {
     "data": {
      "text/plain": [
       "0    106\n",
       "dtype: int64"
      ]
     },
     "execution_count": 5,
     "metadata": {},
     "output_type": "execute_result"
    }
   ],
   "source": [
    "df.isna().sum().value_counts(dropna=False)"
   ]
  },
  {
   "cell_type": "code",
   "execution_count": 6,
   "metadata": {},
   "outputs": [
    {
     "data": {
      "text/plain": [
       "(4860, 106)"
      ]
     },
     "execution_count": 6,
     "metadata": {},
     "output_type": "execute_result"
    }
   ],
   "source": [
    "df.dropna().shape"
   ]
  },
  {
   "cell_type": "markdown",
   "metadata": {},
   "source": [
    "__No missing values in any of the columns!__"
   ]
  },
  {
   "cell_type": "markdown",
   "metadata": {},
   "source": [
    "### But we still have a very wide dataset, so we should convert it to long dataset via \"melt\".\n",
    "And we'll want to filter down to the overall population by year."
   ]
  },
  {
   "cell_type": "code",
   "execution_count": 12,
   "metadata": {},
   "outputs": [],
   "source": [
    "# df.query('ORIGIN==0 and RACE==0 and SEX==0') \\\n",
    "# .drop(columns=['ORIGIN','RACE','SEX','TOTAL_POP']) \\\n",
    "# .melt(id_vars='YEAR', var_name='POP_AGE', value_name='POP') \\\n",
    "# .query('YEAR==2016')\n"
   ]
  },
  {
   "cell_type": "code",
   "execution_count": 14,
   "metadata": {},
   "outputs": [],
   "source": [
    "# (\n",
    "#     df.query(\"ORIGIN==0 and RACE==0 and SEX==0\")\n",
    "#     .drop(columns=['ORIGIN','RACE','SEX','TOTAL_POP'])\n",
    "#     .melt(id_vars='YEAR', var_name='POP_AGE', value_name='POP')\n",
    "# )"
   ]
  },
  {
   "cell_type": "code",
   "execution_count": 15,
   "metadata": {},
   "outputs": [
    {
     "data": {
      "text/html": [
       "<div>\n",
       "<style scoped>\n",
       "    .dataframe tbody tr th:only-of-type {\n",
       "        vertical-align: middle;\n",
       "    }\n",
       "\n",
       "    .dataframe tbody tr th {\n",
       "        vertical-align: top;\n",
       "    }\n",
       "\n",
       "    .dataframe thead th {\n",
       "        text-align: right;\n",
       "    }\n",
       "</style>\n",
       "<table border=\"1\" class=\"dataframe\">\n",
       "  <thead>\n",
       "    <tr style=\"text-align: right;\">\n",
       "      <th></th>\n",
       "      <th>YEAR</th>\n",
       "      <th>POP_AGE</th>\n",
       "      <th>POP</th>\n",
       "    </tr>\n",
       "  </thead>\n",
       "  <tbody>\n",
       "    <tr>\n",
       "      <th>0</th>\n",
       "      <td>2016</td>\n",
       "      <td>POP_0</td>\n",
       "      <td>3970145</td>\n",
       "    </tr>\n",
       "    <tr>\n",
       "      <th>1</th>\n",
       "      <td>2017</td>\n",
       "      <td>POP_0</td>\n",
       "      <td>4054035</td>\n",
       "    </tr>\n",
       "    <tr>\n",
       "      <th>2</th>\n",
       "      <td>2018</td>\n",
       "      <td>POP_0</td>\n",
       "      <td>4075563</td>\n",
       "    </tr>\n",
       "    <tr>\n",
       "      <th>3</th>\n",
       "      <td>2019</td>\n",
       "      <td>POP_0</td>\n",
       "      <td>4095614</td>\n",
       "    </tr>\n",
       "    <tr>\n",
       "      <th>4</th>\n",
       "      <td>2020</td>\n",
       "      <td>POP_0</td>\n",
       "      <td>4113164</td>\n",
       "    </tr>\n",
       "  </tbody>\n",
       "</table>\n",
       "</div>"
      ],
      "text/plain": [
       "   YEAR POP_AGE      POP\n",
       "0  2016   POP_0  3970145\n",
       "1  2017   POP_0  4054035\n",
       "2  2018   POP_0  4075563\n",
       "3  2019   POP_0  4095614\n",
       "4  2020   POP_0  4113164"
      ]
     },
     "execution_count": 15,
     "metadata": {},
     "output_type": "execute_result"
    }
   ],
   "source": [
    "dfLong = (\n",
    "    df.query(\"ORIGIN==0 and RACE==0 and SEX==0\")\n",
    "    .drop(columns=['ORIGIN','RACE','SEX','TOTAL_POP'])\n",
    "    .melt(id_vars='YEAR', var_name='POP_AGE', value_name='POP')\n",
    ")\n",
    "\n",
    "dfLong.head()"
   ]
  },
  {
   "cell_type": "markdown",
   "metadata": {},
   "source": [
    "### Extract the age"
   ]
  },
  {
   "cell_type": "code",
   "execution_count": 16,
   "metadata": {},
   "outputs": [
    {
     "data": {
      "text/html": [
       "<div>\n",
       "<style scoped>\n",
       "    .dataframe tbody tr th:only-of-type {\n",
       "        vertical-align: middle;\n",
       "    }\n",
       "\n",
       "    .dataframe tbody tr th {\n",
       "        vertical-align: top;\n",
       "    }\n",
       "\n",
       "    .dataframe thead th {\n",
       "        text-align: right;\n",
       "    }\n",
       "</style>\n",
       "<table border=\"1\" class=\"dataframe\">\n",
       "  <thead>\n",
       "    <tr style=\"text-align: right;\">\n",
       "      <th></th>\n",
       "      <th>YEAR</th>\n",
       "      <th>POP</th>\n",
       "      <th>AGE</th>\n",
       "    </tr>\n",
       "  </thead>\n",
       "  <tbody>\n",
       "    <tr>\n",
       "      <th>0</th>\n",
       "      <td>2016</td>\n",
       "      <td>3970145</td>\n",
       "      <td>0</td>\n",
       "    </tr>\n",
       "    <tr>\n",
       "      <th>1</th>\n",
       "      <td>2017</td>\n",
       "      <td>4054035</td>\n",
       "      <td>0</td>\n",
       "    </tr>\n",
       "    <tr>\n",
       "      <th>2</th>\n",
       "      <td>2018</td>\n",
       "      <td>4075563</td>\n",
       "      <td>0</td>\n",
       "    </tr>\n",
       "    <tr>\n",
       "      <th>3</th>\n",
       "      <td>2019</td>\n",
       "      <td>4095614</td>\n",
       "      <td>0</td>\n",
       "    </tr>\n",
       "    <tr>\n",
       "      <th>4</th>\n",
       "      <td>2020</td>\n",
       "      <td>4113164</td>\n",
       "      <td>0</td>\n",
       "    </tr>\n",
       "  </tbody>\n",
       "</table>\n",
       "</div>"
      ],
      "text/plain": [
       "   YEAR      POP  AGE\n",
       "0  2016  3970145    0\n",
       "1  2017  4054035    0\n",
       "2  2018  4075563    0\n",
       "3  2019  4095614    0\n",
       "4  2020  4113164    0"
      ]
     },
     "execution_count": 16,
     "metadata": {},
     "output_type": "execute_result"
    }
   ],
   "source": [
    "\n",
    "# dfLong['AGE'] = dfLong['POP_AGE'].apply(lambda x: int(x.split('_')[1]))\n",
    "dfLong['AGE'] = [ int(x.split('_')[1]) for x in dfLong['POP_AGE'] ]\n",
    "dfLong = dfLong.drop(columns=['POP_AGE'])\n",
    "dfLong.head()"
   ]
  },
  {
   "cell_type": "markdown",
   "metadata": {},
   "source": [
    "### Let's look at the distribution for 2021"
   ]
  },
  {
   "cell_type": "code",
   "execution_count": 17,
   "metadata": {},
   "outputs": [
    {
     "data": {
      "text/plain": [
       "334998398"
      ]
     },
     "execution_count": 17,
     "metadata": {},
     "output_type": "execute_result"
    }
   ],
   "source": [
    "dfLong.query(\"YEAR==2021\")['POP'].sum()"
   ]
  },
  {
   "cell_type": "code",
   "execution_count": 18,
   "metadata": {},
   "outputs": [],
   "source": [
    "total2021 = dfLong.query(\"YEAR==2021\")[\"POP\"].sum()"
   ]
  },
  {
   "cell_type": "code",
   "execution_count": 19,
   "metadata": {},
   "outputs": [
    {
     "data": {
      "image/png": "[encoded data removed]",
      "text/plain": [
       "<Figure size 432x288 with 1 Axes>"
      ]
     },
     "metadata": {
      "needs_background": "light"
     },
     "output_type": "display_data"
    }
   ],
   "source": [
    "(\n",
    "    dfLong.query('YEAR==2021')\n",
    "    .plot(x='AGE', y='POP', kind='line', legend=False)\n",
    ")\n",
    "\n",
    "plt.title(f'US age distribution for 2021 (total={total2021:,})', loc='left')\n",
    "plt.xlabel('Age')\n",
    "plt.ylabel('# of people')\n",
    "plt.show()"
   ]
  },
  {
   "cell_type": "markdown",
   "metadata": {},
   "source": [
    "### Make sure that total squares: https://www.census.gov\n",
    "You want to avoid showing data that is levels of magnitude out of expected bounds."
   ]
  },
  {
   "cell_type": "markdown",
   "metadata": {},
   "source": [
    "### How will this shape compare against 2050?"
   ]
  },
  {
   "cell_type": "code",
   "execution_count": 24,
   "metadata": {},
   "outputs": [],
   "source": [
    "# (\n",
    "#     dfLong.query('YEAR==2021 or YEAR==2050')\n",
    "#     .pivot_table(index='AGE', columns='YEAR', values='POP')\n",
    "# )"
   ]
  },
  {
   "cell_type": "code",
   "execution_count": 25,
   "metadata": {},
   "outputs": [
    {
     "data": {
      "text/html": [
       "<div>\n",
       "<style scoped>\n",
       "    .dataframe tbody tr th:only-of-type {\n",
       "        vertical-align: middle;\n",
       "    }\n",
       "\n",
       "    .dataframe tbody tr th {\n",
       "        vertical-align: top;\n",
       "    }\n",
       "\n",
       "    .dataframe thead th {\n",
       "        text-align: right;\n",
       "    }\n",
       "</style>\n",
       "<table border=\"1\" class=\"dataframe\">\n",
       "  <thead>\n",
       "    <tr style=\"text-align: right;\">\n",
       "      <th>YEAR</th>\n",
       "      <th>2021</th>\n",
       "      <th>2050</th>\n",
       "    </tr>\n",
       "    <tr>\n",
       "      <th>AGE</th>\n",
       "      <th></th>\n",
       "      <th></th>\n",
       "    </tr>\n",
       "  </thead>\n",
       "  <tbody>\n",
       "    <tr>\n",
       "      <th>0</th>\n",
       "      <td>4127525</td>\n",
       "      <td>4313446</td>\n",
       "    </tr>\n",
       "    <tr>\n",
       "      <th>1</th>\n",
       "      <td>4127842</td>\n",
       "      <td>4319726</td>\n",
       "    </tr>\n",
       "    <tr>\n",
       "      <th>2</th>\n",
       "      <td>4124416</td>\n",
       "      <td>4324259</td>\n",
       "    </tr>\n",
       "    <tr>\n",
       "      <th>3</th>\n",
       "      <td>4116205</td>\n",
       "      <td>4326295</td>\n",
       "    </tr>\n",
       "    <tr>\n",
       "      <th>4</th>\n",
       "      <td>4105035</td>\n",
       "      <td>4326735</td>\n",
       "    </tr>\n",
       "  </tbody>\n",
       "</table>\n",
       "</div>"
      ],
      "text/plain": [
       "YEAR     2021     2050\n",
       "AGE                   \n",
       "0     4127525  4313446\n",
       "1     4127842  4319726\n",
       "2     4124416  4324259\n",
       "3     4116205  4326295\n",
       "4     4105035  4326735"
      ]
     },
     "execution_count": 25,
     "metadata": {},
     "output_type": "execute_result"
    }
   ],
   "source": [
    "yearCompare = (\n",
    "    dfLong.query('YEAR==2021 or YEAR==2050')\n",
    "    .pivot_table(index='AGE', columns='YEAR', values='POP')\n",
    ")\n",
    "\n",
    "yearCompare.head()"
   ]
  },
  {
   "cell_type": "code",
   "execution_count": 26,
   "metadata": {},
   "outputs": [
    {
     "data": {
      "image/png": "[encoded data removed]",
      "text/plain": [
       "<Figure size 432x288 with 1 Axes>"
      ]
     },
     "metadata": {
      "needs_background": "light"
     },
     "output_type": "display_data"
    }
   ],
   "source": [
    "yearCompare.plot(kind='line')\n",
    "plt.title(f'US age distribution for 2021 vs. 2050', loc='left')\n",
    "plt.xlabel('Age')\n",
    "plt.ylabel('# of people')\n",
    "plt.legend(title='')\n",
    "plt.show()"
   ]
  },
  {
   "cell_type": "markdown",
   "metadata": {},
   "source": [
    "__This is probably more meaningful on a percent basis since population will grow over time. We should probably account for population differences and measure this on a percent basis.__"
   ]
  },
  {
   "cell_type": "code",
   "execution_count": 28,
   "metadata": {},
   "outputs": [
    {
     "data": {
      "text/html": [
       "<div>\n",
       "<style scoped>\n",
       "    .dataframe tbody tr th:only-of-type {\n",
       "        vertical-align: middle;\n",
       "    }\n",
       "\n",
       "    .dataframe tbody tr th {\n",
       "        vertical-align: top;\n",
       "    }\n",
       "\n",
       "    .dataframe thead th {\n",
       "        text-align: right;\n",
       "    }\n",
       "</style>\n",
       "<table border=\"1\" class=\"dataframe\">\n",
       "  <thead>\n",
       "    <tr style=\"text-align: right;\">\n",
       "      <th>YEAR</th>\n",
       "      <th>2021</th>\n",
       "      <th>2050</th>\n",
       "    </tr>\n",
       "    <tr>\n",
       "      <th>AGE</th>\n",
       "      <th></th>\n",
       "      <th></th>\n",
       "    </tr>\n",
       "  </thead>\n",
       "  <tbody>\n",
       "    <tr>\n",
       "      <th>0</th>\n",
       "      <td>4127525</td>\n",
       "      <td>4313446</td>\n",
       "    </tr>\n",
       "    <tr>\n",
       "      <th>1</th>\n",
       "      <td>4127842</td>\n",
       "      <td>4319726</td>\n",
       "    </tr>\n",
       "    <tr>\n",
       "      <th>2</th>\n",
       "      <td>4124416</td>\n",
       "      <td>4324259</td>\n",
       "    </tr>\n",
       "    <tr>\n",
       "      <th>3</th>\n",
       "      <td>4116205</td>\n",
       "      <td>4326295</td>\n",
       "    </tr>\n",
       "    <tr>\n",
       "      <th>4</th>\n",
       "      <td>4105035</td>\n",
       "      <td>4326735</td>\n",
       "    </tr>\n",
       "  </tbody>\n",
       "</table>\n",
       "</div>"
      ],
      "text/plain": [
       "YEAR     2021     2050\n",
       "AGE                   \n",
       "0     4127525  4313446\n",
       "1     4127842  4319726\n",
       "2     4124416  4324259\n",
       "3     4116205  4326295\n",
       "4     4105035  4326735"
      ]
     },
     "execution_count": 28,
     "metadata": {},
     "output_type": "execute_result"
    }
   ],
   "source": [
    "yearCompare.head()"
   ]
  },
  {
   "cell_type": "code",
   "execution_count": 27,
   "metadata": {},
   "outputs": [
    {
     "data": {
      "text/plain": [
       "YEAR\n",
       "2021    334998398\n",
       "2050    388922201\n",
       "dtype: int64"
      ]
     },
     "execution_count": 27,
     "metadata": {},
     "output_type": "execute_result"
    }
   ],
   "source": [
    "yearCompareSum = yearCompare.sum(axis=0)\n",
    "yearCompareSum"
   ]
  },
  {
   "cell_type": "markdown",
   "metadata": {},
   "source": [
    "[DataFrame.div](https://pandas.pydata.org/docs/reference/api/pandas.DataFrame.div.html)"
   ]
  },
  {
   "cell_type": "code",
   "execution_count": 29,
   "metadata": {},
   "outputs": [
    {
     "data": {
      "image/png": "[encoded data removed]",
      "text/plain": [
       "<Figure size 432x288 with 1 Axes>"
      ]
     },
     "metadata": {
      "needs_background": "light"
     },
     "output_type": "display_data"
    }
   ],
   "source": [
    "(\n",
    "    yearCompare.div(yearCompareSum, axis=1)\n",
    "    .plot(kind='line')\n",
    ")\n",
    "\n",
    "plt.title(f'US age distribution for 2021 vs. 2050', loc='left')\n",
    "plt.xlabel('Age')\n",
    "plt.ylabel('% of population')\n",
    "plt.legend(title='')\n",
    "plt.show()"
   ]
  },
  {
   "cell_type": "markdown",
   "metadata": {},
   "source": [
    "#### How does this compare with the prior plot?\n",
    "This shows that on average, the population is aging. The original plot seemed to show more younger individuals in the out year, but that's a product of a larger overall population. We should observe the growth rate for the older population increasing, as a way to check our math."
   ]
  },
  {
   "cell_type": "markdown",
   "metadata": {},
   "source": [
    "### Let's create our growth rate plot"
   ]
  },
  {
   "cell_type": "code",
   "execution_count": 54,
   "metadata": {},
   "outputs": [
    {
     "data": {
      "text/plain": [
       "YEAR\n",
       "2016    29936901\n",
       "2017    30681158\n",
       "2018    32214078\n",
       "2019    33533118\n",
       "2020    34810000\n",
       "Name: POP, dtype: int64"
      ]
     },
     "execution_count": 54,
     "metadata": {},
     "output_type": "execute_result"
    }
   ],
   "source": [
    "pop85 = (\n",
    "    dfLong.query('AGE>70')\n",
    "    .groupby('YEAR')['POP']\n",
    "    .sum()\n",
    ")\n",
    "pop85.head()"
   ]
  },
  {
   "cell_type": "markdown",
   "metadata": {},
   "source": [
    "[DataFrame.shift](https://pandas.pydata.org/docs/reference/api/pandas.DataFrame.shift.html)"
   ]
  },
  {
   "cell_type": "code",
   "execution_count": 55,
   "metadata": {},
   "outputs": [
    {
     "data": {
      "text/plain": [
       "YEAR\n",
       "2016           NaN\n",
       "2017    29936901.0\n",
       "2018    30681158.0\n",
       "2019    32214078.0\n",
       "2020    33533118.0\n",
       "Name: POP, dtype: float64"
      ]
     },
     "execution_count": 55,
     "metadata": {},
     "output_type": "execute_result"
    }
   ],
   "source": [
    "pop85.head().shift(1)"
   ]
  },
  {
   "cell_type": "code",
   "execution_count": 56,
   "metadata": {},
   "outputs": [
    {
     "data": {
      "text/plain": [
       "YEAR\n",
       "2016         NaN\n",
       "2017    0.024861\n",
       "2018    0.049963\n",
       "2019    0.040946\n",
       "2020    0.038078\n",
       "Name: POP, dtype: float64"
      ]
     },
     "execution_count": 56,
     "metadata": {},
     "output_type": "execute_result"
    }
   ],
   "source": [
    "pop85Growth = ( pop85 / pop85.shift(1) ) - 1\n",
    "pop85Growth.head()"
   ]
  },
  {
   "cell_type": "code",
   "execution_count": 57,
   "metadata": {},
   "outputs": [
    {
     "data": {
      "image/png": "[encoded data removed]",
      "text/plain": [
       "<Figure size 432x288 with 1 Axes>"
      ]
     },
     "metadata": {
      "needs_background": "light"
     },
     "output_type": "display_data"
    }
   ],
   "source": [
    "pop85Growth.plot(kind='line')\n",
    "\n",
    "plt.title('Growth rate of 85+ population', loc='left')\n",
    "plt.show()"
   ]
  },
  {
   "cell_type": "markdown",
   "metadata": {},
   "source": [
    "__Growth rates help show the growth, but having a baseline, maybe the under 84 age group would be helpful to see the contrast.__"
   ]
  },
  {
   "cell_type": "code",
   "execution_count": 58,
   "metadata": {},
   "outputs": [
    {
     "data": {
      "image/png": "[encoded data removed]",
      "text/plain": [
       "<Figure size 432x288 with 1 Axes>"
      ]
     },
     "metadata": {
      "needs_background": "light"
     },
     "output_type": "display_data"
    }
   ],
   "source": [
    "popU84 = (\n",
    "    dfLong.query('AGE<70')\n",
    "    .groupby('YEAR')['POP'].sum()\n",
    ")\n",
    "\n",
    "popU84Growth = (popU84 / popU84.shift(1)) - 1\n",
    "\n",
    "pop85Growth.plot(kind='line')\n",
    "popU84Growth.plot(kind='line')\n",
    "plt.title('Growth rate 85+ population versus under 85 population', loc='left')\n",
    "plt.legend(['85 and over','Under 85'], title='Age Group')\n",
    "plt.show()"
   ]
  },
  {
   "cell_type": "markdown",
   "metadata": {},
   "source": [
    "## We can also look at different parts of the distribution over time?\n",
    "We can cut the data into bins, if you aren't familiar, you can look at the documentation:\n",
    "\n",
    "```python\n",
    "help(pd.cut)\n",
    "```\n",
    "\n",
    "[DataFrame.cut](https://pandas.pydata.org/docs/reference/api/pandas.cut.html)"
   ]
  },
  {
   "cell_type": "code",
   "execution_count": 37,
   "metadata": {},
   "outputs": [
    {
     "data": {
      "text/html": [
       "<div>\n",
       "<style scoped>\n",
       "    .dataframe tbody tr th:only-of-type {\n",
       "        vertical-align: middle;\n",
       "    }\n",
       "\n",
       "    .dataframe tbody tr th {\n",
       "        vertical-align: top;\n",
       "    }\n",
       "\n",
       "    .dataframe thead th {\n",
       "        text-align: right;\n",
       "    }\n",
       "</style>\n",
       "<table border=\"1\" class=\"dataframe\">\n",
       "  <thead>\n",
       "    <tr style=\"text-align: right;\">\n",
       "      <th></th>\n",
       "      <th>YEAR</th>\n",
       "      <th>POP</th>\n",
       "      <th>AGE</th>\n",
       "    </tr>\n",
       "  </thead>\n",
       "  <tbody>\n",
       "    <tr>\n",
       "      <th>count</th>\n",
       "      <td>4545.000000</td>\n",
       "      <td>4.545000e+03</td>\n",
       "      <td>4545.000000</td>\n",
       "    </tr>\n",
       "    <tr>\n",
       "      <th>mean</th>\n",
       "      <td>2038.000000</td>\n",
       "      <td>3.639750e+06</td>\n",
       "      <td>50.000000</td>\n",
       "    </tr>\n",
       "    <tr>\n",
       "      <th>std</th>\n",
       "      <td>12.988602</td>\n",
       "      <td>1.421186e+06</td>\n",
       "      <td>29.157967</td>\n",
       "    </tr>\n",
       "    <tr>\n",
       "      <th>min</th>\n",
       "      <td>2016.000000</td>\n",
       "      <td>4.489500e+04</td>\n",
       "      <td>0.000000</td>\n",
       "    </tr>\n",
       "    <tr>\n",
       "      <th>25%</th>\n",
       "      <td>2027.000000</td>\n",
       "      <td>3.233585e+06</td>\n",
       "      <td>25.000000</td>\n",
       "    </tr>\n",
       "    <tr>\n",
       "      <th>50%</th>\n",
       "      <td>2038.000000</td>\n",
       "      <td>4.237206e+06</td>\n",
       "      <td>50.000000</td>\n",
       "    </tr>\n",
       "    <tr>\n",
       "      <th>75%</th>\n",
       "      <td>2049.000000</td>\n",
       "      <td>4.595102e+06</td>\n",
       "      <td>75.000000</td>\n",
       "    </tr>\n",
       "    <tr>\n",
       "      <th>max</th>\n",
       "      <td>2060.000000</td>\n",
       "      <td>5.099747e+06</td>\n",
       "      <td>100.000000</td>\n",
       "    </tr>\n",
       "  </tbody>\n",
       "</table>\n",
       "</div>"
      ],
      "text/plain": [
       "              YEAR           POP          AGE\n",
       "count  4545.000000  4.545000e+03  4545.000000\n",
       "mean   2038.000000  3.639750e+06    50.000000\n",
       "std      12.988602  1.421186e+06    29.157967\n",
       "min    2016.000000  4.489500e+04     0.000000\n",
       "25%    2027.000000  3.233585e+06    25.000000\n",
       "50%    2038.000000  4.237206e+06    50.000000\n",
       "75%    2049.000000  4.595102e+06    75.000000\n",
       "max    2060.000000  5.099747e+06   100.000000"
      ]
     },
     "execution_count": 37,
     "metadata": {},
     "output_type": "execute_result"
    }
   ],
   "source": [
    "dfLong.describe()"
   ]
  },
  {
   "cell_type": "code",
   "execution_count": 38,
   "metadata": {},
   "outputs": [
    {
     "data": {
      "text/html": [
       "<div>\n",
       "<style scoped>\n",
       "    .dataframe tbody tr th:only-of-type {\n",
       "        vertical-align: middle;\n",
       "    }\n",
       "\n",
       "    .dataframe tbody tr th {\n",
       "        vertical-align: top;\n",
       "    }\n",
       "\n",
       "    .dataframe thead th {\n",
       "        text-align: right;\n",
       "    }\n",
       "</style>\n",
       "<table border=\"1\" class=\"dataframe\">\n",
       "  <thead>\n",
       "    <tr style=\"text-align: right;\">\n",
       "      <th></th>\n",
       "      <th>YEAR</th>\n",
       "      <th>POP</th>\n",
       "      <th>AGE</th>\n",
       "      <th>AGE_BINS</th>\n",
       "    </tr>\n",
       "  </thead>\n",
       "  <tbody>\n",
       "    <tr>\n",
       "      <th>0</th>\n",
       "      <td>2016</td>\n",
       "      <td>3970145</td>\n",
       "      <td>0</td>\n",
       "      <td>(-0.1, 16.667]</td>\n",
       "    </tr>\n",
       "    <tr>\n",
       "      <th>1</th>\n",
       "      <td>2017</td>\n",
       "      <td>4054035</td>\n",
       "      <td>0</td>\n",
       "      <td>(-0.1, 16.667]</td>\n",
       "    </tr>\n",
       "    <tr>\n",
       "      <th>2</th>\n",
       "      <td>2018</td>\n",
       "      <td>4075563</td>\n",
       "      <td>0</td>\n",
       "      <td>(-0.1, 16.667]</td>\n",
       "    </tr>\n",
       "    <tr>\n",
       "      <th>3</th>\n",
       "      <td>2019</td>\n",
       "      <td>4095614</td>\n",
       "      <td>0</td>\n",
       "      <td>(-0.1, 16.667]</td>\n",
       "    </tr>\n",
       "    <tr>\n",
       "      <th>4</th>\n",
       "      <td>2020</td>\n",
       "      <td>4113164</td>\n",
       "      <td>0</td>\n",
       "      <td>(-0.1, 16.667]</td>\n",
       "    </tr>\n",
       "    <tr>\n",
       "      <th>...</th>\n",
       "      <td>...</td>\n",
       "      <td>...</td>\n",
       "      <td>...</td>\n",
       "      <td>...</td>\n",
       "    </tr>\n",
       "    <tr>\n",
       "      <th>4540</th>\n",
       "      <td>2056</td>\n",
       "      <td>505951</td>\n",
       "      <td>100</td>\n",
       "      <td>(83.333, 100.0]</td>\n",
       "    </tr>\n",
       "    <tr>\n",
       "      <th>4541</th>\n",
       "      <td>2057</td>\n",
       "      <td>529280</td>\n",
       "      <td>100</td>\n",
       "      <td>(83.333, 100.0]</td>\n",
       "    </tr>\n",
       "    <tr>\n",
       "      <th>4542</th>\n",
       "      <td>2058</td>\n",
       "      <td>549748</td>\n",
       "      <td>100</td>\n",
       "      <td>(83.333, 100.0]</td>\n",
       "    </tr>\n",
       "    <tr>\n",
       "      <th>4543</th>\n",
       "      <td>2059</td>\n",
       "      <td>567379</td>\n",
       "      <td>100</td>\n",
       "      <td>(83.333, 100.0]</td>\n",
       "    </tr>\n",
       "    <tr>\n",
       "      <th>4544</th>\n",
       "      <td>2060</td>\n",
       "      <td>589382</td>\n",
       "      <td>100</td>\n",
       "      <td>(83.333, 100.0]</td>\n",
       "    </tr>\n",
       "  </tbody>\n",
       "</table>\n",
       "<p>4545 rows × 4 columns</p>\n",
       "</div>"
      ],
      "text/plain": [
       "      YEAR      POP  AGE         AGE_BINS\n",
       "0     2016  3970145    0   (-0.1, 16.667]\n",
       "1     2017  4054035    0   (-0.1, 16.667]\n",
       "2     2018  4075563    0   (-0.1, 16.667]\n",
       "3     2019  4095614    0   (-0.1, 16.667]\n",
       "4     2020  4113164    0   (-0.1, 16.667]\n",
       "...    ...      ...  ...              ...\n",
       "4540  2056   505951  100  (83.333, 100.0]\n",
       "4541  2057   529280  100  (83.333, 100.0]\n",
       "4542  2058   549748  100  (83.333, 100.0]\n",
       "4543  2059   567379  100  (83.333, 100.0]\n",
       "4544  2060   589382  100  (83.333, 100.0]\n",
       "\n",
       "[4545 rows x 4 columns]"
      ]
     },
     "execution_count": 38,
     "metadata": {},
     "output_type": "execute_result"
    }
   ],
   "source": [
    "dfLong['AGE_BINS'] = pd.cut(dfLong['AGE'], 6)\n",
    "dfLong"
   ]
  },
  {
   "cell_type": "code",
   "execution_count": 39,
   "metadata": {},
   "outputs": [
    {
     "data": {
      "text/plain": [
       "(-0.1, 16.667]      765\n",
       "(16.667, 33.333]    765\n",
       "(33.333, 50.0]      765\n",
       "(66.667, 83.333]    765\n",
       "(83.333, 100.0]     765\n",
       "(50.0, 66.667]      720\n",
       "Name: AGE_BINS, dtype: int64"
      ]
     },
     "execution_count": 39,
     "metadata": {},
     "output_type": "execute_result"
    }
   ],
   "source": [
    "dfLong['AGE_BINS'].value_counts()"
   ]
  },
  {
   "cell_type": "code",
   "execution_count": 40,
   "metadata": {},
   "outputs": [
    {
     "data": {
      "text/html": [
       "<div>\n",
       "<style scoped>\n",
       "    .dataframe tbody tr th:only-of-type {\n",
       "        vertical-align: middle;\n",
       "    }\n",
       "\n",
       "    .dataframe tbody tr th {\n",
       "        vertical-align: top;\n",
       "    }\n",
       "\n",
       "    .dataframe thead th {\n",
       "        text-align: right;\n",
       "    }\n",
       "</style>\n",
       "<table border=\"1\" class=\"dataframe\">\n",
       "  <thead>\n",
       "    <tr style=\"text-align: right;\">\n",
       "      <th>AGE_BINS</th>\n",
       "      <th>(-0.1, 16.667]</th>\n",
       "      <th>(16.667, 33.333]</th>\n",
       "      <th>(33.333, 50.0]</th>\n",
       "      <th>(50.0, 66.667]</th>\n",
       "      <th>(66.667, 83.333]</th>\n",
       "      <th>(83.333, 100.0]</th>\n",
       "    </tr>\n",
       "    <tr>\n",
       "      <th>YEAR</th>\n",
       "      <th></th>\n",
       "      <th></th>\n",
       "      <th></th>\n",
       "      <th></th>\n",
       "      <th></th>\n",
       "      <th></th>\n",
       "    </tr>\n",
       "  </thead>\n",
       "  <tbody>\n",
       "    <tr>\n",
       "      <th>2016</th>\n",
       "      <td>69437284</td>\n",
       "      <td>75384520</td>\n",
       "      <td>69890607</td>\n",
       "      <td>66065444</td>\n",
       "      <td>34960437</td>\n",
       "      <td>7389221</td>\n",
       "    </tr>\n",
       "    <tr>\n",
       "      <th>2017</th>\n",
       "      <td>69415971</td>\n",
       "      <td>75791378</td>\n",
       "      <td>70133567</td>\n",
       "      <td>66355511</td>\n",
       "      <td>36339901</td>\n",
       "      <td>7474856</td>\n",
       "    </tr>\n",
       "    <tr>\n",
       "      <th>2018</th>\n",
       "      <td>69468729</td>\n",
       "      <td>76202202</td>\n",
       "      <td>70418262</td>\n",
       "      <td>66518574</td>\n",
       "      <td>37748324</td>\n",
       "      <td>7535820</td>\n",
       "    </tr>\n",
       "    <tr>\n",
       "      <th>2019</th>\n",
       "      <td>69632283</td>\n",
       "      <td>76372627</td>\n",
       "      <td>70878017</td>\n",
       "      <td>66597581</td>\n",
       "      <td>39129523</td>\n",
       "      <td>7658809</td>\n",
       "    </tr>\n",
       "    <tr>\n",
       "      <th>2020</th>\n",
       "      <td>69787002</td>\n",
       "      <td>76588151</td>\n",
       "      <td>71252093</td>\n",
       "      <td>66649587</td>\n",
       "      <td>40584049</td>\n",
       "      <td>7778220</td>\n",
       "    </tr>\n",
       "  </tbody>\n",
       "</table>\n",
       "</div>"
      ],
      "text/plain": [
       "AGE_BINS  (-0.1, 16.667]  (16.667, 33.333]  (33.333, 50.0]  (50.0, 66.667]  \\\n",
       "YEAR                                                                         \n",
       "2016            69437284          75384520        69890607        66065444   \n",
       "2017            69415971          75791378        70133567        66355511   \n",
       "2018            69468729          76202202        70418262        66518574   \n",
       "2019            69632283          76372627        70878017        66597581   \n",
       "2020            69787002          76588151        71252093        66649587   \n",
       "\n",
       "AGE_BINS  (66.667, 83.333]  (83.333, 100.0]  \n",
       "YEAR                                         \n",
       "2016              34960437          7389221  \n",
       "2017              36339901          7474856  \n",
       "2018              37748324          7535820  \n",
       "2019              39129523          7658809  \n",
       "2020              40584049          7778220  "
      ]
     },
     "execution_count": 40,
     "metadata": {},
     "output_type": "execute_result"
    }
   ],
   "source": [
    "( dfLong\n",
    "    .pivot_table(index='YEAR', columns='AGE_BINS', values='POP', aggfunc='sum')\n",
    ").head()"
   ]
  },
  {
   "cell_type": "code",
   "execution_count": 41,
   "metadata": {},
   "outputs": [
    {
     "data": {
      "image/png": "[encoded data removed]",
      "text/plain": [
       "<Figure size 576x576 with 6 Axes>"
      ]
     },
     "metadata": {
      "needs_background": "light"
     },
     "output_type": "display_data"
    }
   ],
   "source": [
    "(\n",
    "    dfLong\n",
    "    .pivot_table(index='YEAR', columns='AGE_BINS', values='POP', aggfunc='sum')\n",
    "    .plot(kind='line', subplots=True, layout=(2,3), figsize=(8,8))\n",
    ")\n",
    "plt.show()"
   ]
  },
  {
   "cell_type": "markdown",
   "metadata": {},
   "source": [
    "This is interesting. Beginning in the mid-2020s into the early-2030s, some groups are actually experiencing declines in their population. It looks like there will also be unfettered growth in the youngest age groups."
   ]
  },
  {
   "cell_type": "markdown",
   "metadata": {},
   "source": [
    "__Let's peel the onion more. Let's look at which races may be driving some of these trends.__\n",
    "> Remember \"0 = All races (codes 1 through 6)  \""
   ]
  },
  {
   "cell_type": "code",
   "execution_count": 42,
   "metadata": {},
   "outputs": [],
   "source": [
    "raceFilter = [1,2,3,4,5,6]\n",
    "\n",
    "raceMap = {1:'White alone',\n",
    "           2:'Black alone',\n",
    "           3:'AIAN alone', \n",
    "           4:'Asian alone', \n",
    "           5:'NHPI alone', \n",
    "           6:'Two or More Races'\n",
    "          }"
   ]
  },
  {
   "cell_type": "code",
   "execution_count": 44,
   "metadata": {},
   "outputs": [
    {
     "data": {
      "text/html": [
       "<div>\n",
       "<style scoped>\n",
       "    .dataframe tbody tr th:only-of-type {\n",
       "        vertical-align: middle;\n",
       "    }\n",
       "\n",
       "    .dataframe tbody tr th {\n",
       "        vertical-align: top;\n",
       "    }\n",
       "\n",
       "    .dataframe thead th {\n",
       "        text-align: right;\n",
       "    }\n",
       "</style>\n",
       "<table border=\"1\" class=\"dataframe\">\n",
       "  <thead>\n",
       "    <tr style=\"text-align: right;\">\n",
       "      <th></th>\n",
       "      <th>YEAR</th>\n",
       "      <th>RACE</th>\n",
       "      <th>POP_AGE</th>\n",
       "      <th>POP</th>\n",
       "    </tr>\n",
       "  </thead>\n",
       "  <tbody>\n",
       "    <tr>\n",
       "      <th>0</th>\n",
       "      <td>2016</td>\n",
       "      <td>1</td>\n",
       "      <td>POP_0</td>\n",
       "      <td>2841126</td>\n",
       "    </tr>\n",
       "    <tr>\n",
       "      <th>1</th>\n",
       "      <td>2017</td>\n",
       "      <td>1</td>\n",
       "      <td>POP_0</td>\n",
       "      <td>2851648</td>\n",
       "    </tr>\n",
       "    <tr>\n",
       "      <th>2</th>\n",
       "      <td>2018</td>\n",
       "      <td>1</td>\n",
       "      <td>POP_0</td>\n",
       "      <td>2859491</td>\n",
       "    </tr>\n",
       "    <tr>\n",
       "      <th>3</th>\n",
       "      <td>2019</td>\n",
       "      <td>1</td>\n",
       "      <td>POP_0</td>\n",
       "      <td>2866210</td>\n",
       "    </tr>\n",
       "    <tr>\n",
       "      <th>4</th>\n",
       "      <td>2020</td>\n",
       "      <td>1</td>\n",
       "      <td>POP_0</td>\n",
       "      <td>2871107</td>\n",
       "    </tr>\n",
       "  </tbody>\n",
       "</table>\n",
       "</div>"
      ],
      "text/plain": [
       "   YEAR  RACE POP_AGE      POP\n",
       "0  2016     1   POP_0  2841126\n",
       "1  2017     1   POP_0  2851648\n",
       "2  2018     1   POP_0  2859491\n",
       "3  2019     1   POP_0  2866210\n",
       "4  2020     1   POP_0  2871107"
      ]
     },
     "execution_count": 44,
     "metadata": {},
     "output_type": "execute_result"
    }
   ],
   "source": [
    "dfLongRace = (\n",
    "    df.query(\"ORIGIN==0 and RACE==@raceFilter and SEX==0\")\n",
    "    .drop(columns=['ORIGIN','SEX','TOTAL_POP'])\n",
    "    .melt(id_vars=['YEAR','RACE'], var_name='POP_AGE', value_name='POP')\n",
    ")\n",
    "\n",
    "dfLongRace.head()"
   ]
  },
  {
   "cell_type": "code",
   "execution_count": 45,
   "metadata": {},
   "outputs": [
    {
     "data": {
      "text/html": [
       "<div>\n",
       "<style scoped>\n",
       "    .dataframe tbody tr th:only-of-type {\n",
       "        vertical-align: middle;\n",
       "    }\n",
       "\n",
       "    .dataframe tbody tr th {\n",
       "        vertical-align: top;\n",
       "    }\n",
       "\n",
       "    .dataframe thead th {\n",
       "        text-align: right;\n",
       "    }\n",
       "</style>\n",
       "<table border=\"1\" class=\"dataframe\">\n",
       "  <thead>\n",
       "    <tr style=\"text-align: right;\">\n",
       "      <th></th>\n",
       "      <th>YEAR</th>\n",
       "      <th>POP</th>\n",
       "      <th>RACE_DESC</th>\n",
       "      <th>AGE</th>\n",
       "    </tr>\n",
       "  </thead>\n",
       "  <tbody>\n",
       "    <tr>\n",
       "      <th>0</th>\n",
       "      <td>2016</td>\n",
       "      <td>2841126</td>\n",
       "      <td>White alone</td>\n",
       "      <td>0</td>\n",
       "    </tr>\n",
       "    <tr>\n",
       "      <th>1</th>\n",
       "      <td>2017</td>\n",
       "      <td>2851648</td>\n",
       "      <td>White alone</td>\n",
       "      <td>0</td>\n",
       "    </tr>\n",
       "    <tr>\n",
       "      <th>2</th>\n",
       "      <td>2018</td>\n",
       "      <td>2859491</td>\n",
       "      <td>White alone</td>\n",
       "      <td>0</td>\n",
       "    </tr>\n",
       "    <tr>\n",
       "      <th>3</th>\n",
       "      <td>2019</td>\n",
       "      <td>2866210</td>\n",
       "      <td>White alone</td>\n",
       "      <td>0</td>\n",
       "    </tr>\n",
       "    <tr>\n",
       "      <th>4</th>\n",
       "      <td>2020</td>\n",
       "      <td>2871107</td>\n",
       "      <td>White alone</td>\n",
       "      <td>0</td>\n",
       "    </tr>\n",
       "  </tbody>\n",
       "</table>\n",
       "</div>"
      ],
      "text/plain": [
       "   YEAR      POP    RACE_DESC  AGE\n",
       "0  2016  2841126  White alone    0\n",
       "1  2017  2851648  White alone    0\n",
       "2  2018  2859491  White alone    0\n",
       "3  2019  2866210  White alone    0\n",
       "4  2020  2871107  White alone    0"
      ]
     },
     "execution_count": 45,
     "metadata": {},
     "output_type": "execute_result"
    }
   ],
   "source": [
    "dfLongRace['RACE_DESC'] = dfLongRace['RACE'].map(raceMap)\n",
    "dfLongRace['AGE'] = dfLongRace['POP_AGE'].apply(lambda x: int(x.split('_')[1]))\n",
    "dfLongRace = dfLongRace.drop(columns=['POP_AGE', 'RACE'])\n",
    "\n",
    "dfLongRace.head()"
   ]
  },
  {
   "cell_type": "code",
   "execution_count": 46,
   "metadata": {},
   "outputs": [
    {
     "data": {
      "text/html": [
       "<div>\n",
       "<style scoped>\n",
       "    .dataframe tbody tr th:only-of-type {\n",
       "        vertical-align: middle;\n",
       "    }\n",
       "\n",
       "    .dataframe tbody tr th {\n",
       "        vertical-align: top;\n",
       "    }\n",
       "\n",
       "    .dataframe thead th {\n",
       "        text-align: right;\n",
       "    }\n",
       "</style>\n",
       "<table border=\"1\" class=\"dataframe\">\n",
       "  <thead>\n",
       "    <tr style=\"text-align: right;\">\n",
       "      <th>RACE_DESC</th>\n",
       "      <th>AIAN alone</th>\n",
       "      <th>Asian alone</th>\n",
       "      <th>Black alone</th>\n",
       "      <th>NHPI alone</th>\n",
       "      <th>Two or More Races</th>\n",
       "      <th>White alone</th>\n",
       "    </tr>\n",
       "    <tr>\n",
       "      <th>YEAR</th>\n",
       "      <th></th>\n",
       "      <th></th>\n",
       "      <th></th>\n",
       "      <th></th>\n",
       "      <th></th>\n",
       "      <th></th>\n",
       "    </tr>\n",
       "  </thead>\n",
       "  <tbody>\n",
       "    <tr>\n",
       "      <th>2016</th>\n",
       "      <td>4054649</td>\n",
       "      <td>18318522</td>\n",
       "      <td>43000691</td>\n",
       "      <td>771475</td>\n",
       "      <td>8479644</td>\n",
       "      <td>248502532</td>\n",
       "    </tr>\n",
       "    <tr>\n",
       "      <th>2017</th>\n",
       "      <td>4099002</td>\n",
       "      <td>18735744</td>\n",
       "      <td>43430554</td>\n",
       "      <td>781930</td>\n",
       "      <td>8744044</td>\n",
       "      <td>249719910</td>\n",
       "    </tr>\n",
       "    <tr>\n",
       "      <th>2018</th>\n",
       "      <td>4143387</td>\n",
       "      <td>19156948</td>\n",
       "      <td>43863142</td>\n",
       "      <td>792430</td>\n",
       "      <td>9013826</td>\n",
       "      <td>250922178</td>\n",
       "    </tr>\n",
       "    <tr>\n",
       "      <th>2019</th>\n",
       "      <td>4187826</td>\n",
       "      <td>19581502</td>\n",
       "      <td>44298022</td>\n",
       "      <td>802961</td>\n",
       "      <td>9288998</td>\n",
       "      <td>252109531</td>\n",
       "    </tr>\n",
       "    <tr>\n",
       "      <th>2020</th>\n",
       "      <td>4232241</td>\n",
       "      <td>20009001</td>\n",
       "      <td>44734497</td>\n",
       "      <td>813468</td>\n",
       "      <td>9569688</td>\n",
       "      <td>253280207</td>\n",
       "    </tr>\n",
       "  </tbody>\n",
       "</table>\n",
       "</div>"
      ],
      "text/plain": [
       "RACE_DESC  AIAN alone  Asian alone  Black alone  NHPI alone  \\\n",
       "YEAR                                                          \n",
       "2016          4054649     18318522     43000691      771475   \n",
       "2017          4099002     18735744     43430554      781930   \n",
       "2018          4143387     19156948     43863142      792430   \n",
       "2019          4187826     19581502     44298022      802961   \n",
       "2020          4232241     20009001     44734497      813468   \n",
       "\n",
       "RACE_DESC  Two or More Races  White alone  \n",
       "YEAR                                       \n",
       "2016                 8479644    248502532  \n",
       "2017                 8744044    249719910  \n",
       "2018                 9013826    250922178  \n",
       "2019                 9288998    252109531  \n",
       "2020                 9569688    253280207  "
      ]
     },
     "execution_count": 46,
     "metadata": {},
     "output_type": "execute_result"
    }
   ],
   "source": [
    "dfRacePivot = dfLongRace.pivot_table(index='YEAR', columns='RACE_DESC', values='POP', aggfunc='sum')\n",
    "dfRacePivot.head()"
   ]
  },
  {
   "cell_type": "code",
   "execution_count": 49,
   "metadata": {},
   "outputs": [
    {
     "data": {
      "text/plain": [
       "RACE_DESC\n",
       "AIAN alone             4054649\n",
       "Asian alone           18318522\n",
       "Black alone           43000691\n",
       "NHPI alone              771475\n",
       "Two or More Races      8479644\n",
       "White alone          248502532\n",
       "Name: 2016, dtype: int64"
      ]
     },
     "execution_count": 49,
     "metadata": {},
     "output_type": "execute_result"
    }
   ],
   "source": [
    "dfRacePivot.iloc[0,:] # 2016"
   ]
  },
  {
   "cell_type": "code",
   "execution_count": 50,
   "metadata": {},
   "outputs": [
    {
     "data": {
      "image/png": "[encoded data removed]",
      "text/plain": [
       "<Figure size 432x288 with 1 Axes>"
      ]
     },
     "metadata": {
      "needs_background": "light"
     },
     "output_type": "display_data"
    }
   ],
   "source": [
    "\n",
    "(dfRacePivot/dfRacePivot.iloc[0,:]).plot(kind='line')\n",
    "plt.title('Population growth by race, indexed to 100 in 2016')\n",
    "plt.legend(title='')\n",
    "plt.xlabel('')\n",
    "plt.show()"
   ]
  },
  {
   "cell_type": "markdown",
   "metadata": {},
   "source": [
    "__Looks like diversity is expected to increase in the United States, but what about how that translates to the 85+ population?__"
   ]
  },
  {
   "cell_type": "code",
   "execution_count": 51,
   "metadata": {},
   "outputs": [
    {
     "data": {
      "text/html": [
       "<div>\n",
       "<style scoped>\n",
       "    .dataframe tbody tr th:only-of-type {\n",
       "        vertical-align: middle;\n",
       "    }\n",
       "\n",
       "    .dataframe tbody tr th {\n",
       "        vertical-align: top;\n",
       "    }\n",
       "\n",
       "    .dataframe thead th {\n",
       "        text-align: right;\n",
       "    }\n",
       "</style>\n",
       "<table border=\"1\" class=\"dataframe\">\n",
       "  <thead>\n",
       "    <tr style=\"text-align: right;\">\n",
       "      <th></th>\n",
       "      <th>YEAR</th>\n",
       "      <th>POP</th>\n",
       "      <th>RACE_DESC</th>\n",
       "      <th>AGE</th>\n",
       "    </tr>\n",
       "  </thead>\n",
       "  <tbody>\n",
       "    <tr>\n",
       "      <th>0</th>\n",
       "      <td>2016</td>\n",
       "      <td>2841126</td>\n",
       "      <td>White alone</td>\n",
       "      <td>0</td>\n",
       "    </tr>\n",
       "    <tr>\n",
       "      <th>1</th>\n",
       "      <td>2017</td>\n",
       "      <td>2851648</td>\n",
       "      <td>White alone</td>\n",
       "      <td>0</td>\n",
       "    </tr>\n",
       "    <tr>\n",
       "      <th>2</th>\n",
       "      <td>2018</td>\n",
       "      <td>2859491</td>\n",
       "      <td>White alone</td>\n",
       "      <td>0</td>\n",
       "    </tr>\n",
       "    <tr>\n",
       "      <th>3</th>\n",
       "      <td>2019</td>\n",
       "      <td>2866210</td>\n",
       "      <td>White alone</td>\n",
       "      <td>0</td>\n",
       "    </tr>\n",
       "    <tr>\n",
       "      <th>4</th>\n",
       "      <td>2020</td>\n",
       "      <td>2871107</td>\n",
       "      <td>White alone</td>\n",
       "      <td>0</td>\n",
       "    </tr>\n",
       "  </tbody>\n",
       "</table>\n",
       "</div>"
      ],
      "text/plain": [
       "   YEAR      POP    RACE_DESC  AGE\n",
       "0  2016  2841126  White alone    0\n",
       "1  2017  2851648  White alone    0\n",
       "2  2018  2859491  White alone    0\n",
       "3  2019  2866210  White alone    0\n",
       "4  2020  2871107  White alone    0"
      ]
     },
     "execution_count": 51,
     "metadata": {},
     "output_type": "execute_result"
    }
   ],
   "source": [
    "dfLongRace.head()"
   ]
  },
  {
   "cell_type": "code",
   "execution_count": 52,
   "metadata": {},
   "outputs": [
    {
     "data": {
      "text/html": [
       "<div>\n",
       "<style scoped>\n",
       "    .dataframe tbody tr th:only-of-type {\n",
       "        vertical-align: middle;\n",
       "    }\n",
       "\n",
       "    .dataframe tbody tr th {\n",
       "        vertical-align: top;\n",
       "    }\n",
       "\n",
       "    .dataframe thead th {\n",
       "        text-align: right;\n",
       "    }\n",
       "</style>\n",
       "<table border=\"1\" class=\"dataframe\">\n",
       "  <thead>\n",
       "    <tr style=\"text-align: right;\">\n",
       "      <th>RACE_DESC</th>\n",
       "      <th>AIAN alone</th>\n",
       "      <th>Asian alone</th>\n",
       "      <th>Black alone</th>\n",
       "      <th>NHPI alone</th>\n",
       "      <th>Two or More Races</th>\n",
       "      <th>White alone</th>\n",
       "    </tr>\n",
       "    <tr>\n",
       "      <th>YEAR</th>\n",
       "      <th></th>\n",
       "      <th></th>\n",
       "      <th></th>\n",
       "      <th></th>\n",
       "      <th></th>\n",
       "      <th></th>\n",
       "    </tr>\n",
       "  </thead>\n",
       "  <tbody>\n",
       "    <tr>\n",
       "      <th>2016</th>\n",
       "      <td>29742</td>\n",
       "      <td>239911</td>\n",
       "      <td>485376</td>\n",
       "      <td>5054</td>\n",
       "      <td>42288</td>\n",
       "      <td>5577960</td>\n",
       "    </tr>\n",
       "    <tr>\n",
       "      <th>2017</th>\n",
       "      <td>30802</td>\n",
       "      <td>244130</td>\n",
       "      <td>495084</td>\n",
       "      <td>5230</td>\n",
       "      <td>43574</td>\n",
       "      <td>5649085</td>\n",
       "    </tr>\n",
       "    <tr>\n",
       "      <th>2018</th>\n",
       "      <td>31997</td>\n",
       "      <td>249924</td>\n",
       "      <td>507297</td>\n",
       "      <td>5428</td>\n",
       "      <td>44858</td>\n",
       "      <td>5699802</td>\n",
       "    </tr>\n",
       "    <tr>\n",
       "      <th>2019</th>\n",
       "      <td>33121</td>\n",
       "      <td>255306</td>\n",
       "      <td>519467</td>\n",
       "      <td>5705</td>\n",
       "      <td>46299</td>\n",
       "      <td>5730516</td>\n",
       "    </tr>\n",
       "    <tr>\n",
       "      <th>2020</th>\n",
       "      <td>34795</td>\n",
       "      <td>263064</td>\n",
       "      <td>536214</td>\n",
       "      <td>6003</td>\n",
       "      <td>48142</td>\n",
       "      <td>5812662</td>\n",
       "    </tr>\n",
       "  </tbody>\n",
       "</table>\n",
       "</div>"
      ],
      "text/plain": [
       "RACE_DESC  AIAN alone  Asian alone  Black alone  NHPI alone  \\\n",
       "YEAR                                                          \n",
       "2016            29742       239911       485376        5054   \n",
       "2017            30802       244130       495084        5230   \n",
       "2018            31997       249924       507297        5428   \n",
       "2019            33121       255306       519467        5705   \n",
       "2020            34795       263064       536214        6003   \n",
       "\n",
       "RACE_DESC  Two or More Races  White alone  \n",
       "YEAR                                       \n",
       "2016                   42288      5577960  \n",
       "2017                   43574      5649085  \n",
       "2018                   44858      5699802  \n",
       "2019                   46299      5730516  \n",
       "2020                   48142      5812662  "
      ]
     },
     "execution_count": 52,
     "metadata": {},
     "output_type": "execute_result"
    }
   ],
   "source": [
    "dfRacePivot = (\n",
    "    dfLongRace.query('AGE >= 85')\n",
    "    .pivot_table(index='YEAR', columns='RACE_DESC', values='POP', aggfunc='sum')\n",
    ")\n",
    "\n",
    "dfRacePivot.head()"
   ]
  },
  {
   "cell_type": "code",
   "execution_count": 53,
   "metadata": {},
   "outputs": [
    {
     "data": {
      "image/png": "[encoded data removed]",
      "text/plain": [
       "<Figure size 720x432 with 1 Axes>"
      ]
     },
     "metadata": {
      "needs_background": "light"
     },
     "output_type": "display_data"
    }
   ],
   "source": [
    "(dfRacePivot/dfRacePivot.shift(1) - 1).plot(figsize=(10,6))\n",
    "plt.legend(title='')\n",
    "plt.xlabel('')\n",
    "plt.ylabel('')\n",
    "plt.title('Projected 85+ Population Growth Rates by Race', loc='left')\n",
    "plt.show()"
   ]
  },
  {
   "cell_type": "code",
   "execution_count": null,
   "metadata": {},
   "outputs": [],
   "source": []
  }
 ],
 "metadata": {
  "kernelspec": {
   "display_name": "Python 3",
   "language": "python",
   "name": "python3"
  },
  "language_info": {
   "codemirror_mode": {
    "name": "ipython",
    "version": 3
   },
   "file_extension": ".py",
   "mimetype": "text/x-python",
   "name": "python",
   "nbconvert_exporter": "python",
   "pygments_lexer": "ipython3",
   "version": "3.8.8"
  },
  "toc": {
   "base_numbering": 1,
   "nav_menu": {},
   "number_sections": false,
   "sideBar": true,
   "skip_h1_title": false,
   "title_cell": "Table of Contents",
   "title_sidebar": "Contents",
   "toc_cell": false,
   "toc_position": {
    "height": "calc(100% - 180px)",
    "left": "10px",
    "top": "150px",
    "width": "277.594px"
   },
   "toc_section_display": true,
   "toc_window_display": false
  }
 },
 "nbformat": 4,
 "nbformat_minor": 4
}
