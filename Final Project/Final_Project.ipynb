{
 "cells": [
  {
   "cell_type": "markdown",
   "id": "318de7cb",
   "metadata": {
    "id": "318de7cb"
   },
   "source": [
    "# Final Project\n"
   ]
  },
  {
   "cell_type": "markdown",
   "id": "7ca89347",
   "metadata": {},
   "source": [
    "## Team Members:\n",
    "* Neha Nooka(OU93490)\n",
    "* Rutuja Karad(QU05893)"
   ]
  },
  {
   "cell_type": "code",
   "execution_count": 2,
   "id": "4b8bb543",
   "metadata": {},
   "outputs": [],
   "source": [
    "import warnings\n",
    "warnings.filterwarnings('ignore')"
   ]
  },
  {
   "cell_type": "code",
   "execution_count": 3,
   "id": "4089dbd4",
   "metadata": {
    "id": "4089dbd4"
   },
   "outputs": [],
   "source": [
    "import numpy as np\n",
    "import pandas as pd\n",
    "import matplotlib.pyplot as plt\n",
    "import seaborn as sns"
   ]
  },
  {
   "cell_type": "code",
   "execution_count": 4,
   "id": "205eaa68",
   "metadata": {},
   "outputs": [],
   "source": [
    "df_X = pd.read_csv('https://raw.githubusercontent.com/msaricaumbc/DS_data/master/ds602/final/X_train.csv')\n",
    "df_Y = pd.read_csv('https://raw.githubusercontent.com/msaricaumbc/DS_data/master/ds602/final/y_train.csv')"
   ]
  },
  {
   "cell_type": "code",
   "execution_count": 5,
   "id": "f92939d5",
   "metadata": {
    "id": "f92939d5"
   },
   "outputs": [],
   "source": [
    "Final_X = pd.read_csv('https://raw.githubusercontent.com/msaricaumbc/DS_data/master/ds602/final/X_final.csv')\n",
    "Final_Y = pd.read_csv('https://raw.githubusercontent.com/msaricaumbc/DS_data/master/ds602/final/y_final.csv')"
   ]
  }
 ],
 "metadata": {
  "colab": {
   "provenance": []
  },
  "kernelspec": {
   "display_name": "Python 3 (ipykernel)",
   "language": "python",
   "name": "python3"
  },
  "language_info": {
   "codemirror_mode": {
    "name": "ipython",
    "version": 3
   },
   "file_extension": ".py",
   "mimetype": "text/x-python",
   "name": "python",
   "nbconvert_exporter": "python",
   "pygments_lexer": "ipython3",
   "version": "3.9.13"
  },
  "toc": {
   "base_numbering": 1,
   "nav_menu": {},
   "number_sections": false,
   "sideBar": true,
   "skip_h1_title": false,
   "title_cell": "Table of Contents",
   "title_sidebar": "Contents",
   "toc_cell": false,
   "toc_position": {},
   "toc_section_display": true,
   "toc_window_display": false
  }
 },
 "nbformat": 4,
 "nbformat_minor": 5
}
