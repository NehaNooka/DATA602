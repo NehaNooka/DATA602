{
 "cells": [
  {
   "cell_type": "markdown",
   "id": "9a9ec15d",
   "metadata": {},
   "source": [
    "# Homework 12\n",
    "\n",
    "https://scikit-learn.org/0.15/modules/scaling_strategies.html#incremental-learning\n",
    "\n",
    "* Implement a mini batch functionality to train a regressor.\n",
    "    - (Optional) If anyone want to do this in a pipeline can do this: https://koaning.github.io/tokenwiser/api/pipeline.html\n",
    "\n",
    "* Save model, load the model again and test it on `X_test` __Do NOT commit the pickle file__"
   ]
  },
  {
   "cell_type": "code",
   "execution_count": 1,
   "id": "c32e5a2d",
   "metadata": {},
   "outputs": [],
   "source": [
    "import pandas as pd\n",
    "import numpy as np\n",
    "import matplotlib.pyplot as plt"
   ]
  },
  {
   "cell_type": "code",
   "execution_count": 2,
   "id": "5a6e0532",
   "metadata": {},
   "outputs": [],
   "source": [
    "def test_df():\n",
    "    df = pd.read_csv('https://raw.githubusercontent.com/msaricaumbc/DS_data/master/ds602/car_prices/car_prices.csv', low_memory=False)\n",
    "\n",
    "    df = df.sample(5000, random_state=100).reset_index(drop=True)\n",
    "    \n",
    "    y = df['sellingprice']\n",
    "    df.drop('sellingprice', axis=1, inplace=True)\n",
    "    X = df\n",
    "    \n",
    "    return X,y\n",
    "\n",
    "def partial_df():\n",
    "    df = pd.read_csv('https://raw.githubusercontent.com/msaricaumbc/DS_data/master/ds602/car_prices/car_prices.csv', low_memory=False)\n",
    "   \n",
    "    while(True):\n",
    "        yield df.sample(100).reset_index(drop=True)\n",
    "        \n",
    "gen = partial_df()"
   ]
  },
  {
   "cell_type": "code",
   "execution_count": 3,
   "id": "325a5ad4",
   "metadata": {},
   "outputs": [],
   "source": [
    "X_test, y_test = test_df()"
   ]
  },
  {
   "cell_type": "code",
   "execution_count": 4,
   "id": "45bd3434",
   "metadata": {},
   "outputs": [],
   "source": [
    "# each time you call this you will get a new slice of the dataframe.\n",
    "data=next(gen)"
   ]
  },
  {
   "cell_type": "code",
   "execution_count": 5,
   "id": "99509d8d",
   "metadata": {},
   "outputs": [
    {
     "data": {
      "text/html": [
       "<div>\n",
       "<style scoped>\n",
       "    .dataframe tbody tr th:only-of-type {\n",
       "        vertical-align: middle;\n",
       "    }\n",
       "\n",
       "    .dataframe tbody tr th {\n",
       "        vertical-align: top;\n",
       "    }\n",
       "\n",
       "    .dataframe thead th {\n",
       "        text-align: right;\n",
       "    }\n",
       "</style>\n",
       "<table border=\"1\" class=\"dataframe\">\n",
       "  <thead>\n",
       "    <tr style=\"text-align: right;\">\n",
       "      <th></th>\n",
       "      <th>year</th>\n",
       "      <th>make</th>\n",
       "      <th>model</th>\n",
       "      <th>trim</th>\n",
       "      <th>body</th>\n",
       "      <th>transmission</th>\n",
       "      <th>vin</th>\n",
       "      <th>state</th>\n",
       "      <th>condition</th>\n",
       "      <th>odometer</th>\n",
       "      <th>color</th>\n",
       "      <th>interior</th>\n",
       "      <th>seller</th>\n",
       "      <th>mmr</th>\n",
       "      <th>sellingprice</th>\n",
       "      <th>saledate</th>\n",
       "    </tr>\n",
       "  </thead>\n",
       "  <tbody>\n",
       "    <tr>\n",
       "      <th>0</th>\n",
       "      <td>2010</td>\n",
       "      <td>Buick</td>\n",
       "      <td>Enclave</td>\n",
       "      <td>CXL1</td>\n",
       "      <td>suv</td>\n",
       "      <td>automatic</td>\n",
       "      <td>5galvbed7aj248183</td>\n",
       "      <td>mn</td>\n",
       "      <td>3.5</td>\n",
       "      <td>71061.0</td>\n",
       "      <td>black</td>\n",
       "      <td>tan</td>\n",
       "      <td>wheel way gm</td>\n",
       "      <td>18100</td>\n",
       "      <td>18900</td>\n",
       "      <td>Thu Jun 04 2015 03:30:00 GMT-0700 (PDT)</td>\n",
       "    </tr>\n",
       "    <tr>\n",
       "      <th>1</th>\n",
       "      <td>2010</td>\n",
       "      <td>Chevrolet</td>\n",
       "      <td>Camaro</td>\n",
       "      <td>1LT</td>\n",
       "      <td>Coupe</td>\n",
       "      <td>automatic</td>\n",
       "      <td>2g1fb1ev8a9198082</td>\n",
       "      <td>fl</td>\n",
       "      <td>3.4</td>\n",
       "      <td>55312.0</td>\n",
       "      <td>green</td>\n",
       "      <td>black</td>\n",
       "      <td>suntrust bank</td>\n",
       "      <td>14750</td>\n",
       "      <td>13900</td>\n",
       "      <td>Wed Jan 21 2015 01:10:00 GMT-0800 (PST)</td>\n",
       "    </tr>\n",
       "    <tr>\n",
       "      <th>2</th>\n",
       "      <td>2012</td>\n",
       "      <td>Nissan</td>\n",
       "      <td>Altima</td>\n",
       "      <td>2.5 S</td>\n",
       "      <td>sedan</td>\n",
       "      <td>automatic</td>\n",
       "      <td>1n4al2ap7cc245406</td>\n",
       "      <td>il</td>\n",
       "      <td>3.1</td>\n",
       "      <td>43614.0</td>\n",
       "      <td>gray</td>\n",
       "      <td>gray</td>\n",
       "      <td>nissan-infiniti lt</td>\n",
       "      <td>11050</td>\n",
       "      <td>11000</td>\n",
       "      <td>Thu Jun 11 2015 03:00:00 GMT-0700 (PDT)</td>\n",
       "    </tr>\n",
       "    <tr>\n",
       "      <th>3</th>\n",
       "      <td>2006</td>\n",
       "      <td>Volkswagen</td>\n",
       "      <td>Passat</td>\n",
       "      <td>2.0T</td>\n",
       "      <td>Sedan</td>\n",
       "      <td>automatic</td>\n",
       "      <td>wvwak93c86p204344</td>\n",
       "      <td>fl</td>\n",
       "      <td>2</td>\n",
       "      <td>145174.0</td>\n",
       "      <td>blue</td>\n",
       "      <td>—</td>\n",
       "      <td>capital auto auction</td>\n",
       "      <td>3275</td>\n",
       "      <td>3100</td>\n",
       "      <td>Tue Mar 03 2015 01:00:00 GMT-0800 (PST)</td>\n",
       "    </tr>\n",
       "    <tr>\n",
       "      <th>4</th>\n",
       "      <td>2009</td>\n",
       "      <td>Honda</td>\n",
       "      <td>Civic</td>\n",
       "      <td>Hybrid</td>\n",
       "      <td>Sedan</td>\n",
       "      <td>automatic</td>\n",
       "      <td>jhmfa36259s007480</td>\n",
       "      <td>la</td>\n",
       "      <td>3.7</td>\n",
       "      <td>84425.0</td>\n",
       "      <td>blue</td>\n",
       "      <td>gray</td>\n",
       "      <td>neighbors fcu</td>\n",
       "      <td>7400</td>\n",
       "      <td>7200</td>\n",
       "      <td>Wed Jan 21 2015 03:00:00 GMT-0800 (PST)</td>\n",
       "    </tr>\n",
       "    <tr>\n",
       "      <th>...</th>\n",
       "      <td>...</td>\n",
       "      <td>...</td>\n",
       "      <td>...</td>\n",
       "      <td>...</td>\n",
       "      <td>...</td>\n",
       "      <td>...</td>\n",
       "      <td>...</td>\n",
       "      <td>...</td>\n",
       "      <td>...</td>\n",
       "      <td>...</td>\n",
       "      <td>...</td>\n",
       "      <td>...</td>\n",
       "      <td>...</td>\n",
       "      <td>...</td>\n",
       "      <td>...</td>\n",
       "      <td>...</td>\n",
       "    </tr>\n",
       "    <tr>\n",
       "      <th>95</th>\n",
       "      <td>2001</td>\n",
       "      <td>Mitsubishi</td>\n",
       "      <td>Galant</td>\n",
       "      <td>ES</td>\n",
       "      <td>Sedan</td>\n",
       "      <td>automatic</td>\n",
       "      <td>4a3aa46g41e074679</td>\n",
       "      <td>oh</td>\n",
       "      <td>1.9</td>\n",
       "      <td>182325.0</td>\n",
       "      <td>white</td>\n",
       "      <td>gray</td>\n",
       "      <td>dt inventory</td>\n",
       "      <td>825</td>\n",
       "      <td>750</td>\n",
       "      <td>Thu Feb 26 2015 01:00:00 GMT-0800 (PST)</td>\n",
       "    </tr>\n",
       "    <tr>\n",
       "      <th>96</th>\n",
       "      <td>2006</td>\n",
       "      <td>Ford</td>\n",
       "      <td>Explorer</td>\n",
       "      <td>Eddie Bauer</td>\n",
       "      <td>SUV</td>\n",
       "      <td>automatic</td>\n",
       "      <td>1fmeu64e76ua33934</td>\n",
       "      <td>tx</td>\n",
       "      <td>2.9</td>\n",
       "      <td>148555.0</td>\n",
       "      <td>blue</td>\n",
       "      <td>brown</td>\n",
       "      <td>wells fargo dealer services</td>\n",
       "      <td>5025</td>\n",
       "      <td>4500</td>\n",
       "      <td>Mon Dec 22 2014 10:00:00 GMT-0800 (PST)</td>\n",
       "    </tr>\n",
       "    <tr>\n",
       "      <th>97</th>\n",
       "      <td>2013</td>\n",
       "      <td>Dodge</td>\n",
       "      <td>Grand Caravan</td>\n",
       "      <td>SE</td>\n",
       "      <td>Minivan</td>\n",
       "      <td>NaN</td>\n",
       "      <td>2c4rdgbg1dr723611</td>\n",
       "      <td>fl</td>\n",
       "      <td>3.4</td>\n",
       "      <td>37554.0</td>\n",
       "      <td>red</td>\n",
       "      <td>gray</td>\n",
       "      <td>ez rent a car inc</td>\n",
       "      <td>13400</td>\n",
       "      <td>12300</td>\n",
       "      <td>Tue Feb 03 2015 01:00:00 GMT-0800 (PST)</td>\n",
       "    </tr>\n",
       "    <tr>\n",
       "      <th>98</th>\n",
       "      <td>2008</td>\n",
       "      <td>Cadillac</td>\n",
       "      <td>Escalade ESV</td>\n",
       "      <td>Base</td>\n",
       "      <td>suv</td>\n",
       "      <td>NaN</td>\n",
       "      <td>1gyfk668x8r247130</td>\n",
       "      <td>nc</td>\n",
       "      <td>2.5</td>\n",
       "      <td>118820.0</td>\n",
       "      <td>white</td>\n",
       "      <td>—</td>\n",
       "      <td>hendrick chrysler jeep</td>\n",
       "      <td>19000</td>\n",
       "      <td>22000</td>\n",
       "      <td>Mon Jun 15 2015 02:15:00 GMT-0700 (PDT)</td>\n",
       "    </tr>\n",
       "    <tr>\n",
       "      <th>99</th>\n",
       "      <td>2006</td>\n",
       "      <td>Cadillac</td>\n",
       "      <td>SRX</td>\n",
       "      <td>V6</td>\n",
       "      <td>SUV</td>\n",
       "      <td>automatic</td>\n",
       "      <td>1gyee637960215513</td>\n",
       "      <td>mn</td>\n",
       "      <td>3.6</td>\n",
       "      <td>113964.0</td>\n",
       "      <td>white</td>\n",
       "      <td>tan</td>\n",
       "      <td>santander consumer</td>\n",
       "      <td>5100</td>\n",
       "      <td>4700</td>\n",
       "      <td>Thu Feb 05 2015 02:45:00 GMT-0800 (PST)</td>\n",
       "    </tr>\n",
       "  </tbody>\n",
       "</table>\n",
       "<p>100 rows × 16 columns</p>\n",
       "</div>"
      ],
      "text/plain": [
       "    year        make          model         trim     body transmission  \\\n",
       "0   2010       Buick        Enclave         CXL1      suv    automatic   \n",
       "1   2010   Chevrolet         Camaro          1LT    Coupe    automatic   \n",
       "2   2012      Nissan         Altima        2.5 S    sedan    automatic   \n",
       "3   2006  Volkswagen         Passat         2.0T    Sedan    automatic   \n",
       "4   2009       Honda          Civic       Hybrid    Sedan    automatic   \n",
       "..   ...         ...            ...          ...      ...          ...   \n",
       "95  2001  Mitsubishi         Galant           ES    Sedan    automatic   \n",
       "96  2006        Ford       Explorer  Eddie Bauer      SUV    automatic   \n",
       "97  2013       Dodge  Grand Caravan           SE  Minivan          NaN   \n",
       "98  2008    Cadillac   Escalade ESV         Base      suv          NaN   \n",
       "99  2006    Cadillac            SRX           V6      SUV    automatic   \n",
       "\n",
       "                  vin state condition  odometer  color interior  \\\n",
       "0   5galvbed7aj248183    mn       3.5   71061.0  black      tan   \n",
       "1   2g1fb1ev8a9198082    fl       3.4   55312.0  green    black   \n",
       "2   1n4al2ap7cc245406    il       3.1   43614.0   gray     gray   \n",
       "3   wvwak93c86p204344    fl         2  145174.0   blue        —   \n",
       "4   jhmfa36259s007480    la       3.7   84425.0   blue     gray   \n",
       "..                ...   ...       ...       ...    ...      ...   \n",
       "95  4a3aa46g41e074679    oh       1.9  182325.0  white     gray   \n",
       "96  1fmeu64e76ua33934    tx       2.9  148555.0   blue    brown   \n",
       "97  2c4rdgbg1dr723611    fl       3.4   37554.0    red     gray   \n",
       "98  1gyfk668x8r247130    nc       2.5  118820.0  white        —   \n",
       "99  1gyee637960215513    mn       3.6  113964.0  white      tan   \n",
       "\n",
       "                         seller    mmr  sellingprice  \\\n",
       "0                  wheel way gm  18100         18900   \n",
       "1                 suntrust bank  14750         13900   \n",
       "2            nissan-infiniti lt  11050         11000   \n",
       "3          capital auto auction   3275          3100   \n",
       "4                 neighbors fcu   7400          7200   \n",
       "..                          ...    ...           ...   \n",
       "95                 dt inventory    825           750   \n",
       "96  wells fargo dealer services   5025          4500   \n",
       "97            ez rent a car inc  13400         12300   \n",
       "98       hendrick chrysler jeep  19000         22000   \n",
       "99           santander consumer   5100          4700   \n",
       "\n",
       "                                   saledate  \n",
       "0   Thu Jun 04 2015 03:30:00 GMT-0700 (PDT)  \n",
       "1   Wed Jan 21 2015 01:10:00 GMT-0800 (PST)  \n",
       "2   Thu Jun 11 2015 03:00:00 GMT-0700 (PDT)  \n",
       "3   Tue Mar 03 2015 01:00:00 GMT-0800 (PST)  \n",
       "4   Wed Jan 21 2015 03:00:00 GMT-0800 (PST)  \n",
       "..                                      ...  \n",
       "95  Thu Feb 26 2015 01:00:00 GMT-0800 (PST)  \n",
       "96  Mon Dec 22 2014 10:00:00 GMT-0800 (PST)  \n",
       "97  Tue Feb 03 2015 01:00:00 GMT-0800 (PST)  \n",
       "98  Mon Jun 15 2015 02:15:00 GMT-0700 (PDT)  \n",
       "99  Thu Feb 05 2015 02:45:00 GMT-0800 (PST)  \n",
       "\n",
       "[100 rows x 16 columns]"
      ]
     },
     "execution_count": 5,
     "metadata": {},
     "output_type": "execute_result"
    }
   ],
   "source": [
    "data"
   ]
  },
  {
   "cell_type": "code",
   "execution_count": 6,
   "id": "9ec533fc",
   "metadata": {},
   "outputs": [],
   "source": [
    "y = data['sellingprice']\n",
    "data.drop('sellingprice', axis=1, inplace=True)\n",
    "X = data"
   ]
  },
  {
   "cell_type": "code",
   "execution_count": 7,
   "id": "877525e7",
   "metadata": {},
   "outputs": [
    {
     "data": {
      "text/plain": [
       "Index(['year', 'make', 'model', 'trim', 'body', 'transmission', 'vin', 'state',\n",
       "       'condition', 'odometer', 'color', 'interior', 'seller', 'mmr',\n",
       "       'saledate'],\n",
       "      dtype='object')"
      ]
     },
     "execution_count": 7,
     "metadata": {},
     "output_type": "execute_result"
    }
   ],
   "source": [
    "data.columns"
   ]
  },
  {
   "cell_type": "code",
   "execution_count": 8,
   "id": "ab2af679",
   "metadata": {},
   "outputs": [
    {
     "data": {
      "text/html": [
       "<div>\n",
       "<style scoped>\n",
       "    .dataframe tbody tr th:only-of-type {\n",
       "        vertical-align: middle;\n",
       "    }\n",
       "\n",
       "    .dataframe tbody tr th {\n",
       "        vertical-align: top;\n",
       "    }\n",
       "\n",
       "    .dataframe thead th {\n",
       "        text-align: right;\n",
       "    }\n",
       "</style>\n",
       "<table border=\"1\" class=\"dataframe\">\n",
       "  <thead>\n",
       "    <tr style=\"text-align: right;\">\n",
       "      <th></th>\n",
       "      <th>year</th>\n",
       "      <th>make</th>\n",
       "      <th>model</th>\n",
       "      <th>trim</th>\n",
       "      <th>body</th>\n",
       "      <th>transmission</th>\n",
       "      <th>vin</th>\n",
       "      <th>state</th>\n",
       "      <th>condition</th>\n",
       "      <th>odometer</th>\n",
       "      <th>color</th>\n",
       "      <th>interior</th>\n",
       "      <th>seller</th>\n",
       "      <th>mmr</th>\n",
       "      <th>saledate</th>\n",
       "    </tr>\n",
       "  </thead>\n",
       "  <tbody>\n",
       "    <tr>\n",
       "      <th>0</th>\n",
       "      <td>2010</td>\n",
       "      <td>Buick</td>\n",
       "      <td>Enclave</td>\n",
       "      <td>CXL1</td>\n",
       "      <td>suv</td>\n",
       "      <td>automatic</td>\n",
       "      <td>5galvbed7aj248183</td>\n",
       "      <td>mn</td>\n",
       "      <td>3.5</td>\n",
       "      <td>71061.0</td>\n",
       "      <td>black</td>\n",
       "      <td>tan</td>\n",
       "      <td>wheel way gm</td>\n",
       "      <td>18100</td>\n",
       "      <td>Thu Jun 04 2015 03:30:00 GMT-0700 (PDT)</td>\n",
       "    </tr>\n",
       "  </tbody>\n",
       "</table>\n",
       "</div>"
      ],
      "text/plain": [
       "   year   make    model  trim body transmission                vin state  \\\n",
       "0  2010  Buick  Enclave  CXL1  suv    automatic  5galvbed7aj248183    mn   \n",
       "\n",
       "  condition  odometer  color interior        seller    mmr  \\\n",
       "0       3.5   71061.0  black      tan  wheel way gm  18100   \n",
       "\n",
       "                                  saledate  \n",
       "0  Thu Jun 04 2015 03:30:00 GMT-0700 (PDT)  "
      ]
     },
     "execution_count": 8,
     "metadata": {},
     "output_type": "execute_result"
    }
   ],
   "source": [
    "data.head(1)"
   ]
  },
  {
   "cell_type": "code",
   "execution_count": 9,
   "id": "f9046806",
   "metadata": {},
   "outputs": [],
   "source": [
    "num_vars=['year','odometer']\n",
    "cat_vars=['make','model','trim','body','transmission','state','color','interior','seller','saledate','vin','condition','mmr']"
   ]
  },
  {
   "cell_type": "code",
   "execution_count": 10,
   "id": "f231bb03",
   "metadata": {},
   "outputs": [],
   "source": [
    "from sklearn import preprocessing\n",
    "label_encoder = preprocessing.LabelEncoder()"
   ]
  },
  {
   "cell_type": "code",
   "execution_count": 11,
   "id": "abc6f480",
   "metadata": {},
   "outputs": [],
   "source": [
    "from sklearn.preprocessing import LabelEncoder\n",
    "for feature in cat_vars:\n",
    "    X[feature] = label_encoder.fit_transform(X[feature])"
   ]
  },
  {
   "cell_type": "code",
   "execution_count": 12,
   "id": "7a4b2f12",
   "metadata": {},
   "outputs": [],
   "source": [
    "X.fillna(0,inplace=True)"
   ]
  },
  {
   "cell_type": "code",
   "execution_count": 13,
   "id": "187deae1",
   "metadata": {},
   "outputs": [
    {
     "data": {
      "text/plain": [
       "year            0\n",
       "make            0\n",
       "model           0\n",
       "trim            0\n",
       "body            0\n",
       "transmission    0\n",
       "vin             0\n",
       "state           0\n",
       "condition       0\n",
       "odometer        0\n",
       "color           0\n",
       "interior        0\n",
       "seller          0\n",
       "mmr             0\n",
       "saledate        0\n",
       "dtype: int64"
      ]
     },
     "execution_count": 13,
     "metadata": {},
     "output_type": "execute_result"
    }
   ],
   "source": [
    "X.isnull().sum()"
   ]
  },
  {
   "cell_type": "code",
   "execution_count": 14,
   "id": "32cef83b",
   "metadata": {},
   "outputs": [],
   "source": [
    "from sklearn.linear_model import SGDRegressor\n",
    "\n",
    "sgd_lm = SGDRegressor(fit_intercept=False,\n",
    "                      alpha=0, \n",
    "                      eta0=0.01, \n",
    "                      power_t=.05, \n",
    "                      learning_rate='adaptive'\n",
    "                     )"
   ]
  },
  {
   "cell_type": "markdown",
   "id": "3b6aebd4",
   "metadata": {},
   "source": [
    "## Implementing mini batch functionality"
   ]
  },
  {
   "cell_type": "code",
   "execution_count": 15,
   "id": "0e5128cf",
   "metadata": {},
   "outputs": [
    {
     "data": {
      "image/png": "[encoded data removed]",
      "text/plain": [
       "<Figure size 640x480 with 1 Axes>"
      ]
     },
     "metadata": {},
     "output_type": "display_data"
    },
    {
     "data": {
      "image/png": "[encoded data removed]",
      "text/plain": [
       "<Figure size 640x480 with 1 Axes>"
      ]
     },
     "metadata": {},
     "output_type": "display_data"
    }
   ],
   "source": [
    "samples = X.shape[0]\n",
    "\n",
    "coefs = list()\n",
    "mses = list()\n",
    "\n",
    "for i in range(samples):\n",
    "    sgd_lm = sgd_lm.partial_fit(X[i:i+1], y[i:i+1].ravel())\n",
    "\n",
    "    b = sgd_lm.coef_[0]\n",
    "    m = sgd_lm.coef_[1]\n",
    "    coefs.append((b, m))\n",
    "    \n",
    "    yhat = sgd_lm.predict(X)\n",
    "    mse = ((y - yhat)**2).mean()\n",
    "    mses.append(mse)\n",
    "\n",
    "plt.plot(range(samples), [x[0] for x in coefs])\n",
    "plt.plot(range(samples), [x[1] for x in coefs])\n",
    "plt.legend(['Intercept', 'Slope'])\n",
    "plt.xlabel('Example')\n",
    "plt.ylabel('Weight')\n",
    "plt.show()\n",
    "\n",
    "plt.plot(range(samples), mses)\n",
    "plt.xlabel('Example')\n",
    "plt.ylabel('Mean Squared Error')\n",
    "plt.show()"
   ]
  },
  {
   "cell_type": "code",
   "execution_count": 16,
   "id": "75c341c1",
   "metadata": {},
   "outputs": [],
   "source": [
    "for feature in cat_vars:\n",
    "    X_test[feature] = label_encoder.fit_transform(X_test[feature])"
   ]
  },
  {
   "cell_type": "code",
   "execution_count": 17,
   "id": "9ff1f46f",
   "metadata": {},
   "outputs": [],
   "source": [
    "X_test.fillna(0,inplace=True)"
   ]
  },
  {
   "cell_type": "markdown",
   "id": "9bf39671",
   "metadata": {},
   "source": [
    "## Saving the model"
   ]
  },
  {
   "cell_type": "code",
   "execution_count": 25,
   "id": "084f5f15",
   "metadata": {},
   "outputs": [
    {
     "data": {
      "text/plain": [
       "['pipeline.pkl']"
      ]
     },
     "execution_count": 25,
     "metadata": {},
     "output_type": "execute_result"
    }
   ],
   "source": [
    "import joblib\n",
    "\n",
    "joblib.dump(sgd_lm, 'pipeline.pkl')"
   ]
  },
  {
   "cell_type": "markdown",
   "id": "f9e48d94",
   "metadata": {},
   "source": [
    "## Loading the model again and testing on test data"
   ]
  },
  {
   "cell_type": "code",
   "execution_count": 26,
   "id": "97eb6e0c",
   "metadata": {},
   "outputs": [
    {
     "data": {
      "text/plain": [
       "SGDRegressor(alpha=0, fit_intercept=False, learning_rate='adaptive',\n",
       "             power_t=0.05)"
      ]
     },
     "execution_count": 26,
     "metadata": {},
     "output_type": "execute_result"
    }
   ],
   "source": [
    "pipeline = joblib.load('pipeline.pkl')\n",
    "pipeline"
   ]
  },
  {
   "cell_type": "code",
   "execution_count": 28,
   "id": "45917b7b",
   "metadata": {},
   "outputs": [],
   "source": [
    "Y_predicted = pipeline.predict(X_test)"
   ]
  },
  {
   "cell_type": "code",
   "execution_count": 30,
   "id": "9f17954d",
   "metadata": {},
   "outputs": [
    {
     "name": "stdout",
     "output_type": "stream",
     "text": [
      "Mean Squared Error(MSE): 1.521304063718423e+37\n",
      "Root Mean Squared Error(RMSE):  3.900389805799445e+18\n"
     ]
    }
   ],
   "source": [
    "from sklearn.metrics import mean_squared_error\n",
    "import math\n",
    "print(\"Mean Squared Error(MSE):\", mean_squared_error(y_test, Y_predicted))\n",
    "print(\"Root Mean Squared Error(RMSE): \", math.sqrt(mean_squared_error(y_test, Y_predicted)))"
   ]
  },
  {
   "cell_type": "code",
   "execution_count": 31,
   "id": "cc440a23",
   "metadata": {},
   "outputs": [
    {
     "name": "stdout",
     "output_type": "stream",
     "text": [
      "Mean Absolute Error(MAE): 3.1348921668074813e+18\n"
     ]
    }
   ],
   "source": [
    "from sklearn.metrics import mean_absolute_error\n",
    "print(\"Mean Absolute Error(MAE):\", mean_absolute_error(y_test, Y_predicted))"
   ]
  }
 ],
 "metadata": {
  "kernelspec": {
   "display_name": "Python 3 (ipykernel)",
   "language": "python",
   "name": "python3"
  },
  "language_info": {
   "codemirror_mode": {
    "name": "ipython",
    "version": 3
   },
   "file_extension": ".py",
   "mimetype": "text/x-python",
   "name": "python",
   "nbconvert_exporter": "python",
   "pygments_lexer": "ipython3",
   "version": "3.9.13"
  },
  "toc": {
   "base_numbering": 1,
   "nav_menu": {},
   "number_sections": false,
   "sideBar": true,
   "skip_h1_title": false,
   "title_cell": "Table of Contents",
   "title_sidebar": "Contents",
   "toc_cell": false,
   "toc_position": {},
   "toc_section_display": true,
   "toc_window_display": false
  }
 },
 "nbformat": 4,
 "nbformat_minor": 5
}
