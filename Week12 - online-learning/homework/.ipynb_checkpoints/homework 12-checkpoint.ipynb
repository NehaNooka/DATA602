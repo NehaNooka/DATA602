{
 "cells": [
  {
   "cell_type": "markdown",
   "id": "9a9ec15d",
   "metadata": {},
   "source": [
    "# Homework 12\n",
    "\n",
    "https://scikit-learn.org/0.15/modules/scaling_strategies.html#incremental-learning\n",
    "\n",
    "* Implement a mini batch functionality to train a regressor.\n",
    "    - (Optional) If anyone want to do this in a pipeline can do this: https://koaning.github.io/tokenwiser/api/pipeline.html\n",
    "\n",
    "* Save model, load the model again and test it on `X_test` __Do NOT commit the pickle file__"
   ]
  },
  {
   "cell_type": "code",
   "execution_count": 40,
   "id": "c32e5a2d",
   "metadata": {},
   "outputs": [],
   "source": [
    "import pandas as pd\n",
    "import numpy as np\n",
    "import matplotlib.pyplot as plt"
   ]
  },
  {
   "cell_type": "code",
   "execution_count": 41,
   "id": "5a6e0532",
   "metadata": {},
   "outputs": [],
   "source": [
    "def test_df():\n",
    "    df = pd.read_csv('https://raw.githubusercontent.com/msaricaumbc/DS_data/master/ds602/car_prices/car_prices.csv', low_memory=False)\n",
    "\n",
    "    df = df.sample(5000, random_state=100).reset_index(drop=True)\n",
    "    \n",
    "    y = df['sellingprice']\n",
    "    df.drop('sellingprice', axis=1, inplace=True)\n",
    "    X = df\n",
    "    \n",
    "    return X,y\n",
    "\n",
    "def partial_df():\n",
    "    df = pd.read_csv('https://raw.githubusercontent.com/msaricaumbc/DS_data/master/ds602/car_prices/car_prices.csv', low_memory=False)\n",
    "   \n",
    "    while(True):\n",
    "        yield df.sample(100).reset_index(drop=True)\n",
    "        \n",
    "gen = partial_df()"
   ]
  },
  {
   "cell_type": "code",
   "execution_count": 43,
   "id": "6df99388",
   "metadata": {},
   "outputs": [
    {
     "data": {
      "text/plain": [
       "(558837, 16)"
      ]
     },
     "execution_count": 43,
     "metadata": {},
     "output_type": "execute_result"
    }
   ],
   "source": [
    "df.shape"
   ]
  },
  {
   "cell_type": "code",
   "execution_count": 44,
   "id": "325a5ad4",
   "metadata": {},
   "outputs": [],
   "source": [
    "X_test, y_test = test_df()"
   ]
  },
  {
   "cell_type": "code",
   "execution_count": 48,
   "id": "45bd3434",
   "metadata": {},
   "outputs": [],
   "source": [
    "# each time you call this you will get a new slice of the dataframe.\n",
    "data=next(gen)"
   ]
  },
  {
   "cell_type": "code",
   "execution_count": 49,
   "id": "99509d8d",
   "metadata": {},
   "outputs": [
    {
     "data": {
      "text/html": [
       "<div>\n",
       "<style scoped>\n",
       "    .dataframe tbody tr th:only-of-type {\n",
       "        vertical-align: middle;\n",
       "    }\n",
       "\n",
       "    .dataframe tbody tr th {\n",
       "        vertical-align: top;\n",
       "    }\n",
       "\n",
       "    .dataframe thead th {\n",
       "        text-align: right;\n",
       "    }\n",
       "</style>\n",
       "<table border=\"1\" class=\"dataframe\">\n",
       "  <thead>\n",
       "    <tr style=\"text-align: right;\">\n",
       "      <th></th>\n",
       "      <th>year</th>\n",
       "      <th>make</th>\n",
       "      <th>model</th>\n",
       "      <th>trim</th>\n",
       "      <th>body</th>\n",
       "      <th>transmission</th>\n",
       "      <th>vin</th>\n",
       "      <th>state</th>\n",
       "      <th>condition</th>\n",
       "      <th>odometer</th>\n",
       "      <th>color</th>\n",
       "      <th>interior</th>\n",
       "      <th>seller</th>\n",
       "      <th>mmr</th>\n",
       "      <th>sellingprice</th>\n",
       "      <th>saledate</th>\n",
       "    </tr>\n",
       "  </thead>\n",
       "  <tbody>\n",
       "    <tr>\n",
       "      <th>0</th>\n",
       "      <td>2011</td>\n",
       "      <td>Cadillac</td>\n",
       "      <td>Escalade ESV</td>\n",
       "      <td>Luxury</td>\n",
       "      <td>SUV</td>\n",
       "      <td>automatic</td>\n",
       "      <td>1gys4hefxbr121958</td>\n",
       "      <td>tx</td>\n",
       "      <td>4.9</td>\n",
       "      <td>74921.0</td>\n",
       "      <td>silver</td>\n",
       "      <td>black</td>\n",
       "      <td>texas rv outlet superstore</td>\n",
       "      <td>30700</td>\n",
       "      <td>30000</td>\n",
       "      <td>Wed Feb 18 2015 02:20:00 GMT-0800 (PST)</td>\n",
       "    </tr>\n",
       "    <tr>\n",
       "      <th>1</th>\n",
       "      <td>2014</td>\n",
       "      <td>Nissan</td>\n",
       "      <td>Pathfinder</td>\n",
       "      <td>S</td>\n",
       "      <td>SUV</td>\n",
       "      <td>automatic</td>\n",
       "      <td>5n1ar2mn8ec678184</td>\n",
       "      <td>tn</td>\n",
       "      <td>4.5</td>\n",
       "      <td>23980.0</td>\n",
       "      <td>—</td>\n",
       "      <td>black</td>\n",
       "      <td>nissan north america inc.</td>\n",
       "      <td>20200</td>\n",
       "      <td>20600</td>\n",
       "      <td>Wed Jun 17 2015 03:30:00 GMT-0700 (PDT)</td>\n",
       "    </tr>\n",
       "    <tr>\n",
       "      <th>2</th>\n",
       "      <td>2007</td>\n",
       "      <td>BMW</td>\n",
       "      <td>3 Series</td>\n",
       "      <td>328i</td>\n",
       "      <td>Sedan</td>\n",
       "      <td>automatic</td>\n",
       "      <td>wbava33507kx81982</td>\n",
       "      <td>fl</td>\n",
       "      <td>2.9</td>\n",
       "      <td>77534.0</td>\n",
       "      <td>beige</td>\n",
       "      <td>tan</td>\n",
       "      <td>coggin deland ford</td>\n",
       "      <td>9275</td>\n",
       "      <td>9600</td>\n",
       "      <td>Wed Feb 25 2015 01:25:00 GMT-0800 (PST)</td>\n",
       "    </tr>\n",
       "    <tr>\n",
       "      <th>3</th>\n",
       "      <td>2013</td>\n",
       "      <td>Ford</td>\n",
       "      <td>F-150</td>\n",
       "      <td>XLT</td>\n",
       "      <td>SuperCrew</td>\n",
       "      <td>automatic</td>\n",
       "      <td>1ftfw1et9dfb77330</td>\n",
       "      <td>mi</td>\n",
       "      <td>4.4</td>\n",
       "      <td>26093.0</td>\n",
       "      <td>white</td>\n",
       "      <td>gray</td>\n",
       "      <td>automobiles paille inc</td>\n",
       "      <td>26900</td>\n",
       "      <td>26500</td>\n",
       "      <td>Thu Jan 29 2015 01:30:00 GMT-0800 (PST)</td>\n",
       "    </tr>\n",
       "    <tr>\n",
       "      <th>4</th>\n",
       "      <td>2013</td>\n",
       "      <td>Dodge</td>\n",
       "      <td>Grand Caravan</td>\n",
       "      <td>SXT</td>\n",
       "      <td>Minivan</td>\n",
       "      <td>automatic</td>\n",
       "      <td>2c4rdgcgxdr685312</td>\n",
       "      <td>ca</td>\n",
       "      <td>2.1</td>\n",
       "      <td>61178.0</td>\n",
       "      <td>blue</td>\n",
       "      <td>black</td>\n",
       "      <td>the hertz corporation</td>\n",
       "      <td>11550</td>\n",
       "      <td>10900</td>\n",
       "      <td>Tue May 26 2015 05:30:00 GMT-0700 (PDT)</td>\n",
       "    </tr>\n",
       "    <tr>\n",
       "      <th>...</th>\n",
       "      <td>...</td>\n",
       "      <td>...</td>\n",
       "      <td>...</td>\n",
       "      <td>...</td>\n",
       "      <td>...</td>\n",
       "      <td>...</td>\n",
       "      <td>...</td>\n",
       "      <td>...</td>\n",
       "      <td>...</td>\n",
       "      <td>...</td>\n",
       "      <td>...</td>\n",
       "      <td>...</td>\n",
       "      <td>...</td>\n",
       "      <td>...</td>\n",
       "      <td>...</td>\n",
       "      <td>...</td>\n",
       "    </tr>\n",
       "    <tr>\n",
       "      <th>95</th>\n",
       "      <td>2011</td>\n",
       "      <td>Lexus</td>\n",
       "      <td>LX 570</td>\n",
       "      <td>Base</td>\n",
       "      <td>SUV</td>\n",
       "      <td>automatic</td>\n",
       "      <td>jtjhy7ax9b4057015</td>\n",
       "      <td>tx</td>\n",
       "      <td>3.8</td>\n",
       "      <td>90339.0</td>\n",
       "      <td>red</td>\n",
       "      <td>tan</td>\n",
       "      <td>huffines chrysler jeep dodge lewisville</td>\n",
       "      <td>40700</td>\n",
       "      <td>38300</td>\n",
       "      <td>Thu May 21 2015 04:00:00 GMT-0700 (PDT)</td>\n",
       "    </tr>\n",
       "    <tr>\n",
       "      <th>96</th>\n",
       "      <td>2014</td>\n",
       "      <td>NaN</td>\n",
       "      <td>NaN</td>\n",
       "      <td>NaN</td>\n",
       "      <td>NaN</td>\n",
       "      <td>NaN</td>\n",
       "      <td>1c4njrabxed779978</td>\n",
       "      <td>on</td>\n",
       "      <td>4.7</td>\n",
       "      <td>15742.0</td>\n",
       "      <td>gray</td>\n",
       "      <td>black</td>\n",
       "      <td>fca canada inc</td>\n",
       "      <td>17000</td>\n",
       "      <td>16700</td>\n",
       "      <td>Tue Jun 02 2015 05:00:00 GMT-0700 (PDT)</td>\n",
       "    </tr>\n",
       "    <tr>\n",
       "      <th>97</th>\n",
       "      <td>2011</td>\n",
       "      <td>Mercedes-Benz</td>\n",
       "      <td>S-Class</td>\n",
       "      <td>S550 4MATIC</td>\n",
       "      <td>Sedan</td>\n",
       "      <td>automatic</td>\n",
       "      <td>wddng8gb9ba411228</td>\n",
       "      <td>fl</td>\n",
       "      <td>3.8</td>\n",
       "      <td>41367.0</td>\n",
       "      <td>gray</td>\n",
       "      <td>black</td>\n",
       "      <td>braman honda of palm beach</td>\n",
       "      <td>37400</td>\n",
       "      <td>38000</td>\n",
       "      <td>Thu Jan 15 2015 01:40:00 GMT-0800 (PST)</td>\n",
       "    </tr>\n",
       "    <tr>\n",
       "      <th>98</th>\n",
       "      <td>2014</td>\n",
       "      <td>Mazda</td>\n",
       "      <td>CX-9</td>\n",
       "      <td>Touring</td>\n",
       "      <td>SUV</td>\n",
       "      <td>automatic</td>\n",
       "      <td>jm3tb2ca4e0431236</td>\n",
       "      <td>tn</td>\n",
       "      <td>3.5</td>\n",
       "      <td>37464.0</td>\n",
       "      <td>white</td>\n",
       "      <td>tan</td>\n",
       "      <td>avis corporation</td>\n",
       "      <td>20700</td>\n",
       "      <td>20900</td>\n",
       "      <td>Wed Mar 04 2015 02:30:00 GMT-0800 (PST)</td>\n",
       "    </tr>\n",
       "    <tr>\n",
       "      <th>99</th>\n",
       "      <td>2004</td>\n",
       "      <td>Lexus</td>\n",
       "      <td>RX 330</td>\n",
       "      <td>Base</td>\n",
       "      <td>SUV</td>\n",
       "      <td>automatic</td>\n",
       "      <td>jtjha31u740038461</td>\n",
       "      <td>pa</td>\n",
       "      <td>1.9</td>\n",
       "      <td>112697.0</td>\n",
       "      <td>black</td>\n",
       "      <td>gray</td>\n",
       "      <td>mpm auto traders</td>\n",
       "      <td>9125</td>\n",
       "      <td>7900</td>\n",
       "      <td>Fri Jan 16 2015 01:00:00 GMT-0800 (PST)</td>\n",
       "    </tr>\n",
       "  </tbody>\n",
       "</table>\n",
       "<p>100 rows × 16 columns</p>\n",
       "</div>"
      ],
      "text/plain": [
       "    year           make          model         trim       body transmission  \\\n",
       "0   2011       Cadillac   Escalade ESV       Luxury        SUV    automatic   \n",
       "1   2014         Nissan     Pathfinder            S        SUV    automatic   \n",
       "2   2007            BMW       3 Series         328i      Sedan    automatic   \n",
       "3   2013           Ford          F-150          XLT  SuperCrew    automatic   \n",
       "4   2013          Dodge  Grand Caravan          SXT    Minivan    automatic   \n",
       "..   ...            ...            ...          ...        ...          ...   \n",
       "95  2011          Lexus         LX 570         Base        SUV    automatic   \n",
       "96  2014            NaN            NaN          NaN        NaN          NaN   \n",
       "97  2011  Mercedes-Benz        S-Class  S550 4MATIC      Sedan    automatic   \n",
       "98  2014          Mazda           CX-9      Touring        SUV    automatic   \n",
       "99  2004          Lexus         RX 330         Base        SUV    automatic   \n",
       "\n",
       "                  vin state condition  odometer   color interior  \\\n",
       "0   1gys4hefxbr121958    tx       4.9   74921.0  silver    black   \n",
       "1   5n1ar2mn8ec678184    tn       4.5   23980.0       —    black   \n",
       "2   wbava33507kx81982    fl       2.9   77534.0   beige      tan   \n",
       "3   1ftfw1et9dfb77330    mi       4.4   26093.0   white     gray   \n",
       "4   2c4rdgcgxdr685312    ca       2.1   61178.0    blue    black   \n",
       "..                ...   ...       ...       ...     ...      ...   \n",
       "95  jtjhy7ax9b4057015    tx       3.8   90339.0     red      tan   \n",
       "96  1c4njrabxed779978    on       4.7   15742.0    gray    black   \n",
       "97  wddng8gb9ba411228    fl       3.8   41367.0    gray    black   \n",
       "98  jm3tb2ca4e0431236    tn       3.5   37464.0   white      tan   \n",
       "99  jtjha31u740038461    pa       1.9  112697.0   black     gray   \n",
       "\n",
       "                                     seller    mmr  sellingprice  \\\n",
       "0                texas rv outlet superstore  30700         30000   \n",
       "1                 nissan north america inc.  20200         20600   \n",
       "2                        coggin deland ford   9275          9600   \n",
       "3                    automobiles paille inc  26900         26500   \n",
       "4                     the hertz corporation  11550         10900   \n",
       "..                                      ...    ...           ...   \n",
       "95  huffines chrysler jeep dodge lewisville  40700         38300   \n",
       "96                           fca canada inc  17000         16700   \n",
       "97               braman honda of palm beach  37400         38000   \n",
       "98                         avis corporation  20700         20900   \n",
       "99                         mpm auto traders   9125          7900   \n",
       "\n",
       "                                   saledate  \n",
       "0   Wed Feb 18 2015 02:20:00 GMT-0800 (PST)  \n",
       "1   Wed Jun 17 2015 03:30:00 GMT-0700 (PDT)  \n",
       "2   Wed Feb 25 2015 01:25:00 GMT-0800 (PST)  \n",
       "3   Thu Jan 29 2015 01:30:00 GMT-0800 (PST)  \n",
       "4   Tue May 26 2015 05:30:00 GMT-0700 (PDT)  \n",
       "..                                      ...  \n",
       "95  Thu May 21 2015 04:00:00 GMT-0700 (PDT)  \n",
       "96  Tue Jun 02 2015 05:00:00 GMT-0700 (PDT)  \n",
       "97  Thu Jan 15 2015 01:40:00 GMT-0800 (PST)  \n",
       "98  Wed Mar 04 2015 02:30:00 GMT-0800 (PST)  \n",
       "99  Fri Jan 16 2015 01:00:00 GMT-0800 (PST)  \n",
       "\n",
       "[100 rows x 16 columns]"
      ]
     },
     "execution_count": 49,
     "metadata": {},
     "output_type": "execute_result"
    }
   ],
   "source": [
    "data"
   ]
  },
  {
   "cell_type": "code",
   "execution_count": 50,
   "id": "877525e7",
   "metadata": {},
   "outputs": [
    {
     "data": {
      "text/plain": [
       "Index(['year', 'make', 'model', 'trim', 'body', 'transmission', 'vin', 'state',\n",
       "       'condition', 'odometer', 'color', 'interior', 'seller', 'mmr',\n",
       "       'sellingprice', 'saledate'],\n",
       "      dtype='object')"
      ]
     },
     "execution_count": 50,
     "metadata": {},
     "output_type": "execute_result"
    }
   ],
   "source": [
    "data.columns"
   ]
  },
  {
   "cell_type": "markdown",
   "id": "3b6aebd4",
   "metadata": {},
   "source": [
    "## Implementing mini batch functionality"
   ]
  },
  {
   "cell_type": "code",
   "execution_count": 51,
   "id": "f9046806",
   "metadata": {},
   "outputs": [],
   "source": [
    "num_vars=['year','odometer']\n",
    "cat_vars=['make','model','trim','body','transmission','state','color','interior','seller','saledate','vin','condition','mmr']"
   ]
  },
  {
   "cell_type": "code",
   "execution_count": 52,
   "id": "f231bb03",
   "metadata": {},
   "outputs": [],
   "source": [
    "from sklearn import preprocessing\n",
    "from sklearn.linear_model import SGDRegressor\n",
    "\n",
    "label_encoder = preprocessing.LabelEncoder()\n",
    "\n",
    "#Initializing the model\n",
    "sgd_lm = SGDRegressor(fit_intercept=False, alpha=0, eta0=0.01, power_t=.05, learning_rate='adaptive')\n"
   ]
  },
  {
   "cell_type": "code",
   "execution_count": 61,
   "id": "0e5128cf",
   "metadata": {},
   "outputs": [
    {
     "data": {
      "image/png": "[encoded data removed]",
      "text/plain": [
       "<Figure size 640x480 with 1 Axes>"
      ]
     },
     "metadata": {},
     "output_type": "display_data"
    },
    {
     "data": {
      "image/png": "[encoded data removed]",
      "text/plain": [
       "<Figure size 640x480 with 1 Axes>"
      ]
     },
     "metadata": {},
     "output_type": "display_data"
    }
   ],
   "source": [
    "n_epochs=5000\n",
    "\n",
    "for epoch in range(n_epochs):\n",
    "    data=next(gen)\n",
    "    \n",
    "    # Initializing X and y\n",
    "    y = data['sellingprice']\n",
    "    data.drop('sellingprice', axis=1, inplace=True)\n",
    "    X = data\n",
    "    \n",
    "    #Creating dummies for categorical variables\n",
    "    for feature in cat_vars:\n",
    "        X[feature] = label_encoder.fit_transform(X[feature])\n",
    "    X.fillna(0,inplace=True)\n",
    "    \n",
    "    samples = X.shape[0]\n",
    "\n",
    "    coefs = list()\n",
    "    mses = list()\n",
    "\n",
    "    for i in range(samples):\n",
    "        sgd_lm = sgd_lm.partial_fit(X[i:i+1], y[i:i+1].ravel())\n",
    "\n",
    "        b = sgd_lm.coef_[0]\n",
    "        m = sgd_lm.coef_[1]\n",
    "        coefs.append((b, m))\n",
    "\n",
    "        yhat = sgd_lm.predict(X)\n",
    "        mse = ((y - yhat)**2).mean()\n",
    "        mses.append(mse)\n",
    "\n",
    "plt.plot(range(samples), [x[0] for x in coefs])\n",
    "plt.plot(range(samples), [x[1] for x in coefs])\n",
    "plt.legend(['Intercept', 'Slope'])\n",
    "plt.xlabel('Example')\n",
    "plt.ylabel('Weight')\n",
    "plt.show()\n",
    "\n",
    "plt.plot(range(samples), mses)\n",
    "plt.xlabel('Example')\n",
    "plt.ylabel('Mean Squared Error')\n",
    "plt.show()"
   ]
  },
  {
   "cell_type": "code",
   "execution_count": 62,
   "id": "75c341c1",
   "metadata": {},
   "outputs": [],
   "source": [
    "for feature in cat_vars:\n",
    "    X_test[feature] = label_encoder.fit_transform(X_test[feature])"
   ]
  },
  {
   "cell_type": "code",
   "execution_count": 63,
   "id": "9ff1f46f",
   "metadata": {},
   "outputs": [],
   "source": [
    "X_test.fillna(0,inplace=True)"
   ]
  },
  {
   "cell_type": "markdown",
   "id": "9bf39671",
   "metadata": {},
   "source": [
    "## Saving the model"
   ]
  },
  {
   "cell_type": "code",
   "execution_count": 64,
   "id": "084f5f15",
   "metadata": {},
   "outputs": [
    {
     "data": {
      "text/plain": [
       "['pipeline.pkl']"
      ]
     },
     "execution_count": 64,
     "metadata": {},
     "output_type": "execute_result"
    }
   ],
   "source": [
    "import joblib\n",
    "\n",
    "joblib.dump(sgd_lm, 'pipeline.pkl')"
   ]
  },
  {
   "cell_type": "markdown",
   "id": "f9e48d94",
   "metadata": {},
   "source": [
    "## Loading the model again and testing on test data"
   ]
  },
  {
   "cell_type": "code",
   "execution_count": 65,
   "id": "97eb6e0c",
   "metadata": {},
   "outputs": [
    {
     "data": {
      "text/plain": [
       "SGDRegressor(alpha=0, fit_intercept=False, learning_rate='adaptive',\n",
       "             power_t=0.05)"
      ]
     },
     "execution_count": 65,
     "metadata": {},
     "output_type": "execute_result"
    }
   ],
   "source": [
    "pipeline = joblib.load('pipeline.pkl')\n",
    "pipeline"
   ]
  },
  {
   "cell_type": "code",
   "execution_count": 66,
   "id": "45917b7b",
   "metadata": {},
   "outputs": [],
   "source": [
    "Y_predicted = pipeline.predict(X_test)"
   ]
  },
  {
   "cell_type": "code",
   "execution_count": 67,
   "id": "9f17954d",
   "metadata": {},
   "outputs": [
    {
     "name": "stdout",
     "output_type": "stream",
     "text": [
      "Mean Squared Error(MSE): 1.681220453814102e+40\n",
      "Root Mean Squared Error(RMSE):  1.2966188544881268e+20\n"
     ]
    }
   ],
   "source": [
    "from sklearn.metrics import mean_squared_error\n",
    "import math\n",
    "print(\"Mean Squared Error(MSE):\", mean_squared_error(y_test, Y_predicted))\n",
    "print(\"Root Mean Squared Error(RMSE): \", math.sqrt(mean_squared_error(y_test, Y_predicted)))"
   ]
  },
  {
   "cell_type": "code",
   "execution_count": 68,
   "id": "cc440a23",
   "metadata": {},
   "outputs": [
    {
     "name": "stdout",
     "output_type": "stream",
     "text": [
      "Mean Absolute Error(MAE): 1.0222457141004614e+20\n"
     ]
    }
   ],
   "source": [
    "from sklearn.metrics import mean_absolute_error\n",
    "print(\"Mean Absolute Error(MAE):\", mean_absolute_error(y_test, Y_predicted))"
   ]
  },
  {
   "cell_type": "code",
   "execution_count": null,
   "id": "b7c6e1a9",
   "metadata": {},
   "outputs": [],
   "source": []
  }
 ],
 "metadata": {
  "kernelspec": {
   "display_name": "Python 3 (ipykernel)",
   "language": "python",
   "name": "python3"
  },
  "language_info": {
   "codemirror_mode": {
    "name": "ipython",
    "version": 3
   },
   "file_extension": ".py",
   "mimetype": "text/x-python",
   "name": "python",
   "nbconvert_exporter": "python",
   "pygments_lexer": "ipython3",
   "version": "3.9.13"
  },
  "toc": {
   "base_numbering": 1,
   "nav_menu": {},
   "number_sections": false,
   "sideBar": true,
   "skip_h1_title": false,
   "title_cell": "Table of Contents",
   "title_sidebar": "Contents",
   "toc_cell": false,
   "toc_position": {},
   "toc_section_display": true,
   "toc_window_display": false
  }
 },
 "nbformat": 4,
 "nbformat_minor": 5
}
