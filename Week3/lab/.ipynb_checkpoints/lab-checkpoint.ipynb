{
 "cells": [
  {
   "cell_type": "markdown",
   "id": "57771d6f",
   "metadata": {},
   "source": [
    "# Week 3 Lab"
   ]
  },
  {
   "cell_type": "markdown",
   "id": "ccb647fd",
   "metadata": {},
   "source": [
    "## Questions:\n",
    "- Differences between supervised and unsupervised learning?  \n",
    "- Differences between classification and regression?  \n",
    "- Classification and regression are the only types of supervised learning? "
   ]
  },
  {
   "cell_type": "markdown",
   "id": "03e12e71",
   "metadata": {},
   "source": []
  },
  {
   "cell_type": "markdown",
   "id": "9baef34c",
   "metadata": {},
   "source": [
    "## Answer 1:\n",
    "- Supervised learning algorithms are trained using labeled data.  \n",
    "- Unsupervised learning algorithms are trained using unlabeled data.\n",
    "\n",
    "\n",
    "- Supervised learning model takes direct feedback to check if it is predicting correct output or not.\n",
    "- Unsupervised learning model does not take any feedback.\n",
    "\n",
    "\n",
    "- Supervised learning model predicts the output.\t\n",
    "- Unsupervised learning model finds the hidden patterns in data.\n",
    "\n",
    "\n",
    "- In supervised learning, input data is provided to the model along with the output.\n",
    "- In unsupervised learning, only input data is provided to the model.\n",
    "\n",
    "\n",
    "- The goal of supervised learning is to train the model so that it can predict the output when it is given new data.\n",
    "- The goal of unsupervised learning is to find the hidden patterns and useful insights from the unknown dataset.\n",
    "\n",
    "\n",
    "- Supervised learning needs supervision to train the model.\n",
    "- Unsupervised learning does not need any supervision to train the model.\n",
    "\n",
    "\n",
    "- Supervised learning can be categorized in Classification and Regression problems.\n",
    "- Unsupervised Learning can be classified in Clustering and Associations problems.\n",
    "\n",
    "\n",
    "- Supervised learning can be used for those cases where we know the input as well as corresponding outputs.\n",
    "- Unsupervised learning can be used for those cases where we have only input data and no corresponding output data.\n",
    "\n",
    "\n",
    "- Supervised learning model produces an accurate result.\n",
    "- Unsupervised learning model may give less accurate result as compared to supervised learning.\n",
    "\n",
    "\n",
    "- Supervised learning is not close to true Artificial intelligence as in this, we first train the model for each data, and then only it can predict the correct output.\n",
    "- Unsupervised learning is more close to the true Artificial Intelligence as it learns similarly as a child learns daily routine things by his experiences.\n",
    "\n",
    "\n",
    "- It includes various algorithms such as Linear Regression, Logistic Regression, Support Vector Machine, Multi-class Classification, Decision tree, Bayesian Logic, etc.\n",
    "- It includes various algorithms such as Clustering, KNN, and Apriori algorithm.\n",
    "\n",
    "\n",
    "\n"
   ]
  },
  {
   "cell_type": "markdown",
   "id": "60e66f4a",
   "metadata": {},
   "source": [
    "## Answer 2\n",
    "\n",
    "\n",
    "- In Classification, the output variable must be a discrete value.\n",
    "- In Regression, the output variable must be of continuous nature or real value.\n",
    "\n",
    "\n",
    "- The task of the classification algorithm is to map the input value(x) with the discrete output variable(y).\n",
    "- The task of the regression algorithm is to map the input value (x) with the continuous output variable(y).\n",
    "\n",
    "\n",
    "- Classification Algorithms are used with discrete data.\n",
    "- Regression Algorithms are used with continuous data.\n",
    "\n",
    "\n",
    "- In Classification, we try to find the decision boundary, which can divide the dataset into different classes.\n",
    "- In Regression, we try to find the best fit line, which can predict the output more accurately.\n",
    "\n",
    "\n",
    "- Classification Algorithms can be used to solve classification problems such as Identification of spam emails, Speech Recognition, Identification of cancer cells, etc.\n",
    "- Regression algorithms can be used to solve the regression problems such as Weather Prediction, House price prediction, etc.\n",
    "\n",
    "\n",
    "- The Classification algorithms can be divided into Binary Classifier and Multi-class Classifier.\n",
    "- The regression Algorithm can be further divided into Linear and Non-linear Regression.\n",
    "\n"
   ]
  },
  {
   "cell_type": "markdown",
   "id": "b83e0dc7",
   "metadata": {},
   "source": [
    "## Answer 3\n",
    "\n",
    "\n",
    "Various types of algorithms and computation methods are used in the supervised learning process. Below are some of the common types of supervised learning algorithms:\n",
    "\n",
    "1. Regression\n",
    "Regression is used to understand the relationship between dependant and independent variables. Moreover, it is a type of supervised learning that learns from labelled data sets to predict continuous output for different data in an algorithm. It is believed to be widely used in scenarios where the output needs to be a finite value.\n",
    "There two types of regression; Linear Regression and Logistic Regression\n",
    "\n",
    "\n",
    "2. Naive Bayes\n",
    "A Naive Bayes algorithm is used for large datasets. The approach works on the fundamental that every programme in the algorithm works independently. This means that the presence of one feature will not impact the other. Generally, it is used in text classification, recommendation systems, and others. There are different types of Naive Bayes models, and the decision tree remains the most popular among business organizations. A decision tree is a unique supervised learning algorithm structurally resembling a flowchart. However, they fundamentally perform different roles and responsibilities.\n",
    "\n",
    "\n",
    "3. Classification\n",
    "It is a type of supervised learning algorithm that accurately assigns data into different categories or classes. It recognizes specific entities and analyses them to conclude where those entities must be categorized. Some of the classification algorithms are as follows: K-nearest neighbor, Random forest, Support vector machines, Decision tree ,Linear classifiers\n",
    "\n",
    "\n",
    "4. Neutral networks\n",
    "This type of supervised learning algorithm is used to group or categorize raw data. In addition, it is used for finding a pattern or interpreting sensory data. However, the algorithm requires numerous amounts of computation resources. As a result, its uses are constrained.\n",
    "\n",
    "\n",
    "5. Random forest\n",
    "A random forest algorithm is often called an ensemble method because it combines different supervised learning methods to conclude. Moreover, it uses many decision trees to output the classification of individual trees. As a result, it is widely used across industries.\n"
   ]
  }
 ],
 "metadata": {
  "kernelspec": {
   "display_name": "Python 3 (ipykernel)",
   "language": "python",
   "name": "python3"
  },
  "language_info": {
   "codemirror_mode": {
    "name": "ipython",
    "version": 3
   },
   "file_extension": ".py",
   "mimetype": "text/x-python",
   "name": "python",
   "nbconvert_exporter": "python",
   "pygments_lexer": "ipython3",
   "version": "3.9.13"
  },
  "toc": {
   "base_numbering": 1,
   "nav_menu": {},
   "number_sections": true,
   "sideBar": true,
   "skip_h1_title": false,
   "title_cell": "Table of Contents",
   "title_sidebar": "Contents",
   "toc_cell": false,
   "toc_position": {},
   "toc_section_display": true,
   "toc_window_display": false
  }
 },
 "nbformat": 4,
 "nbformat_minor": 5
}
