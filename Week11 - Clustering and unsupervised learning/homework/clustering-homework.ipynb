{
 "cells": [
  {
   "cell_type": "markdown",
   "metadata": {},
   "source": [
    "# Clustering Homework\n",
    "- Execute the below code and complete the following questions. __DO NOT commit the csv file__ "
   ]
  },
  {
   "cell_type": "code",
   "execution_count": 1,
   "metadata": {},
   "outputs": [],
   "source": [
    "import warnings\n",
    "warnings.filterwarnings('ignore')"
   ]
  },
  {
   "cell_type": "code",
   "execution_count": 2,
   "metadata": {},
   "outputs": [],
   "source": [
    "import pandas as pd\n",
    "from sklearn.datasets import make_classification\n",
    "import numpy as np\n",
    "\n",
    "def generate_data():\n",
    "    \n",
    "    X, y = make_classification(n_samples=4000, \n",
    "                          n_features=50, \n",
    "                          n_redundant=30, \n",
    "                          n_repeated=2,\n",
    "                          n_classes=2,\n",
    "                          n_clusters_per_class=1,\n",
    "                          class_sep = 0.9,\n",
    "                          random_state = 1200,\n",
    "                          scale=1\n",
    "                         )\n",
    "\n",
    "    colNames = ['var'+str(x) for x in range(50)]\n",
    "    colNames.append('target')\n",
    "\n",
    "    df = pd.DataFrame(np.concatenate((X,y.reshape(-1,1)), axis=1), columns=colNames)\n",
    "    \n",
    "    df['var0'] = np.where(df['var0'] < 0, 'a', np.where(df['var0'] < 0.5, 'b', 'c'))\n",
    "    df['var1'] = np.where(df['var1'] < -.5, 'd', np.where(df['var1'] < 0.4, 'e', 'f'))\n",
    "    df['var2'] = np.where(df['var2'] < 0, 'g', np.where(df['var2'] < 0.5, 'h', 'i'))\n",
    "\n",
    "    df.to_csv('clustering-data.csv', index=False)\n",
    "\n",
    "generate_data()"
   ]
  },
  {
   "cell_type": "code",
   "execution_count": 3,
   "metadata": {},
   "outputs": [
    {
     "data": {
      "text/html": [
       "<div>\n",
       "<style scoped>\n",
       "    .dataframe tbody tr th:only-of-type {\n",
       "        vertical-align: middle;\n",
       "    }\n",
       "\n",
       "    .dataframe tbody tr th {\n",
       "        vertical-align: top;\n",
       "    }\n",
       "\n",
       "    .dataframe thead th {\n",
       "        text-align: right;\n",
       "    }\n",
       "</style>\n",
       "<table border=\"1\" class=\"dataframe\">\n",
       "  <thead>\n",
       "    <tr style=\"text-align: right;\">\n",
       "      <th></th>\n",
       "      <th>var0</th>\n",
       "      <th>var1</th>\n",
       "      <th>var2</th>\n",
       "      <th>var3</th>\n",
       "      <th>var4</th>\n",
       "      <th>var5</th>\n",
       "      <th>var6</th>\n",
       "      <th>var7</th>\n",
       "      <th>var8</th>\n",
       "      <th>var9</th>\n",
       "      <th>...</th>\n",
       "      <th>var41</th>\n",
       "      <th>var42</th>\n",
       "      <th>var43</th>\n",
       "      <th>var44</th>\n",
       "      <th>var45</th>\n",
       "      <th>var46</th>\n",
       "      <th>var47</th>\n",
       "      <th>var48</th>\n",
       "      <th>var49</th>\n",
       "      <th>target</th>\n",
       "    </tr>\n",
       "  </thead>\n",
       "  <tbody>\n",
       "    <tr>\n",
       "      <th>0</th>\n",
       "      <td>a</td>\n",
       "      <td>d</td>\n",
       "      <td>g</td>\n",
       "      <td>-0.396805</td>\n",
       "      <td>0.678895</td>\n",
       "      <td>0.726830</td>\n",
       "      <td>-0.640008</td>\n",
       "      <td>-1.039820</td>\n",
       "      <td>-0.934986</td>\n",
       "      <td>-0.098290</td>\n",
       "      <td>...</td>\n",
       "      <td>-0.268735</td>\n",
       "      <td>0.070548</td>\n",
       "      <td>0.808570</td>\n",
       "      <td>1.523755</td>\n",
       "      <td>-0.497207</td>\n",
       "      <td>0.470146</td>\n",
       "      <td>1.095665</td>\n",
       "      <td>-0.339445</td>\n",
       "      <td>0.470146</td>\n",
       "      <td>1.0</td>\n",
       "    </tr>\n",
       "    <tr>\n",
       "      <th>1</th>\n",
       "      <td>a</td>\n",
       "      <td>d</td>\n",
       "      <td>i</td>\n",
       "      <td>-0.991416</td>\n",
       "      <td>2.359730</td>\n",
       "      <td>-0.993249</td>\n",
       "      <td>-2.486560</td>\n",
       "      <td>-3.793524</td>\n",
       "      <td>-3.316669</td>\n",
       "      <td>-0.456288</td>\n",
       "      <td>...</td>\n",
       "      <td>0.500165</td>\n",
       "      <td>0.348498</td>\n",
       "      <td>3.031635</td>\n",
       "      <td>-0.996257</td>\n",
       "      <td>-1.832063</td>\n",
       "      <td>1.907786</td>\n",
       "      <td>4.046193</td>\n",
       "      <td>-1.076047</td>\n",
       "      <td>1.907786</td>\n",
       "      <td>0.0</td>\n",
       "    </tr>\n",
       "    <tr>\n",
       "      <th>2</th>\n",
       "      <td>a</td>\n",
       "      <td>d</td>\n",
       "      <td>g</td>\n",
       "      <td>-2.075731</td>\n",
       "      <td>0.544290</td>\n",
       "      <td>-0.854121</td>\n",
       "      <td>-0.615142</td>\n",
       "      <td>-0.903471</td>\n",
       "      <td>-0.775623</td>\n",
       "      <td>-0.123449</td>\n",
       "      <td>...</td>\n",
       "      <td>0.207872</td>\n",
       "      <td>0.096783</td>\n",
       "      <td>0.734387</td>\n",
       "      <td>0.564490</td>\n",
       "      <td>-0.439069</td>\n",
       "      <td>0.483492</td>\n",
       "      <td>0.971048</td>\n",
       "      <td>-0.231717</td>\n",
       "      <td>0.483492</td>\n",
       "      <td>0.0</td>\n",
       "    </tr>\n",
       "    <tr>\n",
       "      <th>3</th>\n",
       "      <td>b</td>\n",
       "      <td>e</td>\n",
       "      <td>i</td>\n",
       "      <td>0.330885</td>\n",
       "      <td>1.100425</td>\n",
       "      <td>1.468506</td>\n",
       "      <td>0.456396</td>\n",
       "      <td>-0.663287</td>\n",
       "      <td>-1.134611</td>\n",
       "      <td>0.494358</td>\n",
       "      <td>...</td>\n",
       "      <td>0.963910</td>\n",
       "      <td>-0.474539</td>\n",
       "      <td>0.049557</td>\n",
       "      <td>-0.169026</td>\n",
       "      <td>-0.213812</td>\n",
       "      <td>-0.798086</td>\n",
       "      <td>0.419922</td>\n",
       "      <td>-1.142086</td>\n",
       "      <td>-0.798086</td>\n",
       "      <td>1.0</td>\n",
       "    </tr>\n",
       "    <tr>\n",
       "      <th>4</th>\n",
       "      <td>a</td>\n",
       "      <td>d</td>\n",
       "      <td>h</td>\n",
       "      <td>2.245218</td>\n",
       "      <td>1.039071</td>\n",
       "      <td>0.481155</td>\n",
       "      <td>-1.373746</td>\n",
       "      <td>-1.861215</td>\n",
       "      <td>-1.531545</td>\n",
       "      <td>-0.322933</td>\n",
       "      <td>...</td>\n",
       "      <td>0.040232</td>\n",
       "      <td>0.263376</td>\n",
       "      <td>1.570320</td>\n",
       "      <td>0.212608</td>\n",
       "      <td>-0.917244</td>\n",
       "      <td>1.131278</td>\n",
       "      <td>2.034796</td>\n",
       "      <td>-0.363342</td>\n",
       "      <td>1.131278</td>\n",
       "      <td>0.0</td>\n",
       "    </tr>\n",
       "  </tbody>\n",
       "</table>\n",
       "<p>5 rows × 51 columns</p>\n",
       "</div>"
      ],
      "text/plain": [
       "  var0 var1 var2      var3      var4      var5      var6      var7      var8  \\\n",
       "0    a    d    g -0.396805  0.678895  0.726830 -0.640008 -1.039820 -0.934986   \n",
       "1    a    d    i -0.991416  2.359730 -0.993249 -2.486560 -3.793524 -3.316669   \n",
       "2    a    d    g -2.075731  0.544290 -0.854121 -0.615142 -0.903471 -0.775623   \n",
       "3    b    e    i  0.330885  1.100425  1.468506  0.456396 -0.663287 -1.134611   \n",
       "4    a    d    h  2.245218  1.039071  0.481155 -1.373746 -1.861215 -1.531545   \n",
       "\n",
       "       var9  ...     var41     var42     var43     var44     var45     var46  \\\n",
       "0 -0.098290  ... -0.268735  0.070548  0.808570  1.523755 -0.497207  0.470146   \n",
       "1 -0.456288  ...  0.500165  0.348498  3.031635 -0.996257 -1.832063  1.907786   \n",
       "2 -0.123449  ...  0.207872  0.096783  0.734387  0.564490 -0.439069  0.483492   \n",
       "3  0.494358  ...  0.963910 -0.474539  0.049557 -0.169026 -0.213812 -0.798086   \n",
       "4 -0.322933  ...  0.040232  0.263376  1.570320  0.212608 -0.917244  1.131278   \n",
       "\n",
       "      var47     var48     var49  target  \n",
       "0  1.095665 -0.339445  0.470146     1.0  \n",
       "1  4.046193 -1.076047  1.907786     0.0  \n",
       "2  0.971048 -0.231717  0.483492     0.0  \n",
       "3  0.419922 -1.142086 -0.798086     1.0  \n",
       "4  2.034796 -0.363342  1.131278     0.0  \n",
       "\n",
       "[5 rows x 51 columns]"
      ]
     },
     "execution_count": 3,
     "metadata": {},
     "output_type": "execute_result"
    }
   ],
   "source": [
    "import pandas as pd\n",
    "import numpy as np\n",
    "import matplotlib.pyplot as plt\n",
    "\n",
    "df = pd.read_csv('clustering-data.csv')\n",
    "df.head()"
   ]
  },
  {
   "cell_type": "code",
   "execution_count": 4,
   "metadata": {},
   "outputs": [
    {
     "name": "stdout",
     "output_type": "stream",
     "text": [
      "<class 'pandas.core.frame.DataFrame'>\n",
      "RangeIndex: 4000 entries, 0 to 3999\n",
      "Data columns (total 51 columns):\n",
      " #   Column  Non-Null Count  Dtype  \n",
      "---  ------  --------------  -----  \n",
      " 0   var0    4000 non-null   object \n",
      " 1   var1    4000 non-null   object \n",
      " 2   var2    4000 non-null   object \n",
      " 3   var3    4000 non-null   float64\n",
      " 4   var4    4000 non-null   float64\n",
      " 5   var5    4000 non-null   float64\n",
      " 6   var6    4000 non-null   float64\n",
      " 7   var7    4000 non-null   float64\n",
      " 8   var8    4000 non-null   float64\n",
      " 9   var9    4000 non-null   float64\n",
      " 10  var10   4000 non-null   float64\n",
      " 11  var11   4000 non-null   float64\n",
      " 12  var12   4000 non-null   float64\n",
      " 13  var13   4000 non-null   float64\n",
      " 14  var14   4000 non-null   float64\n",
      " 15  var15   4000 non-null   float64\n",
      " 16  var16   4000 non-null   float64\n",
      " 17  var17   4000 non-null   float64\n",
      " 18  var18   4000 non-null   float64\n",
      " 19  var19   4000 non-null   float64\n",
      " 20  var20   4000 non-null   float64\n",
      " 21  var21   4000 non-null   float64\n",
      " 22  var22   4000 non-null   float64\n",
      " 23  var23   4000 non-null   float64\n",
      " 24  var24   4000 non-null   float64\n",
      " 25  var25   4000 non-null   float64\n",
      " 26  var26   4000 non-null   float64\n",
      " 27  var27   4000 non-null   float64\n",
      " 28  var28   4000 non-null   float64\n",
      " 29  var29   4000 non-null   float64\n",
      " 30  var30   4000 non-null   float64\n",
      " 31  var31   4000 non-null   float64\n",
      " 32  var32   4000 non-null   float64\n",
      " 33  var33   4000 non-null   float64\n",
      " 34  var34   4000 non-null   float64\n",
      " 35  var35   4000 non-null   float64\n",
      " 36  var36   4000 non-null   float64\n",
      " 37  var37   4000 non-null   float64\n",
      " 38  var38   4000 non-null   float64\n",
      " 39  var39   4000 non-null   float64\n",
      " 40  var40   4000 non-null   float64\n",
      " 41  var41   4000 non-null   float64\n",
      " 42  var42   4000 non-null   float64\n",
      " 43  var43   4000 non-null   float64\n",
      " 44  var44   4000 non-null   float64\n",
      " 45  var45   4000 non-null   float64\n",
      " 46  var46   4000 non-null   float64\n",
      " 47  var47   4000 non-null   float64\n",
      " 48  var48   4000 non-null   float64\n",
      " 49  var49   4000 non-null   float64\n",
      " 50  target  4000 non-null   float64\n",
      "dtypes: float64(48), object(3)\n",
      "memory usage: 1.6+ MB\n"
     ]
    }
   ],
   "source": [
    "df.info()"
   ]
  },
  {
   "cell_type": "markdown",
   "metadata": {},
   "source": [
    "# Data Definitions\n",
    "- `var0` - `var49`: some feature that could be used to describe the `target`.  \n",
    "- `target`: variable that contains the classes. This is your target variable."
   ]
  },
  {
   "cell_type": "code",
   "execution_count": 5,
   "metadata": {},
   "outputs": [
    {
     "data": {
      "image/png": "[encoded data removed]",
      "text/plain": [
       "<Figure size 640x480 with 1 Axes>"
      ]
     },
     "metadata": {},
     "output_type": "display_data"
    }
   ],
   "source": [
    "df.target.value_counts().plot.bar()\n",
    "plt.title('Distribution of Target', loc='left')\n",
    "plt.show()"
   ]
  },
  {
   "cell_type": "code",
   "execution_count": 6,
   "metadata": {},
   "outputs": [],
   "source": [
    "df1=df"
   ]
  },
  {
   "cell_type": "code",
   "execution_count": 7,
   "metadata": {},
   "outputs": [],
   "source": [
    "#categorical data\n",
    "categorical_cols = ['var0', 'var1', 'var2'] \n",
    "df = pd.get_dummies(df, columns = categorical_cols)"
   ]
  },
  {
   "cell_type": "code",
   "execution_count": 8,
   "metadata": {},
   "outputs": [
    {
     "name": "stdout",
     "output_type": "stream",
     "text": [
      "Training examples: 3200\n",
      "Test examples: 800\n",
      "\n",
      "Feature names:\n",
      "var3\tvar4\tvar5\tvar6\tvar7\tvar8\tvar9\tvar10\tvar11\tvar12\tvar13\tvar14\tvar15\tvar16\tvar17\tvar18\tvar19\tvar20\tvar21\tvar22\tvar23\tvar24\tvar25\tvar26\tvar27\tvar28\tvar29\tvar30\tvar31\tvar32\tvar33\tvar34\tvar35\tvar36\tvar37\tvar38\tvar39\tvar40\tvar41\tvar42\tvar43\tvar44\tvar45\tvar46\tvar47\tvar48\tvar49\tvar0_a\tvar0_b\tvar0_c\tvar1_d\tvar1_e\tvar1_f\tvar2_g\tvar2_h\tvar2_i\n"
     ]
    }
   ],
   "source": [
    "from sklearn.model_selection import train_test_split\n",
    "X = df[[x for x in df.columns if x != 'target']]\n",
    "y = df['target']\n",
    "\n",
    "X_train, X_test, y_train, y_test = train_test_split(X, y, test_size=0.2, random_state=2303)\n",
    "\n",
    "print(f'Training examples: {X_train.shape[0]}')\n",
    "print(f'Test examples: {X_test.shape[0]}')\n",
    "print('\\nFeature names:')\n",
    "print(*X.columns, sep='\\t')"
   ]
  },
  {
   "cell_type": "markdown",
   "metadata": {},
   "source": [
    "# Question 1\n",
    "- Using `X_train`, you will perform k-means clustering using best practices.  \n",
    "- Determine what the \"optimum\" number of clusters is - support your answer.  \n",
    "- Visualize the results of your clustering using PCA.\n",
    "- Based on the visualization, how do you interpret the clustering result?"
   ]
  },
  {
   "cell_type": "code",
   "execution_count": 20,
   "metadata": {},
   "outputs": [],
   "source": [
    "# Insert Code\n",
    "from sklearn.cluster import KMeans\n",
    "\n",
    "km = KMeans(n_clusters = 2)\n",
    "km = km.fit(X_train)\n",
    "cluster_out = km.predict(X_test)"
   ]
  },
  {
   "cell_type": "code",
   "execution_count": 21,
   "metadata": {},
   "outputs": [
    {
     "name": "stdout",
     "output_type": "stream",
     "text": [
      "Test accuracy: 0.80625\n",
      "F1 Score: 0.8031117864588544\n",
      "Test Precision: 0.8320139211449267\n",
      "Test Recall: 0.8083256232652347\n"
     ]
    }
   ],
   "source": [
    "# Model Evaluation\n",
    "from sklearn.metrics import accuracy_score,f1_score,confusion_matrix,precision_score,recall_score\n",
    "\n",
    "print(\"Test accuracy:\", accuracy_score(y_test, cluster_out))\n",
    "print(\"F1 Score:\", f1_score(y_test, cluster_out, average='macro'))\n",
    "print(\"Test Precision:\", precision_score(y_test, cluster_out, average='macro'))\n",
    "print(\"Test Recall:\", recall_score(y_test, cluster_out, average='macro'))\n"
   ]
  },
  {
   "cell_type": "markdown",
   "metadata": {},
   "source": [
    "> The optimum number of cluster is 2 because here the target variable is given. And it is either 0 or 1. So we can make cluster of either 0 or 1."
   ]
  },
  {
   "cell_type": "code",
   "execution_count": 22,
   "metadata": {},
   "outputs": [
    {
     "data": {
      "text/plain": [
       "Text(0, 0.5, 'PCA 2')"
      ]
     },
     "execution_count": 22,
     "metadata": {},
     "output_type": "execute_result"
    },
    {
     "data": {
      "image/png": "[encoded data removed]",
      "text/plain": [
       "<Figure size 640x480 with 1 Axes>"
      ]
     },
     "metadata": {},
     "output_type": "display_data"
    }
   ],
   "source": [
    "from sklearn.preprocessing import StandardScaler\n",
    "from sklearn.decomposition import PCA\n",
    "\n",
    "# Standardize the data to have a mean of ~0 and a variance of 1\n",
    "X_std = StandardScaler().fit_transform(df)\n",
    "# Create a PCA instance: pca\n",
    "pca = PCA(n_components=2)\n",
    "principalComponents = pca.fit_transform(X_std)\n",
    "# Plot the explained variances\n",
    "features = range(pca.n_components_)\n",
    "plt.bar(features, pca.explained_variance_ratio_, color='black')\n",
    "plt.xlabel('PCA features')\n",
    "plt.ylabel('variance %')\n",
    "plt.xticks(features)\n",
    "# Save components to a DataFrame\n",
    "PCA_components = pd.DataFrame(principalComponents)\n",
    "\n",
    "plt.scatter(PCA_components[0], PCA_components[1], alpha=.1, color='red')\n",
    "plt.xlabel('PCA 1')\n",
    "plt.ylabel('PCA 2')"
   ]
  },
  {
   "cell_type": "markdown",
   "metadata": {},
   "source": [
    "> Based on the visualization, we can see 2 clear clusters. However, if we see closely it looks like it has 5 clusters and some outliers."
   ]
  },
  {
   "cell_type": "markdown",
   "metadata": {},
   "source": [
    "# Question 2\n",
    "- Using `X_train` and `y_train`, create a logistic regression model. Then evaluate the performance on the test data. The only preprocessing steps you should include are scaling and one hot encoding.    \n",
    "- Using cross-validation and grid search on the regularization strength using best practices.\n",
    "- Provide a ROC chart and provide accuracy, precision, and recall.  \n",
    "- What is your opinion of the model's performance?"
   ]
  },
  {
   "cell_type": "code",
   "execution_count": 23,
   "metadata": {},
   "outputs": [],
   "source": [
    "# Insert Code\n",
    "from sklearn.pipeline import Pipeline\n",
    "from sklearn.preprocessing import StandardScaler\n",
    "from sklearn.linear_model import LogisticRegression\n",
    "from sklearn.compose import ColumnTransformer\n",
    "from sklearn.impute import SimpleImputer\n",
    "from sklearn.preprocessing import OneHotEncoder"
   ]
  },
  {
   "cell_type": "code",
   "execution_count": 37,
   "metadata": {},
   "outputs": [],
   "source": [
    "# Defining and Pipelining Numerical Features\n",
    "num_pipeline = Pipeline([('standardize_num', StandardScaler())])\n",
    "# Defining and Pipelining Categorical Features\n",
    "cat_pipeline = Pipeline([('create_dummies_cats', OneHotEncoder(handle_unknown='ignore'))])\n",
    "num_vars= ['var3','var4','var5','var6','var7','var8','var9','var10','var11','var12','var13','var14','var15','var16','var17','var18','var19','var20','var21','var22','var23','var24','var25','var26','var27','var28','var29','var30','var31','var32','var33','var34','var35','var36','var37','var38','var39','var40','var41','var42','var43','var44','var45','var46','var47','var48','var49','var0_a','var0_b','var0_c','var1_d','var1_e','var1_f','var2_g','var2_h','var2_i']\n",
    "\n",
    "processing_pipeline = ColumnTransformer(transformers=[('proc_numeric', num_pipeline, num_vars)])\n"
   ]
  },
  {
   "cell_type": "markdown",
   "metadata": {},
   "source": [
    "> I already created dummies for var1 and var2 in question 1 so no need to use oneHotEncoder in the pipeline. "
   ]
  },
  {
   "cell_type": "code",
   "execution_count": 39,
   "metadata": {},
   "outputs": [
    {
     "data": {
      "text/plain": [
       "Pipeline(steps=[('preprocess',\n",
       "                 ColumnTransformer(transformers=[('proc_numeric',\n",
       "                                                  Pipeline(steps=[('standardize_num',\n",
       "                                                                   StandardScaler())]),\n",
       "                                                  ['var3', 'var4', 'var5',\n",
       "                                                   'var6', 'var7', 'var8',\n",
       "                                                   'var9', 'var10', 'var11',\n",
       "                                                   'var12', 'var13', 'var14',\n",
       "                                                   'var15', 'var16', 'var17',\n",
       "                                                   'var18', 'var19', 'var20',\n",
       "                                                   'var21', 'var22', 'var23',\n",
       "                                                   'var24', 'var25', 'var26',\n",
       "                                                   'var27', 'var28', 'var29',\n",
       "                                                   'var30', 'var31', 'var32', ...])])),\n",
       "                ('classifier', LogisticRegression())])"
      ]
     },
     "execution_count": 39,
     "metadata": {},
     "output_type": "execute_result"
    }
   ],
   "source": [
    "logical_reg_model = LogisticRegression()\n",
    "model1 = Pipeline([\n",
    "    ('preprocess', processing_pipeline),\n",
    "     ('classifier', logical_reg_model)])\n",
    "\n",
    "model1.fit(X_train, y_train)"
   ]
  },
  {
   "cell_type": "code",
   "execution_count": 41,
   "metadata": {},
   "outputs": [],
   "source": [
    "pred=model1.predict(X_test)"
   ]
  },
  {
   "cell_type": "code",
   "execution_count": 42,
   "metadata": {},
   "outputs": [
    {
     "data": {
      "image/png": "[encoded data removed]",
      "text/plain": [
       "<Figure size 640x480 with 1 Axes>"
      ]
     },
     "metadata": {},
     "output_type": "display_data"
    }
   ],
   "source": [
    "from sklearn import metrics\n",
    "import matplotlib.pyplot as plt\n",
    "\n",
    "y_pred_proba = model1.predict_proba(X_test)[::,1]\n",
    "fpr, tpr, _ = metrics.roc_curve(y_test,  y_pred_proba)\n",
    "\n",
    "#create ROC curve\n",
    "plt.plot(fpr,tpr)\n",
    "plt.ylabel('True Positive Rate')\n",
    "plt.xlabel('False Positive Rate')\n",
    "plt.show()"
   ]
  },
  {
   "cell_type": "code",
   "execution_count": 43,
   "metadata": {},
   "outputs": [
    {
     "data": {
      "text/plain": [
       "0.9433560051011477"
      ]
     },
     "execution_count": 43,
     "metadata": {},
     "output_type": "execute_result"
    }
   ],
   "source": [
    "auc = metrics.roc_auc_score(y_test, y_pred_proba)\n",
    "auc"
   ]
  },
  {
   "cell_type": "code",
   "execution_count": 44,
   "metadata": {},
   "outputs": [
    {
     "name": "stdout",
     "output_type": "stream",
     "text": [
      "Test accuracy: 0.925\n",
      "Test Precision: 0.9315700134275797\n",
      "Test Recall: 0.925958340626641\n"
     ]
    }
   ],
   "source": [
    "from sklearn.metrics import accuracy_score,f1_score,confusion_matrix,precision_score,recall_score\n",
    "\n",
    "print(\"Test accuracy:\", accuracy_score(y_test, pred))\n",
    "print(\"Test Precision:\", precision_score(y_test, pred, average='macro'))\n",
    "print(\"Test Recall:\", recall_score(y_test, pred, average='macro'))"
   ]
  },
  {
   "cell_type": "markdown",
   "metadata": {},
   "source": [
    "> The model's performance is  good. The test score was 93."
   ]
  },
  {
   "cell_type": "markdown",
   "metadata": {},
   "source": [
    "# Question 3\n",
    "- Using `X_train` and `y_train`, create a logistic regression model, that includes a pipeline step that uses PCA.  \n",
    "- Perform a grid search on various number of components and regularization strengths using best practices.\n",
    "- Provide a ROC chart and provide accuracy, precision, and recall.  \n",
    "- What is your opinion of the model's performance?"
   ]
  },
  {
   "cell_type": "code",
   "execution_count": 46,
   "metadata": {},
   "outputs": [
    {
     "name": "stdout",
     "output_type": "stream",
     "text": [
      "Test Score: 92.88%\n"
     ]
    }
   ],
   "source": [
    "# Insert code\n",
    "p = Pipeline([('sc', StandardScaler()),\n",
    "             ('pca', PCA(n_components=2)),\n",
    "              ('classifier', LogisticRegression(solver='liblinear'))])\n",
    "\n",
    "p = p.fit(X_train, y_train)\n",
    "p_score = p.score(X_test, y_test)\n",
    "print(f'Test Score: {p_score:.2%}')"
   ]
  },
  {
   "cell_type": "code",
   "execution_count": 47,
   "metadata": {},
   "outputs": [],
   "source": [
    "from sklearn.model_selection import GridSearchCV\n",
    "\n",
    "param_grid = [\n",
    "   {\n",
    "    'classifier__C': [0.001, 0.01, 0.1, 1, 10, 100, 1000],\n",
    "    'classifier__penalty': ['l1', 'l2'],\n",
    "    'classifier__max_iter': list(range(100,800,100)),\n",
    "    'classifier__solver': ['newton-cg', 'lbfgs', 'liblinear', 'sag', 'saga']\n",
    "}]\n",
    "# Define the GridSearchCV object\n",
    "grid_search = GridSearchCV(p, param_grid=param_grid, cv=5)\n",
    "\n",
    "# Fit the GridSearchCV object on the training data\n",
    "gcv_results=grid_search.fit(X_train, y_train)\n"
   ]
  },
  {
   "cell_type": "code",
   "execution_count": 48,
   "metadata": {},
   "outputs": [],
   "source": [
    "pred=gcv_results.predict(X_test)"
   ]
  },
  {
   "cell_type": "code",
   "execution_count": 49,
   "metadata": {},
   "outputs": [
    {
     "data": {
      "text/plain": [
       "Pipeline(steps=[('sc', StandardScaler()), ('pca', PCA(n_components=2)),\n",
       "                ('classifier', LogisticRegression(C=10, solver='newton-cg'))])"
      ]
     },
     "execution_count": 49,
     "metadata": {},
     "output_type": "execute_result"
    }
   ],
   "source": [
    "gcv_results.best_estimator_"
   ]
  },
  {
   "cell_type": "code",
   "execution_count": 50,
   "metadata": {},
   "outputs": [
    {
     "data": {
      "text/plain": [
       "{'classifier__C': 10,\n",
       " 'classifier__max_iter': 100,\n",
       " 'classifier__penalty': 'l2',\n",
       " 'classifier__solver': 'newton-cg'}"
      ]
     },
     "execution_count": 50,
     "metadata": {},
     "output_type": "execute_result"
    }
   ],
   "source": [
    "gcv_results.best_params_"
   ]
  },
  {
   "cell_type": "code",
   "execution_count": 51,
   "metadata": {},
   "outputs": [
    {
     "data": {
      "text/plain": [
       "0.9450000000000001"
      ]
     },
     "execution_count": 51,
     "metadata": {},
     "output_type": "execute_result"
    }
   ],
   "source": [
    "gcv_results.best_score_"
   ]
  },
  {
   "cell_type": "code",
   "execution_count": 52,
   "metadata": {},
   "outputs": [
    {
     "data": {
      "image/png": "[encoded data removed]",
      "text/plain": [
       "<Figure size 640x480 with 1 Axes>"
      ]
     },
     "metadata": {},
     "output_type": "display_data"
    }
   ],
   "source": [
    "from sklearn import metrics\n",
    "import matplotlib.pyplot as plt\n",
    "\n",
    "y_pred_proba = gcv_results.predict_proba(X_test)[::,1]\n",
    "fpr, tpr, _ = metrics.roc_curve(y_test,  y_pred_proba)\n",
    "\n",
    "#create ROC curve\n",
    "plt.plot(fpr,tpr)\n",
    "plt.ylabel('True Positive Rate')\n",
    "plt.xlabel('False Positive Rate')\n",
    "plt.show()"
   ]
  },
  {
   "cell_type": "code",
   "execution_count": 53,
   "metadata": {},
   "outputs": [
    {
     "data": {
      "text/plain": [
       "0.9323035182916155"
      ]
     },
     "execution_count": 53,
     "metadata": {},
     "output_type": "execute_result"
    }
   ],
   "source": [
    "auc = metrics.roc_auc_score(y_test, y_pred_proba)\n",
    "auc"
   ]
  },
  {
   "cell_type": "code",
   "execution_count": 54,
   "metadata": {},
   "outputs": [
    {
     "name": "stdout",
     "output_type": "stream",
     "text": [
      "Test accuracy: 0.92875\n",
      "Test Precision: 0.9351004905839532\n",
      "Test Recall: 0.9296904303468281\n"
     ]
    }
   ],
   "source": [
    "from sklearn.metrics import accuracy_score,f1_score,confusion_matrix,precision_score,recall_score\n",
    "\n",
    "print(\"Test accuracy:\", accuracy_score(y_test, pred))\n",
    "print(\"Test Precision:\", precision_score(y_test, pred, average='macro'))\n",
    "print(\"Test Recall:\", recall_score(y_test, pred, average='macro'))"
   ]
  },
  {
   "cell_type": "markdown",
   "metadata": {},
   "source": [
    "> The model's performance is very good. The test score was 92 before using Grid Search and after using Grid Search, it increased to 94."
   ]
  },
  {
   "cell_type": "markdown",
   "metadata": {},
   "source": [
    "# Question 4\n",
    "- Using `X_train` and `y_train`, create a logistic regression model, that includes a pipeline step that uses k-means clustering as a processing step.  \n",
    "- Use grid search and evaluate multiple cluster numbers and regularization strengths using best practices.\n",
    "- Provide a ROC chart and provide accuracy, precision, and recall.  \n",
    "- What is your opinion of the model's performance?"
   ]
  },
  {
   "cell_type": "code",
   "execution_count": 55,
   "metadata": {},
   "outputs": [
    {
     "name": "stdout",
     "output_type": "stream",
     "text": [
      "Using k-means preprocesser: 94.38%\n"
     ]
    }
   ],
   "source": [
    "# Insert code\n",
    "from sklearn.pipeline import Pipeline\n",
    "from sklearn.preprocessing import StandardScaler\n",
    "from sklearn.linear_model import LogisticRegression\n",
    "\n",
    "p = Pipeline([('sc', StandardScaler(with_mean=False)),\n",
    "              ('kmeans', KMeans(n_clusters=100)),\n",
    "               ('classifier', LogisticRegression(solver='liblinear'))])\n",
    "\n",
    "p = p.fit(X_train, y_train)\n",
    "p_score = p.score(X_test, y_test)\n",
    "print(f'Using k-means preprocesser: {p_score:.2%}')"
   ]
  },
  {
   "cell_type": "code",
   "execution_count": 56,
   "metadata": {},
   "outputs": [],
   "source": [
    "param_grid = [\n",
    "   {\n",
    "    'kmeans__n_clusters': [ 1,5,10,20,40,80,100],\n",
    "    'classifier__penalty': ['l1', 'l2'],\n",
    "    'classifier__solver': ['newton-cg', 'lbfgs', 'liblinear', 'sag', 'saga']\n",
    "}]\n",
    "# Define the GridSearchCV object\n",
    "grid_search = GridSearchCV(p, param_grid=param_grid, cv=5)\n",
    "\n",
    "# Fit the GridSearchCV object on the training data\n",
    "gcv_results=grid_search.fit(X_train, y_train)\n"
   ]
  },
  {
   "cell_type": "code",
   "execution_count": 57,
   "metadata": {},
   "outputs": [],
   "source": [
    "pred=gcv_results.predict(X_test)"
   ]
  },
  {
   "cell_type": "code",
   "execution_count": 58,
   "metadata": {},
   "outputs": [
    {
     "data": {
      "text/plain": [
       "Pipeline(steps=[('sc', StandardScaler(with_mean=False)),\n",
       "                ('kmeans', KMeans(n_clusters=5)),\n",
       "                ('classifier',\n",
       "                 LogisticRegression(penalty='l1', solver='liblinear'))])"
      ]
     },
     "execution_count": 58,
     "metadata": {},
     "output_type": "execute_result"
    }
   ],
   "source": [
    "gcv_results.best_estimator_"
   ]
  },
  {
   "cell_type": "code",
   "execution_count": 59,
   "metadata": {},
   "outputs": [
    {
     "data": {
      "text/plain": [
       "{'classifier__penalty': 'l1',\n",
       " 'classifier__solver': 'liblinear',\n",
       " 'kmeans__n_clusters': 5}"
      ]
     },
     "execution_count": 59,
     "metadata": {},
     "output_type": "execute_result"
    }
   ],
   "source": [
    "gcv_results.best_params_"
   ]
  },
  {
   "cell_type": "code",
   "execution_count": 60,
   "metadata": {},
   "outputs": [
    {
     "data": {
      "text/plain": [
       "0.9521875"
      ]
     },
     "execution_count": 60,
     "metadata": {},
     "output_type": "execute_result"
    }
   ],
   "source": [
    "gcv_results.best_score_"
   ]
  },
  {
   "cell_type": "code",
   "execution_count": 61,
   "metadata": {},
   "outputs": [
    {
     "data": {
      "image/png": "[encoded data removed]",
      "text/plain": [
       "<Figure size 640x480 with 1 Axes>"
      ]
     },
     "metadata": {},
     "output_type": "display_data"
    }
   ],
   "source": [
    "from sklearn import metrics\n",
    "import matplotlib.pyplot as plt\n",
    "\n",
    "y_pred_proba = gcv_results.predict_proba(X_test)[::,1]\n",
    "fpr, tpr, _ = metrics.roc_curve(y_test,  y_pred_proba)\n",
    "\n",
    "#create ROC curve\n",
    "plt.plot(fpr,tpr)\n",
    "plt.ylabel('True Positive Rate')\n",
    "plt.xlabel('False Positive Rate')\n",
    "plt.show()"
   ]
  },
  {
   "cell_type": "code",
   "execution_count": 62,
   "metadata": {},
   "outputs": [
    {
     "data": {
      "text/plain": [
       "0.9506889050036258"
      ]
     },
     "execution_count": 62,
     "metadata": {},
     "output_type": "execute_result"
    }
   ],
   "source": [
    "auc = metrics.roc_auc_score(y_test, y_pred_proba)\n",
    "auc"
   ]
  },
  {
   "cell_type": "code",
   "execution_count": 63,
   "metadata": {},
   "outputs": [
    {
     "name": "stdout",
     "output_type": "stream",
     "text": [
      "Test accuracy: 0.93625\n",
      "F1 Score: 0.936127744510978\n",
      "Test Precision: 0.9416589291241102\n",
      "Test Recall: 0.9371171013478032\n"
     ]
    }
   ],
   "source": [
    "from sklearn.metrics import accuracy_score,f1_score,confusion_matrix,precision_score,recall_score\n",
    "\n",
    "print(\"Test accuracy:\", accuracy_score(y_test, pred))\n",
    "print(\"F1 Score:\", f1_score(y_test, pred, average='macro'))\n",
    "print(\"Test Precision:\", precision_score(y_test, pred, average='macro'))\n",
    "print(\"Test Recall:\", recall_score(y_test, pred, average='macro'))"
   ]
  },
  {
   "cell_type": "markdown",
   "metadata": {},
   "source": [
    "> The model's performance is very good. The test score was 94 before using Grid Search and after using Grid Search, it increased to 95."
   ]
  },
  {
   "cell_type": "markdown",
   "metadata": {},
   "source": [
    "# Question 5\n",
    "- Which model, based on the results of `Questions 2-4` would you recommend to use?  \n",
    "- Use as much code as necessary to support your choice."
   ]
  },
  {
   "cell_type": "markdown",
   "metadata": {},
   "source": [
    "> Based on results from 2-4, I think all the models are almost equal. But, the best model to use is logistic regression model with k-means clustering as pipeline step that uses as a processing step. It has the highest test score as well as accuracy."
   ]
  }
 ],
 "metadata": {
  "kernelspec": {
   "display_name": "Python 3 (ipykernel)",
   "language": "python",
   "name": "python3"
  },
  "language_info": {
   "codemirror_mode": {
    "name": "ipython",
    "version": 3
   },
   "file_extension": ".py",
   "mimetype": "text/x-python",
   "name": "python",
   "nbconvert_exporter": "python",
   "pygments_lexer": "ipython3",
   "version": "3.9.13"
  },
  "toc": {
   "base_numbering": 1,
   "nav_menu": {},
   "number_sections": true,
   "sideBar": true,
   "skip_h1_title": false,
   "title_cell": "Table of Contents",
   "title_sidebar": "Contents",
   "toc_cell": false,
   "toc_position": {},
   "toc_section_display": true,
   "toc_window_display": false
  }
 },
 "nbformat": 4,
 "nbformat_minor": 4
}
