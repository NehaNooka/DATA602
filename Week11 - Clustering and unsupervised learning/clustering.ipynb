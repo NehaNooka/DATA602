{
 "cells": [
  {
   "cell_type": "markdown",
   "metadata": {},
   "source": [
    "# Clustering/Unsupervised Learning\n",
    "\n",
    "## Agenda\n",
    "- k-means. \n",
    "- Unsupervised learning extensions.  \n",
    "- Agglomative clustering.  \n",
    "- Density based clustering.  \n",
    "- Association rules.  \n",
    "- Non-negative matrix factorization.\n",
    "\n",
    "# Unsupervised Learning\n",
    "Clustering and data mining"
   ]
  },
  {
   "cell_type": "markdown",
   "metadata": {},
   "source": [
    "# Clustering\n",
    "Following [*Python Machine Learning 3rd Edition, Chapter 11*](https://github.com/rasbt/python-machine-learning-book-3rd-edition/tree/master/ch11) and [*Hands-on Machine Learning with Scikit-Learn, Keras & TensorFlow, Chapter 9*](https://github.com/ageron/handson-ml2/blob/master/09_unsupervised_learning.ipynb).\n",
    "\n",
    "<img src='files/diagrams/unsupervised-clustering.png' style='height: 500px'>\n",
    "\n",
    "[Image source Machine Learning with Python 3rd Edition](https://github.com/rasbt/python-machine-learning-book-3rd-edition)\n",
    "\n",
    "- We need clustering when we don't have class labels, making this an unsupervised problem.  \n",
    "- When we need to discover a latent or hidden structure. We may have a hypothesis on what this structure might be in logical terms, but in reality most of the algorithms are going to be looking at maximizing distance between centroids.  \n",
    "- Clusters should contain examples that are more similar to each other than in different clusters.  \n",
    "\n",
    "## When might we need to use clustering?\n",
    "- Determine documents that are similar to each other.  \n",
    "- Group songs when we don't have information on their genre.  \n",
    "- Generation tasks, where should this new sample belong?  \n",
    "- Customer segmentation for marketing campaigns.  \n",
    "- Determine outliers in higher dimension datasets.  \n",
    "- Need to flag high-risk credit card transactions.  \n",
    "\n",
    "## General practices\n",
    "- Most clustering algorithms use `distance` in some manner. Therefore, it is a best practice to `scale` your data prior to using these algorithms. Since distance will be influenced by absolute magnitudes, it is crucial you don't skip this step (and you shouldn't be skipping it for other modeling tasks either!).  \n",
    "- To visually inspect the clustering, a standard practice is to use dimensionality reduction (e.g., `principle component analysis`) to remove some of the background noise in the data.  \n",
    "- Another standard practice is to use dimensionality reduction to compress the feature space to 2 or 3 dimensions in order to visualize the separation in the clusters - though the preceived distance in 2 dimensions may not be reflect of the absolute or relative difference in the full $d$-dimensional space.  \n",
    "- We'll need a subject matter expert (SME) to review our results and determine the purity of the clusters. If you had some labeled examples you could get a sense of purity using those, but in many cases you'll need some type of feedback loop with reviewers.\n",
    "\n",
    "## Primary types of Clustering\n",
    "- Prototype-based (e.g., k-means) clustering. \n",
    "- Hierarchical (agglomerative) clustering.  \n",
    "- Density-based clustering.  \n",
    "- Graph-based clustering.  "
   ]
  },
  {
   "cell_type": "markdown",
   "metadata": {},
   "source": [
    "# k-Means Clustering\n",
    "- Type of `prototype-based` clustering - it needs a prototype or model for each cluster that is usually a centroid (mean/center) or medoid (median).  \n",
    "- Identifies spherical shapes well.  \n",
    "- Every example gets assigned a cluster, even if it is a true outlier.  \n",
    "- Biggest downside is you need to tell the algorithm how many clusters there are...  \n",
    "- A bad decision for the number of clusters ($k$) and our performance will be poor.  \n",
    "\n",
    "Demonstrate on the `iris` data:"
   ]
  },
  {
   "cell_type": "code",
   "execution_count": 7,
   "metadata": {},
   "outputs": [
    {
     "data": {
      "text/plain": [
       "array([[5.1, 3.5, 1.4, 0.2],\n",
       "       [4.9, 3. , 1.4, 0.2],\n",
       "       [4.7, 3.2, 1.3, 0.2],\n",
       "       [4.6, 3.1, 1.5, 0.2],\n",
       "       [5. , 3.6, 1.4, 0.2]])"
      ]
     },
     "execution_count": 7,
     "metadata": {},
     "output_type": "execute_result"
    }
   ],
   "source": [
    "from sklearn.datasets import load_iris\n",
    "\n",
    "iris = load_iris()\n",
    "iris_df = iris.data\n",
    "iris_label = iris.target\n",
    "\n",
    "iris_df[:5, :]"
   ]
  },
  {
   "cell_type": "markdown",
   "metadata": {},
   "source": [
    "#### Squeeze to 2-dimensions for visualizing\n",
    "We'll use PCA to reduce the dataset to 2-dimensions.  \n",
    "- Scale the data.    \n",
    "- Apply PCA to reduce to 2-dimensions.  \n",
    "- Plot the data"
   ]
  },
  {
   "cell_type": "code",
   "execution_count": 8,
   "metadata": {},
   "outputs": [
    {
     "data": {
      "image/png": "[encoded data removed]",
      "text/plain": [
       "<Figure size 640x480 with 1 Axes>"
      ]
     },
     "metadata": {},
     "output_type": "display_data"
    }
   ],
   "source": [
    "from sklearn.preprocessing import StandardScaler\n",
    "from sklearn.decomposition import PCA\n",
    "from sklearn.pipeline import Pipeline\n",
    "\n",
    "iris_p = Pipeline([('scale', StandardScaler()),\n",
    "                   ('pca', PCA(n_components=2))\n",
    "                  ])\n",
    "\n",
    "iris_2d = iris_p.fit_transform(iris_df)\n",
    "\n",
    "import matplotlib.pyplot as plt\n",
    "%matplotlib inline\n",
    "\n",
    "plt.plot(iris_2d[:,0], iris_2d[:,1], 'ro', alpha=0.5)\n",
    "plt.title('iris in 2-dimensions', loc='left')\n",
    "plt.show()"
   ]
  },
  {
   "cell_type": "markdown",
   "metadata": {},
   "source": [
    "> We know there are 3 classes of `iris` but if we didn't have that info, we would probably assume there are 2 based on this plot."
   ]
  },
  {
   "cell_type": "markdown",
   "metadata": {},
   "source": [
    "## Basic Process with k-means\n",
    "- Pick $k$. \n",
    "- Pick $k$ centroids randomly and assign as the initial centers.  \n",
    "- Assign each example to the nearest cluster, based on `distance`.  \n",
    "- Move the centroids to the center of the examples that were assigned to it.  \n",
    "- Repeat until the centroids stop changing, either based on a tolerance or iteration threshold.  \n",
    "\n",
    "### Distance\n",
    "Usually this will be `squared Euclidean distance`, where $j$ is the $j$th dimension:\n",
    "\n",
    "$$\n",
    "d(x,y)^2 = \\sum_{j=1}^{m}(x_j - y_j)^2 = ||x-y||_2^2\n",
    "$$\n",
    "\n",
    "### Minimizing within-cluster errors\n",
    "Going to minimize the within-cluster errors using the `sum of squared errors`, leveraging `Euclidean distance`.\n",
    "\n",
    "$$\n",
    "SSE = \\sum_{i=1}^{n}{\\sum_{j=1}^{k}}w^{(i,j)}||x^{(i)}-\\mu^{(j)}||_2^2\n",
    "$$\n",
    "\n",
    "$\\mu^{j}$ is the $j$th centroid, $i$ is for the $i$-th example, $w^{(i,j)}$ is an indicator for belonging to the cluster:\n",
    "\n",
    "$$\n",
    "\\begin{equation}\n",
    "w^{(i,j)}\n",
    "=\n",
    "\\begin{cases}\n",
    "1, & \\text{if}\\ x^{(i)}\\in j \\\\\n",
    "0, & \\text{otherwise}\n",
    "\\end{cases}\n",
    "\\end{equation}\n",
    "$$"
   ]
  },
  {
   "cell_type": "code",
   "execution_count": 9,
   "metadata": {},
   "outputs": [
    {
     "ename": "TypeError",
     "evalue": "'<=' not supported between instances of 'str' and 'int'",
     "output_type": "error",
     "traceback": [
      "\u001b[0;31m---------------------------------------------------------------------------\u001b[0m",
      "\u001b[0;31mTypeError\u001b[0m                                 Traceback (most recent call last)",
      "\u001b[0;32m/var/folders/nq/t35hsn993nb53p3qtjcczr8w0000gn/T/ipykernel_98161/2912989163.py\u001b[0m in \u001b[0;36m<module>\u001b[0;34m\u001b[0m\n\u001b[1;32m      2\u001b[0m \u001b[0;34m\u001b[0m\u001b[0m\n\u001b[1;32m      3\u001b[0m \u001b[0mkm\u001b[0m \u001b[0;34m=\u001b[0m \u001b[0mKMeans\u001b[0m\u001b[0;34m(\u001b[0m\u001b[0mn_clusters\u001b[0m \u001b[0;34m=\u001b[0m \u001b[0;36m2\u001b[0m\u001b[0;34m,\u001b[0m \u001b[0minit\u001b[0m\u001b[0;34m=\u001b[0m\u001b[0;34m'random'\u001b[0m\u001b[0;34m,\u001b[0m \u001b[0mn_init\u001b[0m\u001b[0;34m=\u001b[0m\u001b[0;34m'auto'\u001b[0m\u001b[0;34m)\u001b[0m\u001b[0;34m\u001b[0m\u001b[0;34m\u001b[0m\u001b[0m\n\u001b[0;32m----> 4\u001b[0;31m \u001b[0mkm\u001b[0m \u001b[0;34m=\u001b[0m \u001b[0mkm\u001b[0m\u001b[0;34m.\u001b[0m\u001b[0mfit\u001b[0m\u001b[0;34m(\u001b[0m\u001b[0miris_2d\u001b[0m\u001b[0;34m)\u001b[0m\u001b[0;34m\u001b[0m\u001b[0;34m\u001b[0m\u001b[0m\n\u001b[0m\u001b[1;32m      5\u001b[0m \u001b[0miris_cluster\u001b[0m \u001b[0;34m=\u001b[0m \u001b[0mkm\u001b[0m\u001b[0;34m.\u001b[0m\u001b[0mpredict\u001b[0m\u001b[0;34m(\u001b[0m\u001b[0miris_2d\u001b[0m\u001b[0;34m)\u001b[0m\u001b[0;34m\u001b[0m\u001b[0;34m\u001b[0m\u001b[0m\n\u001b[1;32m      6\u001b[0m \u001b[0;34m\u001b[0m\u001b[0m\n",
      "\u001b[0;32m~/opt/anaconda3/lib/python3.9/site-packages/sklearn/cluster/_kmeans.py\u001b[0m in \u001b[0;36mfit\u001b[0;34m(self, X, y, sample_weight)\u001b[0m\n\u001b[1;32m   1144\u001b[0m         )\n\u001b[1;32m   1145\u001b[0m \u001b[0;34m\u001b[0m\u001b[0m\n\u001b[0;32m-> 1146\u001b[0;31m         \u001b[0mself\u001b[0m\u001b[0;34m.\u001b[0m\u001b[0m_check_params\u001b[0m\u001b[0;34m(\u001b[0m\u001b[0mX\u001b[0m\u001b[0;34m)\u001b[0m\u001b[0;34m\u001b[0m\u001b[0;34m\u001b[0m\u001b[0m\n\u001b[0m\u001b[1;32m   1147\u001b[0m         \u001b[0mrandom_state\u001b[0m \u001b[0;34m=\u001b[0m \u001b[0mcheck_random_state\u001b[0m\u001b[0;34m(\u001b[0m\u001b[0mself\u001b[0m\u001b[0;34m.\u001b[0m\u001b[0mrandom_state\u001b[0m\u001b[0;34m)\u001b[0m\u001b[0;34m\u001b[0m\u001b[0;34m\u001b[0m\u001b[0m\n\u001b[1;32m   1148\u001b[0m         \u001b[0msample_weight\u001b[0m \u001b[0;34m=\u001b[0m \u001b[0m_check_sample_weight\u001b[0m\u001b[0;34m(\u001b[0m\u001b[0msample_weight\u001b[0m\u001b[0;34m,\u001b[0m \u001b[0mX\u001b[0m\u001b[0;34m,\u001b[0m \u001b[0mdtype\u001b[0m\u001b[0;34m=\u001b[0m\u001b[0mX\u001b[0m\u001b[0;34m.\u001b[0m\u001b[0mdtype\u001b[0m\u001b[0;34m)\u001b[0m\u001b[0;34m\u001b[0m\u001b[0;34m\u001b[0m\u001b[0m\n",
      "\u001b[0;32m~/opt/anaconda3/lib/python3.9/site-packages/sklearn/cluster/_kmeans.py\u001b[0m in \u001b[0;36m_check_params\u001b[0;34m(self, X)\u001b[0m\n\u001b[1;32m    935\u001b[0m     \u001b[0;32mdef\u001b[0m \u001b[0m_check_params\u001b[0m\u001b[0;34m(\u001b[0m\u001b[0mself\u001b[0m\u001b[0;34m,\u001b[0m \u001b[0mX\u001b[0m\u001b[0;34m)\u001b[0m\u001b[0;34m:\u001b[0m\u001b[0;34m\u001b[0m\u001b[0;34m\u001b[0m\u001b[0m\n\u001b[1;32m    936\u001b[0m         \u001b[0;31m# n_init\u001b[0m\u001b[0;34m\u001b[0m\u001b[0;34m\u001b[0m\u001b[0m\n\u001b[0;32m--> 937\u001b[0;31m         \u001b[0;32mif\u001b[0m \u001b[0mself\u001b[0m\u001b[0;34m.\u001b[0m\u001b[0mn_init\u001b[0m \u001b[0;34m<=\u001b[0m \u001b[0;36m0\u001b[0m\u001b[0;34m:\u001b[0m\u001b[0;34m\u001b[0m\u001b[0;34m\u001b[0m\u001b[0m\n\u001b[0m\u001b[1;32m    938\u001b[0m             \u001b[0;32mraise\u001b[0m \u001b[0mValueError\u001b[0m\u001b[0;34m(\u001b[0m\u001b[0;34mf\"n_init should be > 0, got {self.n_init} instead.\"\u001b[0m\u001b[0;34m)\u001b[0m\u001b[0;34m\u001b[0m\u001b[0;34m\u001b[0m\u001b[0m\n\u001b[1;32m    939\u001b[0m         \u001b[0mself\u001b[0m\u001b[0;34m.\u001b[0m\u001b[0m_n_init\u001b[0m \u001b[0;34m=\u001b[0m \u001b[0mself\u001b[0m\u001b[0;34m.\u001b[0m\u001b[0mn_init\u001b[0m\u001b[0;34m\u001b[0m\u001b[0;34m\u001b[0m\u001b[0m\n",
      "\u001b[0;31mTypeError\u001b[0m: '<=' not supported between instances of 'str' and 'int'"
     ]
    }
   ],
   "source": [
    "from sklearn.cluster import KMeans\n",
    "\n",
    "km = KMeans(n_clusters = 2, init='random', n_init='auto')\n",
    "km = km.fit(iris_2d)\n",
    "iris_cluster = km.predict(iris_2d)\n",
    "\n",
    "import matplotlib.pyplot as plt\n",
    "%matplotlib inline\n",
    "\n",
    "def scatter(class_, color):\n",
    "    plt.scatter(iris_2d[iris_cluster == class_, 0], \n",
    "                iris_2d[iris_cluster == class_, 1], color=color,\n",
    "                alpha=0.5,\n",
    "                label= f'Cluster {class_}'\n",
    "               )\n",
    "\n",
    "scatter(0, 'blue')\n",
    "scatter(1, 'orange')\n",
    "\n",
    "plt.scatter(km.cluster_centers_[:, 0], km.cluster_centers_[:, 1], color = 'red', marker='*')\n",
    "\n",
    "plt.title('iris in 2-dimensions', loc='left')\n",
    "plt.legend()\n",
    "\n",
    "plt.show()"
   ]
  },
  {
   "cell_type": "markdown",
   "metadata": {},
   "source": [
    "- Looked like it did a reasonable job.  \n",
    "- This was easy since there was so much separation between clusters.  \n",
    "\n",
    "### What if we tried 3 classes"
   ]
  },
  {
   "cell_type": "code",
   "execution_count": 10,
   "metadata": {},
   "outputs": [
    {
     "ename": "TypeError",
     "evalue": "'<=' not supported between instances of 'str' and 'int'",
     "output_type": "error",
     "traceback": [
      "\u001b[0;31m---------------------------------------------------------------------------\u001b[0m",
      "\u001b[0;31mTypeError\u001b[0m                                 Traceback (most recent call last)",
      "\u001b[0;32m/var/folders/nq/t35hsn993nb53p3qtjcczr8w0000gn/T/ipykernel_98161/590589830.py\u001b[0m in \u001b[0;36m<module>\u001b[0;34m\u001b[0m\n\u001b[1;32m      1\u001b[0m \u001b[0mkm\u001b[0m \u001b[0;34m=\u001b[0m \u001b[0mKMeans\u001b[0m\u001b[0;34m(\u001b[0m\u001b[0mn_clusters\u001b[0m \u001b[0;34m=\u001b[0m \u001b[0;36m3\u001b[0m\u001b[0;34m,\u001b[0m \u001b[0minit\u001b[0m\u001b[0;34m=\u001b[0m\u001b[0;34m'random'\u001b[0m\u001b[0;34m,\u001b[0m \u001b[0mn_init\u001b[0m\u001b[0;34m=\u001b[0m\u001b[0;34m'auto'\u001b[0m\u001b[0;34m)\u001b[0m\u001b[0;34m\u001b[0m\u001b[0;34m\u001b[0m\u001b[0m\n\u001b[0;32m----> 2\u001b[0;31m \u001b[0mkm\u001b[0m \u001b[0;34m=\u001b[0m \u001b[0mkm\u001b[0m\u001b[0;34m.\u001b[0m\u001b[0mfit\u001b[0m\u001b[0;34m(\u001b[0m\u001b[0miris_2d\u001b[0m\u001b[0;34m)\u001b[0m\u001b[0;34m\u001b[0m\u001b[0;34m\u001b[0m\u001b[0m\n\u001b[0m\u001b[1;32m      3\u001b[0m \u001b[0miris_cluster\u001b[0m \u001b[0;34m=\u001b[0m \u001b[0mkm\u001b[0m\u001b[0;34m.\u001b[0m\u001b[0mpredict\u001b[0m\u001b[0;34m(\u001b[0m\u001b[0miris_2d\u001b[0m\u001b[0;34m)\u001b[0m\u001b[0;34m\u001b[0m\u001b[0;34m\u001b[0m\u001b[0m\n\u001b[1;32m      4\u001b[0m \u001b[0;34m\u001b[0m\u001b[0m\n\u001b[1;32m      5\u001b[0m \u001b[0;32mimport\u001b[0m \u001b[0mmatplotlib\u001b[0m\u001b[0;34m.\u001b[0m\u001b[0mpyplot\u001b[0m \u001b[0;32mas\u001b[0m \u001b[0mplt\u001b[0m\u001b[0;34m\u001b[0m\u001b[0;34m\u001b[0m\u001b[0m\n",
      "\u001b[0;32m~/opt/anaconda3/lib/python3.9/site-packages/sklearn/cluster/_kmeans.py\u001b[0m in \u001b[0;36mfit\u001b[0;34m(self, X, y, sample_weight)\u001b[0m\n\u001b[1;32m   1144\u001b[0m         )\n\u001b[1;32m   1145\u001b[0m \u001b[0;34m\u001b[0m\u001b[0m\n\u001b[0;32m-> 1146\u001b[0;31m         \u001b[0mself\u001b[0m\u001b[0;34m.\u001b[0m\u001b[0m_check_params\u001b[0m\u001b[0;34m(\u001b[0m\u001b[0mX\u001b[0m\u001b[0;34m)\u001b[0m\u001b[0;34m\u001b[0m\u001b[0;34m\u001b[0m\u001b[0m\n\u001b[0m\u001b[1;32m   1147\u001b[0m         \u001b[0mrandom_state\u001b[0m \u001b[0;34m=\u001b[0m \u001b[0mcheck_random_state\u001b[0m\u001b[0;34m(\u001b[0m\u001b[0mself\u001b[0m\u001b[0;34m.\u001b[0m\u001b[0mrandom_state\u001b[0m\u001b[0;34m)\u001b[0m\u001b[0;34m\u001b[0m\u001b[0;34m\u001b[0m\u001b[0m\n\u001b[1;32m   1148\u001b[0m         \u001b[0msample_weight\u001b[0m \u001b[0;34m=\u001b[0m \u001b[0m_check_sample_weight\u001b[0m\u001b[0;34m(\u001b[0m\u001b[0msample_weight\u001b[0m\u001b[0;34m,\u001b[0m \u001b[0mX\u001b[0m\u001b[0;34m,\u001b[0m \u001b[0mdtype\u001b[0m\u001b[0;34m=\u001b[0m\u001b[0mX\u001b[0m\u001b[0;34m.\u001b[0m\u001b[0mdtype\u001b[0m\u001b[0;34m)\u001b[0m\u001b[0;34m\u001b[0m\u001b[0;34m\u001b[0m\u001b[0m\n",
      "\u001b[0;32m~/opt/anaconda3/lib/python3.9/site-packages/sklearn/cluster/_kmeans.py\u001b[0m in \u001b[0;36m_check_params\u001b[0;34m(self, X)\u001b[0m\n\u001b[1;32m    935\u001b[0m     \u001b[0;32mdef\u001b[0m \u001b[0m_check_params\u001b[0m\u001b[0;34m(\u001b[0m\u001b[0mself\u001b[0m\u001b[0;34m,\u001b[0m \u001b[0mX\u001b[0m\u001b[0;34m)\u001b[0m\u001b[0;34m:\u001b[0m\u001b[0;34m\u001b[0m\u001b[0;34m\u001b[0m\u001b[0m\n\u001b[1;32m    936\u001b[0m         \u001b[0;31m# n_init\u001b[0m\u001b[0;34m\u001b[0m\u001b[0;34m\u001b[0m\u001b[0m\n\u001b[0;32m--> 937\u001b[0;31m         \u001b[0;32mif\u001b[0m \u001b[0mself\u001b[0m\u001b[0;34m.\u001b[0m\u001b[0mn_init\u001b[0m \u001b[0;34m<=\u001b[0m \u001b[0;36m0\u001b[0m\u001b[0;34m:\u001b[0m\u001b[0;34m\u001b[0m\u001b[0;34m\u001b[0m\u001b[0m\n\u001b[0m\u001b[1;32m    938\u001b[0m             \u001b[0;32mraise\u001b[0m \u001b[0mValueError\u001b[0m\u001b[0;34m(\u001b[0m\u001b[0;34mf\"n_init should be > 0, got {self.n_init} instead.\"\u001b[0m\u001b[0;34m)\u001b[0m\u001b[0;34m\u001b[0m\u001b[0;34m\u001b[0m\u001b[0m\n\u001b[1;32m    939\u001b[0m         \u001b[0mself\u001b[0m\u001b[0;34m.\u001b[0m\u001b[0m_n_init\u001b[0m \u001b[0;34m=\u001b[0m \u001b[0mself\u001b[0m\u001b[0;34m.\u001b[0m\u001b[0mn_init\u001b[0m\u001b[0;34m\u001b[0m\u001b[0;34m\u001b[0m\u001b[0m\n",
      "\u001b[0;31mTypeError\u001b[0m: '<=' not supported between instances of 'str' and 'int'"
     ]
    }
   ],
   "source": [
    "\n",
    "km = KMeans(n_clusters = 3, init='random', n_init='auto')\n",
    "km = km.fit(iris_2d)\n",
    "iris_cluster = km.predict(iris_2d)\n",
    "\n",
    "import matplotlib.pyplot as plt\n",
    "%matplotlib inline\n",
    "\n",
    "def scatter(class_, color):\n",
    "    plt.scatter(iris_2d[iris_cluster == class_, 0], \n",
    "                iris_2d[iris_cluster == class_, 1], color=color,\n",
    "                alpha=0.5,\n",
    "                label= f'Cluster {class_}'\n",
    "               )\n",
    "\n",
    "scatter(0, 'blue')\n",
    "scatter(1, 'orange')\n",
    "scatter(2, 'red')\n",
    "\n",
    "plt.scatter(km.cluster_centers_[:, 0], km.cluster_centers_[:, 1], color = 'black', marker='*')\n",
    "\n",
    "plt.title('iris in 2-dimensions', loc='left')\n",
    "plt.legend()\n",
    "\n",
    "plt.show()"
   ]
  },
  {
   "cell_type": "markdown",
   "metadata": {},
   "source": [
    "Not that this may not line up like supervised learning as assigned cluster number may not match"
   ]
  },
  {
   "cell_type": "code",
   "execution_count": null,
   "metadata": {},
   "outputs": [],
   "source": [
    "from sklearn.metrics import confusion_matrix\n",
    "\n",
    "confusion_matrix(iris_label, iris_cluster)"
   ]
  },
  {
   "cell_type": "markdown",
   "metadata": {},
   "source": [
    "### Now what?\n",
    "- Might be useful to join back to the original data and see if there are commonalities among some of the features.\n",
    "- Pass it on to a SME to review.  "
   ]
  },
  {
   "cell_type": "markdown",
   "metadata": {},
   "source": [
    "# k-Means++\n",
    "- Ordinary k-Means randomly sets the initial centroids, which could be very poor.  \n",
    "- Could lead to bad performance and/or slow convergence.  \n",
    "- Similar to cross-validation, we can run k-Means multiple times and pick the best in terms of the `sum of squared errors`.  \n",
    "- This has been proven to be more consistent and have better general performance in literature.\n",
    "\n",
    "### Basic Process:\n",
    "- Create a list, $M$, to store the $k$ centroids.  \n",
    "- Randomly choose first centroid, $\\mu^{(j)}$, from the examples and add to $M$.  \n",
    "- For examples not in $M$, find the minimum squared distance to the centroids in $M$.  \n",
    "- Randomly select the next centroid, $\\mu^{(p)}$ using a weighted sampling distribution and repeat above. The sampling distribution ensures instances farther away from existing centroids are more likely to be new centroids.\n",
    "- Run normal k-means.\n",
    "\n",
    "To use `init=k-means++` in the algorithm, which is actually the default.\n",
    "\n",
    "You can use specify default values for the initial centroids, but that would be probably pretty rare that you would have a guess for those, especially with higher dimension data."
   ]
  },
  {
   "cell_type": "markdown",
   "metadata": {},
   "source": [
    "# Another k-Means example\n",
    "This will use a generated blob dataset."
   ]
  },
  {
   "cell_type": "code",
   "execution_count": 4,
   "metadata": {},
   "outputs": [
    {
     "data": {
      "image/png": "[encoded data removed]",
      "text/plain": [
       "<Figure size 640x480 with 1 Axes>"
      ]
     },
     "metadata": {},
     "output_type": "display_data"
    }
   ],
   "source": [
    "from sklearn.datasets import make_blobs\n",
    "\n",
    "X, y = make_blobs(n_samples=2000, \n",
    "                  n_features=2, \n",
    "                  centers=10, \n",
    "                  cluster_std=2,\n",
    "                  shuffle=True,\n",
    "                  random_state=0\n",
    "                 )\n",
    "\n",
    "plt.scatter(X[:,0], X[:,1], alpha=.25)\n",
    "plt.show()"
   ]
  },
  {
   "cell_type": "markdown",
   "metadata": {},
   "source": [
    "# What should be set for $k$?  \n",
    "We have two primary tools to determine a reasonable number to set $k$:\n",
    "- Elbow plot. \n",
    "- Silhouette plot.  \n",
    "\n",
    "### Elbow plot\n",
    "- Think of this as a type of grid search for clustering.  \n",
    "- We don't have evaluation metrics, e.g., recall, that we can look to maximize, so we need to use metrics intrinsic to the clusters and data.  \n",
    "- We use the within-cluster SSE (`inertia` or `distortion`) and look to see that reaches a convergence point. inertia_ is available after fitting a model."
   ]
  },
  {
   "cell_type": "code",
   "execution_count": 5,
   "metadata": {},
   "outputs": [
    {
     "ename": "TypeError",
     "evalue": "'<=' not supported between instances of 'str' and 'int'",
     "output_type": "error",
     "traceback": [
      "\u001b[0;31m---------------------------------------------------------------------------\u001b[0m",
      "\u001b[0;31mTypeError\u001b[0m                                 Traceback (most recent call last)",
      "\u001b[0;32m/var/folders/nq/t35hsn993nb53p3qtjcczr8w0000gn/T/ipykernel_98161/3342153432.py\u001b[0m in \u001b[0;36m<module>\u001b[0;34m\u001b[0m\n\u001b[1;32m      5\u001b[0m \u001b[0;32mfor\u001b[0m \u001b[0mi\u001b[0m \u001b[0;32min\u001b[0m \u001b[0mrange\u001b[0m\u001b[0;34m(\u001b[0m\u001b[0;36m1\u001b[0m\u001b[0;34m,\u001b[0m \u001b[0;36m15\u001b[0m\u001b[0;34m)\u001b[0m\u001b[0;34m:\u001b[0m\u001b[0;34m\u001b[0m\u001b[0;34m\u001b[0m\u001b[0m\n\u001b[1;32m      6\u001b[0m     \u001b[0mkm\u001b[0m \u001b[0;34m=\u001b[0m \u001b[0mKMeans\u001b[0m\u001b[0;34m(\u001b[0m\u001b[0mn_clusters\u001b[0m\u001b[0;34m=\u001b[0m\u001b[0mi\u001b[0m\u001b[0;34m,\u001b[0m \u001b[0mrandom_state\u001b[0m\u001b[0;34m=\u001b[0m\u001b[0;36m0\u001b[0m\u001b[0;34m,\u001b[0m \u001b[0mn_init\u001b[0m\u001b[0;34m=\u001b[0m\u001b[0;34m'auto'\u001b[0m\u001b[0;34m)\u001b[0m\u001b[0;34m\u001b[0m\u001b[0;34m\u001b[0m\u001b[0m\n\u001b[0;32m----> 7\u001b[0;31m     \u001b[0mkm\u001b[0m \u001b[0;34m=\u001b[0m \u001b[0mkm\u001b[0m\u001b[0;34m.\u001b[0m\u001b[0mfit\u001b[0m\u001b[0;34m(\u001b[0m\u001b[0mX\u001b[0m\u001b[0;34m)\u001b[0m\u001b[0;34m\u001b[0m\u001b[0;34m\u001b[0m\u001b[0m\n\u001b[0m\u001b[1;32m      8\u001b[0m     \u001b[0mdistortions\u001b[0m\u001b[0;34m.\u001b[0m\u001b[0mappend\u001b[0m\u001b[0;34m(\u001b[0m\u001b[0mkm\u001b[0m\u001b[0;34m.\u001b[0m\u001b[0minertia_\u001b[0m\u001b[0;34m)\u001b[0m\u001b[0;34m\u001b[0m\u001b[0;34m\u001b[0m\u001b[0m\n\u001b[1;32m      9\u001b[0m \u001b[0;34m\u001b[0m\u001b[0m\n",
      "\u001b[0;32m~/opt/anaconda3/lib/python3.9/site-packages/sklearn/cluster/_kmeans.py\u001b[0m in \u001b[0;36mfit\u001b[0;34m(self, X, y, sample_weight)\u001b[0m\n\u001b[1;32m   1144\u001b[0m         )\n\u001b[1;32m   1145\u001b[0m \u001b[0;34m\u001b[0m\u001b[0m\n\u001b[0;32m-> 1146\u001b[0;31m         \u001b[0mself\u001b[0m\u001b[0;34m.\u001b[0m\u001b[0m_check_params\u001b[0m\u001b[0;34m(\u001b[0m\u001b[0mX\u001b[0m\u001b[0;34m)\u001b[0m\u001b[0;34m\u001b[0m\u001b[0;34m\u001b[0m\u001b[0m\n\u001b[0m\u001b[1;32m   1147\u001b[0m         \u001b[0mrandom_state\u001b[0m \u001b[0;34m=\u001b[0m \u001b[0mcheck_random_state\u001b[0m\u001b[0;34m(\u001b[0m\u001b[0mself\u001b[0m\u001b[0;34m.\u001b[0m\u001b[0mrandom_state\u001b[0m\u001b[0;34m)\u001b[0m\u001b[0;34m\u001b[0m\u001b[0;34m\u001b[0m\u001b[0m\n\u001b[1;32m   1148\u001b[0m         \u001b[0msample_weight\u001b[0m \u001b[0;34m=\u001b[0m \u001b[0m_check_sample_weight\u001b[0m\u001b[0;34m(\u001b[0m\u001b[0msample_weight\u001b[0m\u001b[0;34m,\u001b[0m \u001b[0mX\u001b[0m\u001b[0;34m,\u001b[0m \u001b[0mdtype\u001b[0m\u001b[0;34m=\u001b[0m\u001b[0mX\u001b[0m\u001b[0;34m.\u001b[0m\u001b[0mdtype\u001b[0m\u001b[0;34m)\u001b[0m\u001b[0;34m\u001b[0m\u001b[0;34m\u001b[0m\u001b[0m\n",
      "\u001b[0;32m~/opt/anaconda3/lib/python3.9/site-packages/sklearn/cluster/_kmeans.py\u001b[0m in \u001b[0;36m_check_params\u001b[0;34m(self, X)\u001b[0m\n\u001b[1;32m    935\u001b[0m     \u001b[0;32mdef\u001b[0m \u001b[0m_check_params\u001b[0m\u001b[0;34m(\u001b[0m\u001b[0mself\u001b[0m\u001b[0;34m,\u001b[0m \u001b[0mX\u001b[0m\u001b[0;34m)\u001b[0m\u001b[0;34m:\u001b[0m\u001b[0;34m\u001b[0m\u001b[0;34m\u001b[0m\u001b[0m\n\u001b[1;32m    936\u001b[0m         \u001b[0;31m# n_init\u001b[0m\u001b[0;34m\u001b[0m\u001b[0;34m\u001b[0m\u001b[0m\n\u001b[0;32m--> 937\u001b[0;31m         \u001b[0;32mif\u001b[0m \u001b[0mself\u001b[0m\u001b[0;34m.\u001b[0m\u001b[0mn_init\u001b[0m \u001b[0;34m<=\u001b[0m \u001b[0;36m0\u001b[0m\u001b[0;34m:\u001b[0m\u001b[0;34m\u001b[0m\u001b[0;34m\u001b[0m\u001b[0m\n\u001b[0m\u001b[1;32m    938\u001b[0m             \u001b[0;32mraise\u001b[0m \u001b[0mValueError\u001b[0m\u001b[0;34m(\u001b[0m\u001b[0;34mf\"n_init should be > 0, got {self.n_init} instead.\"\u001b[0m\u001b[0;34m)\u001b[0m\u001b[0;34m\u001b[0m\u001b[0;34m\u001b[0m\u001b[0m\n\u001b[1;32m    939\u001b[0m         \u001b[0mself\u001b[0m\u001b[0;34m.\u001b[0m\u001b[0m_n_init\u001b[0m \u001b[0;34m=\u001b[0m \u001b[0mself\u001b[0m\u001b[0;34m.\u001b[0m\u001b[0mn_init\u001b[0m\u001b[0;34m\u001b[0m\u001b[0;34m\u001b[0m\u001b[0m\n",
      "\u001b[0;31mTypeError\u001b[0m: '<=' not supported between instances of 'str' and 'int'"
     ]
    }
   ],
   "source": [
    "from sklearn.cluster import KMeans\n",
    "\n",
    "distortions = list()\n",
    "\n",
    "for i in range(1, 15):\n",
    "    km = KMeans(n_clusters=i, random_state=0, n_init='auto')\n",
    "    km = km.fit(X)\n",
    "    distortions.append(km.inertia_)\n",
    "    \n",
    "plt.plot(range(1, 15), distortions, marker='o')\n",
    "plt.xlabel('Number of Clusters')\n",
    "plt.ylabel('Inertia')\n",
    "plt.show()"
   ]
  },
  {
   "cell_type": "markdown",
   "metadata": {},
   "source": [
    "> Plot `elbows` or `kinks` at around $6$ or $7$, so we'll use that for $k$."
   ]
  },
  {
   "cell_type": "code",
   "execution_count": 6,
   "metadata": {},
   "outputs": [
    {
     "ename": "TypeError",
     "evalue": "'<=' not supported between instances of 'str' and 'int'",
     "output_type": "error",
     "traceback": [
      "\u001b[0;31m---------------------------------------------------------------------------\u001b[0m",
      "\u001b[0;31mTypeError\u001b[0m                                 Traceback (most recent call last)",
      "\u001b[0;32m/var/folders/nq/t35hsn993nb53p3qtjcczr8w0000gn/T/ipykernel_98161/1486189368.py\u001b[0m in \u001b[0;36m<module>\u001b[0;34m\u001b[0m\n\u001b[1;32m      4\u001b[0m \u001b[0;34m\u001b[0m\u001b[0m\n\u001b[1;32m      5\u001b[0m \u001b[0mkm\u001b[0m \u001b[0;34m=\u001b[0m \u001b[0mKMeans\u001b[0m\u001b[0;34m(\u001b[0m\u001b[0mn_clusters\u001b[0m\u001b[0;34m=\u001b[0m\u001b[0mn\u001b[0m\u001b[0;34m,\u001b[0m \u001b[0mrandom_state\u001b[0m\u001b[0;34m=\u001b[0m\u001b[0;36m0\u001b[0m\u001b[0;34m,\u001b[0m \u001b[0mn_init\u001b[0m\u001b[0;34m=\u001b[0m\u001b[0;34m'auto'\u001b[0m\u001b[0;34m)\u001b[0m\u001b[0;34m\u001b[0m\u001b[0;34m\u001b[0m\u001b[0m\n\u001b[0;32m----> 6\u001b[0;31m \u001b[0mkm\u001b[0m \u001b[0;34m=\u001b[0m \u001b[0mkm\u001b[0m\u001b[0;34m.\u001b[0m\u001b[0mfit\u001b[0m\u001b[0;34m(\u001b[0m\u001b[0mX\u001b[0m\u001b[0;34m)\u001b[0m\u001b[0;34m\u001b[0m\u001b[0;34m\u001b[0m\u001b[0m\n\u001b[0m\u001b[1;32m      7\u001b[0m \u001b[0mpclusters\u001b[0m \u001b[0;34m=\u001b[0m \u001b[0mkm\u001b[0m\u001b[0;34m.\u001b[0m\u001b[0mpredict\u001b[0m\u001b[0;34m(\u001b[0m\u001b[0mX\u001b[0m\u001b[0;34m)\u001b[0m\u001b[0;34m\u001b[0m\u001b[0;34m\u001b[0m\u001b[0m\n\u001b[1;32m      8\u001b[0m \u001b[0;34m\u001b[0m\u001b[0m\n",
      "\u001b[0;32m~/opt/anaconda3/lib/python3.9/site-packages/sklearn/cluster/_kmeans.py\u001b[0m in \u001b[0;36mfit\u001b[0;34m(self, X, y, sample_weight)\u001b[0m\n\u001b[1;32m   1144\u001b[0m         )\n\u001b[1;32m   1145\u001b[0m \u001b[0;34m\u001b[0m\u001b[0m\n\u001b[0;32m-> 1146\u001b[0;31m         \u001b[0mself\u001b[0m\u001b[0;34m.\u001b[0m\u001b[0m_check_params\u001b[0m\u001b[0;34m(\u001b[0m\u001b[0mX\u001b[0m\u001b[0;34m)\u001b[0m\u001b[0;34m\u001b[0m\u001b[0;34m\u001b[0m\u001b[0m\n\u001b[0m\u001b[1;32m   1147\u001b[0m         \u001b[0mrandom_state\u001b[0m \u001b[0;34m=\u001b[0m \u001b[0mcheck_random_state\u001b[0m\u001b[0;34m(\u001b[0m\u001b[0mself\u001b[0m\u001b[0;34m.\u001b[0m\u001b[0mrandom_state\u001b[0m\u001b[0;34m)\u001b[0m\u001b[0;34m\u001b[0m\u001b[0;34m\u001b[0m\u001b[0m\n\u001b[1;32m   1148\u001b[0m         \u001b[0msample_weight\u001b[0m \u001b[0;34m=\u001b[0m \u001b[0m_check_sample_weight\u001b[0m\u001b[0;34m(\u001b[0m\u001b[0msample_weight\u001b[0m\u001b[0;34m,\u001b[0m \u001b[0mX\u001b[0m\u001b[0;34m,\u001b[0m \u001b[0mdtype\u001b[0m\u001b[0;34m=\u001b[0m\u001b[0mX\u001b[0m\u001b[0;34m.\u001b[0m\u001b[0mdtype\u001b[0m\u001b[0;34m)\u001b[0m\u001b[0;34m\u001b[0m\u001b[0;34m\u001b[0m\u001b[0m\n",
      "\u001b[0;32m~/opt/anaconda3/lib/python3.9/site-packages/sklearn/cluster/_kmeans.py\u001b[0m in \u001b[0;36m_check_params\u001b[0;34m(self, X)\u001b[0m\n\u001b[1;32m    935\u001b[0m     \u001b[0;32mdef\u001b[0m \u001b[0m_check_params\u001b[0m\u001b[0;34m(\u001b[0m\u001b[0mself\u001b[0m\u001b[0;34m,\u001b[0m \u001b[0mX\u001b[0m\u001b[0;34m)\u001b[0m\u001b[0;34m:\u001b[0m\u001b[0;34m\u001b[0m\u001b[0;34m\u001b[0m\u001b[0m\n\u001b[1;32m    936\u001b[0m         \u001b[0;31m# n_init\u001b[0m\u001b[0;34m\u001b[0m\u001b[0;34m\u001b[0m\u001b[0m\n\u001b[0;32m--> 937\u001b[0;31m         \u001b[0;32mif\u001b[0m \u001b[0mself\u001b[0m\u001b[0;34m.\u001b[0m\u001b[0mn_init\u001b[0m \u001b[0;34m<=\u001b[0m \u001b[0;36m0\u001b[0m\u001b[0;34m:\u001b[0m\u001b[0;34m\u001b[0m\u001b[0;34m\u001b[0m\u001b[0m\n\u001b[0m\u001b[1;32m    938\u001b[0m             \u001b[0;32mraise\u001b[0m \u001b[0mValueError\u001b[0m\u001b[0;34m(\u001b[0m\u001b[0;34mf\"n_init should be > 0, got {self.n_init} instead.\"\u001b[0m\u001b[0;34m)\u001b[0m\u001b[0;34m\u001b[0m\u001b[0;34m\u001b[0m\u001b[0m\n\u001b[1;32m    939\u001b[0m         \u001b[0mself\u001b[0m\u001b[0;34m.\u001b[0m\u001b[0m_n_init\u001b[0m \u001b[0;34m=\u001b[0m \u001b[0mself\u001b[0m\u001b[0;34m.\u001b[0m\u001b[0mn_init\u001b[0m\u001b[0;34m\u001b[0m\u001b[0;34m\u001b[0m\u001b[0m\n",
      "\u001b[0;31mTypeError\u001b[0m: '<=' not supported between instances of 'str' and 'int'"
     ]
    }
   ],
   "source": [
    "from sklearn.cluster import KMeans\n",
    "\n",
    "n = 7\n",
    "\n",
    "km = KMeans(n_clusters=n, random_state=0, n_init='auto')\n",
    "km = km.fit(X)\n",
    "pclusters = km.predict(X)\n",
    "\n",
    "for i in range(n):\n",
    "    plt.scatter(X[pclusters==i, 0], X[pclusters==i, 1], alpha=0.25)\n",
    "    \n",
    "plt.scatter(km.cluster_centers_[:, 0], km.cluster_centers_[:, 1], color = 'black', marker='*')\n",
    "\n",
    "plt.show()"
   ]
  },
  {
   "cell_type": "markdown",
   "metadata": {},
   "source": [
    "> Elbow method seemed to pick a reasonable number?"
   ]
  },
  {
   "cell_type": "markdown",
   "metadata": {},
   "source": [
    "## Silhouette Plot\n",
    "Another method for chosing $k$. It's a measure of how tightly grouped the estimates within clusters.\n",
    "\n",
    "#### Steps\n",
    "- Calculate cluster cohesion, $a^{(i)}$, which is the average distance between a sample and all other samples in the cluster. The smaller, the tighter there are together.  \n",
    "- Calculate the cluster separation, $b^{(i)}$, which is the average distance between each sample in a cluster versus the examples in the nearest cluster.  \n",
    "- Calculate the silhouette, which is the distance between the cluster cohesion and the separation, divided by the greater of the two.\n",
    "\n",
    "$$\n",
    "s^{(i)} = \\frac{b^{(i)}-a^{(i)}}{max(b^{(i)}, a^{(i)})}\n",
    "$$\n",
    "\n",
    "Where $s\\in(-1,1)$\n",
    "- A value of $1$ indicates an ideal cluster, since the clusters are dissimilar from each other.  \n",
    "- A value of $0$ indicates the within and between separation is the same, so the clusters are similar to each other (we don't want this)."
   ]
  },
  {
   "cell_type": "code",
   "execution_count": null,
   "metadata": {},
   "outputs": [],
   "source": [
    "from sklearn.metrics import silhouette_score\n",
    "from sklearn.cluster import KMeans\n",
    "\n",
    "silhouettes = list()\n",
    "\n",
    "for i in range(2, 15):\n",
    "    km = KMeans(n_clusters=i, random_state=0, n_init='auto')\n",
    "    km = km.fit(X)\n",
    "    s = silhouette_score(X, km.labels_)\n",
    "    silhouettes.append(s)\n",
    "    \n",
    "plt.plot(range(2,15), silhouettes, marker='o')\n",
    "plt.xlabel('Number of Clusters')\n",
    "plt.ylabel('Silhouette Score')\n",
    "plt.show()"
   ]
  },
  {
   "cell_type": "markdown",
   "metadata": {},
   "source": [
    "> Probably would ignore $2$ since it probably is separating the top and bottom blob. It materially begins to decline after $6$ or $10$, so we'd likely use that for $k$."
   ]
  },
  {
   "cell_type": "code",
   "execution_count": null,
   "metadata": {},
   "outputs": [],
   "source": [
    "from sklearn.metrics import silhouette_samples\n",
    "\n",
    "from sklearn.cluster import KMeans\n",
    "\n",
    "n = 10\n",
    "\n",
    "km = KMeans(n_clusters=n, random_state=0, n_init='auto')\n",
    "km = km.fit(X)\n",
    "pclusters = km.predict(X)\n",
    "\n",
    "silhouette_vals = silhouette_samples(X, km.labels_)"
   ]
  },
  {
   "cell_type": "code",
   "execution_count": null,
   "metadata": {},
   "outputs": [],
   "source": [
    "import pandas as pd\n",
    "\n",
    "s_vals = pd.DataFrame(list(zip(silhouette_vals, km.labels_)))\n",
    "s_vals.columns = ['silhouette', 'cluster']\n",
    "s_vals = s_vals.sort_values(by=['cluster', 'silhouette'],\n",
    "                          ascending=[True, False]\n",
    "                          )\n",
    "s_vals['idx'] = pd.Series(range(0,2000))\n",
    "s_vals['cluster'] = s_vals['cluster'].astype(str)\n",
    "\n",
    "s_vals.groupby('cluster')['silhouette'].plot.density()\n",
    "plt.legend()\n",
    "plt.xlim((0,1))\n",
    "plt.show()"
   ]
  },
  {
   "cell_type": "markdown",
   "metadata": {},
   "source": [
    "> Plot the individual values by cluster to identify potential outliers.\n",
    "\n",
    "- Data points near $0$ are less like the examples in the cluster.  \n",
    "- Heavy density near $1$ indicates the cluster is grouping similar examples and is dissimilar from other clusters.\n",
    "\n",
    "You may also see silhouette plots like this:\n",
    "\n",
    "<img src='files/diagrams/silhouette.png' style='width: 500px'>\n",
    "\n",
    "[Image source: Hands-on Machine Learning with Scikit-Learn, Keras & TensorFlow, Chapter 9](https://github.com/ageron/handson-ml2/blob/master/09_unsupervised_learning.ipynb)"
   ]
  },
  {
   "cell_type": "markdown",
   "metadata": {},
   "source": [
    "### You can also use clustering for preprocessing\n",
    "Since this can be used to generate a single data point per example from many, this could be used for dimension reduction in addition to segmentation.\n",
    "\n",
    "Why it may help?\n",
    "- Noise reduction.  \n",
    "- Dimensionality reduction. "
   ]
  },
  {
   "cell_type": "code",
   "execution_count": null,
   "metadata": {},
   "outputs": [],
   "source": [
    "from sklearn.datasets import load_digits\n",
    "\n",
    "digits = load_digits()\n",
    "dX, dy = digits['data'], digits['target']\n",
    "\n",
    "from sklearn.model_selection import train_test_split\n",
    "dX_train, dX_test, dy_train, dy_test = train_test_split(dX, \n",
    "                                                        dy,\n",
    "                                                        test_size=0.2,\n",
    "                                                        random_state=100\n",
    "                                                       )\n",
    "\n",
    "from sklearn.linear_model import LogisticRegression\n",
    "log_reg = LogisticRegression(solver='liblinear')\n",
    "log_reg = log_reg.fit(dX_train, dy_train)\n",
    "\n",
    "log_reg_score = log_reg.score(dX_test, dy_test)\n",
    "print(f'Score: {log_reg_score:.2%}')"
   ]
  },
  {
   "cell_type": "code",
   "execution_count": null,
   "metadata": {},
   "outputs": [],
   "source": [
    "dX.shape"
   ]
  },
  {
   "cell_type": "markdown",
   "metadata": {},
   "source": [
    "#### Now we'll see using the clusters from k-Means"
   ]
  },
  {
   "cell_type": "code",
   "execution_count": null,
   "metadata": {},
   "outputs": [],
   "source": [
    "from sklearn.pipeline import Pipeline\n",
    "from sklearn.preprocessing import StandardScaler\n",
    "\n",
    "p = Pipeline([('sc', StandardScaler()),\n",
    "             ('kmeans', KMeans(n_clusters=100, n_init='auto')),\n",
    "              ('logreg', LogisticRegression(solver='liblinear'))])\n",
    "\n",
    "p = p.fit(dX_train, dy_train)\n",
    "p_score = p.score(dX_test, dy_test)\n",
    "print(f'Using k-means preprocesser: {p_score:.2%}')"
   ]
  },
  {
   "cell_type": "markdown",
   "metadata": {},
   "source": [
    "- You could use GridSearchCV to find the best number of clusters.  \n",
    "- We picked $100$ based on literature on this dataset, but you would want to search for the best values."
   ]
  },
  {
   "cell_type": "markdown",
   "metadata": {},
   "source": [
    "# Another Application: Semi-Supervised Learning\n",
    "Let's pretend we only had 50 labeled images for the digits dataset.  \n",
    "- Something like this is somewhat common, especially with text or images."
   ]
  },
  {
   "cell_type": "code",
   "execution_count": null,
   "metadata": {},
   "outputs": [],
   "source": [
    "n_labeled = 50\n",
    "\n",
    "log_reg = LogisticRegression(solver='liblinear')\n",
    "log_reg.fit(dX_train[:n_labeled], dy_train[:n_labeled])\n",
    "\n",
    "small_n_score = log_reg.score(dX_test, dy_test)\n",
    "print(f'Accuracy with only 50 training examples: {small_n_score:.2%}')"
   ]
  },
  {
   "cell_type": "markdown",
   "metadata": {},
   "source": [
    "> Accuracy much lower than with the full training dataset.\n",
    "\n",
    "#### What if we create labels from the clusters?\n",
    "We label other instances that are really close to centroids after running k-Means?\n",
    "\n",
    "First, we'll need to determine clusters, then determine which labeled instance is closest to the centroid.\n",
    "\n",
    "[Taken from *Hands on Machine Learning with Scikit-Learn, Keras & TensorFlow pages 253-254*](https://github.com/ageron/handson-ml2/blob/master/09_unsupervised_learning.ipynb)"
   ]
  },
  {
   "cell_type": "code",
   "execution_count": null,
   "metadata": {},
   "outputs": [],
   "source": [
    "import numpy as np\n",
    "\n",
    "k = 50\n",
    "\n",
    "kmeans = KMeans(n_clusters = k, n_init='auto')\n",
    "X_digits_dist = kmeans.fit_transform(dX_train)\n",
    "\n",
    "# digit with smallest distance\n",
    "representative_digit_idx = np.argmin(X_digits_dist, axis=0)\n",
    "X_representative_digits = dX_train[representative_digit_idx]"
   ]
  },
  {
   "cell_type": "markdown",
   "metadata": {},
   "source": [
    "### These will be images that are nearest to the cluster centers"
   ]
  },
  {
   "cell_type": "code",
   "execution_count": null,
   "metadata": {},
   "outputs": [],
   "source": [
    "plt.figure(figsize=(9, 4))\n",
    "for index, X_representative_digit in enumerate(X_representative_digits):\n",
    "    plt.subplot(k // 10, 10, index + 1)\n",
    "    plt.imshow(X_representative_digit.reshape(8, 8), cmap=\"binary\", interpolation=\"bilinear\")\n",
    "    plt.axis('off')\n",
    "\n",
    "plt.show()"
   ]
  },
  {
   "cell_type": "markdown",
   "metadata": {},
   "source": [
    "> If we didn't have the labels, we would need to manually look at these and label these manually. Since we have the labels, we'll skip that manual exercise, but be aware it would be necessary."
   ]
  },
  {
   "cell_type": "code",
   "execution_count": null,
   "metadata": {},
   "outputs": [],
   "source": [
    "y_representative_digits = dy_train[representative_digit_idx]\n",
    "\n",
    "log_reg = LogisticRegression(solver='liblinear')\n",
    "log_reg = log_reg.fit(X_representative_digits, y_representative_digits)\n",
    "\n",
    "new_scr = log_reg.score(dX_test, dy_test)\n",
    "print(f'Accuracy with only 50 representative training examples: {new_scr:.2%}')"
   ]
  },
  {
   "cell_type": "markdown",
   "metadata": {},
   "source": [
    "#### Significant improvement in accuracy! Can we do better?\n",
    "Now we'll iteratively create labels all the instances in the cluster and the closest digit."
   ]
  },
  {
   "cell_type": "code",
   "execution_count": null,
   "metadata": {},
   "outputs": [],
   "source": [
    "y_train_propagated = np.empty(len(dX_train), dtype=np.int32)\n",
    "\n",
    "for i in range(k):\n",
    "    y_train_propagated[kmeans.labels_ == i] = y_representative_digits[i]\n",
    "    \n",
    "log_reg = LogisticRegression(solver='liblinear')\n",
    "log_reg = log_reg.fit(dX_train, y_train_propagated)\n",
    "\n",
    "new_scr = log_reg.score(dX_test, dy_test)\n",
    "print(f'Accuracy with propagation: {new_scr:.2%}')"
   ]
  },
  {
   "cell_type": "markdown",
   "metadata": {},
   "source": [
    "> Another performance boost!\n",
    "\n",
    "#### What if we only took the closest examples?\n",
    "We'll try only propagating to the examples in the closest 20th percentile."
   ]
  },
  {
   "cell_type": "code",
   "execution_count": null,
   "metadata": {},
   "outputs": [],
   "source": [
    "percentile_closest = 20\n",
    "\n",
    "X_cluster_dist = X_digits_dist[np.arange(len(dX_train)), kmeans.labels_]\n",
    "for i in range(k):\n",
    "    in_cluster = (kmeans.labels_ == i)\n",
    "    cluster_dist = X_cluster_dist[in_cluster]\n",
    "    cutoff_distance = np.percentile(cluster_dist, percentile_closest)\n",
    "    above_cutoff = (X_cluster_dist > cutoff_distance)\n",
    "    X_cluster_dist[in_cluster & above_cutoff] = -1\n",
    "    \n",
    "partially_propagated = (X_cluster_dist != -1)\n",
    "X_train_partially_propagated = dX_train[partially_propagated]\n",
    "y_train_partially_propagated = y_train_propagated[partially_propagated]\n",
    "\n",
    "log_reg = LogisticRegression(solver='liblinear')\n",
    "log_reg.fit(X_train_partially_propagated, y_train_partially_propagated)\n",
    "\n",
    "new_scr = log_reg.score(dX_test, dy_test)\n",
    "print(f'Accuracy with propagation: {new_scr:.2%}')"
   ]
  },
  {
   "cell_type": "markdown",
   "metadata": {},
   "source": [
    "# Agglomerative (hierarchical) clustering\n",
    "Another clustering method builds the clusters as parts of a tree and let's us visualize it via a `dendrogram`.\n",
    "\n",
    "This can be a useful technique if you expect some type of structure, e.g., you are trying to cluster on recipes. You would expect (hope) the french recipes get grouped together, the Chinese recipes grouped together, ... and then the various variations within those grouped in the terminal nodes.\n",
    "\n",
    "### Basic Steps\n",
    "- Compute a distance matrix for the examples (this could be very large).  \n",
    "- Each example starts as its own cluster.  \n",
    "- Merge the two closest clusters based on distance.  \n",
    "- Update the similarity (linkage) matrix.  \n",
    "- Repeat until one cluster remains.  \n",
    "\n",
    "This is a bottom-up mode, since we start with the individual examples and slowly group them into more and more heterogenous clusters until we are back to the entire dataset.\n",
    "\n",
    "- You can use Euclidean distance or a custom method of your choosing. \n",
    "- Since this is based on distance; you'll want to standardize your features first!  \n",
    "- Linkage is how the clusters are compared for similarity to one another:\n",
    "\n",
    "<img src='files/diagrams/linkage.png' style='width: 500px'>\n",
    "\n",
    "[Image source Machine Learning with Python 3rd Edition Page 368](https://github.com/rasbt/python-machine-learning-book-3rd-edition/tree/master/ch11)"
   ]
  },
  {
   "cell_type": "markdown",
   "metadata": {},
   "source": [
    "### Hierarchial Clustering with the Wine Data"
   ]
  },
  {
   "cell_type": "code",
   "execution_count": null,
   "metadata": {},
   "outputs": [],
   "source": [
    "import pandas as pd\n",
    "\n",
    "wine = pd.read_csv('https://raw.githubusercontent.com/msaricaumbc/DS_data/master/ds602/ensembles/wine.data', header=None)\n",
    "\n",
    "wineColumns = ['Type',\n",
    "'Alcohol',\n",
    "'Malic acid',\n",
    "'Ash',\n",
    "'Alcalinity of ash',\n",
    "'Magnesium',\n",
    "'Total phenols',\n",
    "'Flavanoids',\n",
    "'Nonflavanoid phenols',\n",
    "'Proanthocyanins',\n",
    "'Color intensity',\n",
    "'Hue',\n",
    "'OD280/OD315 of diluted wines',\n",
    "'Proline'\n",
    "]\n",
    "\n",
    "wine.columns = wineColumns\n",
    "\n",
    "wine.head()"
   ]
  },
  {
   "cell_type": "code",
   "execution_count": null,
   "metadata": {},
   "outputs": [],
   "source": [
    "wine.info()"
   ]
  },
  {
   "cell_type": "markdown",
   "metadata": {},
   "source": [
    "#### Scale the data and run the algorithm"
   ]
  },
  {
   "cell_type": "code",
   "execution_count": null,
   "metadata": {},
   "outputs": [],
   "source": [
    "from sklearn.cluster import AgglomerativeClustering\n",
    "from sklearn.preprocessing import StandardScaler\n",
    "\n",
    "# pretending we don't know the type\n",
    "wine_X = wine.iloc[:, 1:]\n",
    "\n",
    "wine_X = StandardScaler().fit_transform(wine_X)\n",
    "\n",
    "ac = AgglomerativeClustering(n_clusters=5, \n",
    "                             metric='euclidean', \n",
    "                             linkage='complete',\n",
    "                             compute_distances=True\n",
    "                            )\n",
    "\n",
    "labels = ac.fit_predict(wine_X)\n",
    "\n",
    "print('Clustering completed.')"
   ]
  },
  {
   "cell_type": "markdown",
   "metadata": {},
   "source": [
    "#### Now we can plot the dendrogram\n",
    "[`plot_dengrogram` taken from scikit-learn example.](https://scikit-learn.org/stable/auto_examples/cluster/plot_agglomerative_dendrogram.html#sphx-glr-auto-examples-cluster-plot-agglomerative-dendrogram-py)"
   ]
  },
  {
   "cell_type": "code",
   "execution_count": null,
   "metadata": {},
   "outputs": [],
   "source": [
    "import numpy as np\n",
    "from scipy.cluster.hierarchy import dendrogram\n",
    "\n",
    "def plot_dendrogram(model, **kwargs):\n",
    "    # Create linkage matrix and then plot the dendrogram\n",
    "\n",
    "    # create the counts of samples under each node\n",
    "    counts = np.zeros(model.children_.shape[0])\n",
    "    n_samples = len(model.labels_)\n",
    "    for i, merge in enumerate(model.children_):\n",
    "        current_count = 0\n",
    "        for child_idx in merge:\n",
    "            if child_idx < n_samples:\n",
    "                current_count += 1  # leaf node\n",
    "            else:\n",
    "                current_count += counts[child_idx - n_samples]\n",
    "        counts[i] = current_count\n",
    "\n",
    "    linkage_matrix = np.column_stack([model.children_, model.distances_,\n",
    "                                      counts]).astype(float)\n",
    "\n",
    "    # Plot the corresponding dendrogram\n",
    "    dendrogram(linkage_matrix, **kwargs)\n",
    "    \n",
    "plt.figure(figsize=(12,5))\n",
    "plot_dendrogram(ac, truncate_mode='lastp')\n",
    "plt.xlabel('Number of Examples {$Example ID$ or $(Examples)$}')\n",
    "plt.ylabel('Distance')\n",
    "plt.title('Dendrogram for Wine Agglomerative Clustering', loc='left')\n",
    "plt.show()"
   ]
  },
  {
   "cell_type": "markdown",
   "metadata": {},
   "source": [
    "- Can be useful in identifying outliers or seeing how close examples are to one another.  \n",
    "- Still need to review features to determine what the clusters represent.  "
   ]
  },
  {
   "cell_type": "markdown",
   "metadata": {},
   "source": [
    "# Density-based Spatial Clustering of Applications with Noise (DBSCAN)\n",
    "\n",
    "<img src='diagrams/dbscan1.png' style='width: 500px'>\n",
    "\n",
    "[source](https://www.kdnuggets.com/2020/04/dbscan-clustering-algorithm-machine-learning.html)\n",
    "\n",
    "- Density-based clustering - essentially identifying areas of continuous high density. \n",
    "- No assumptions about whether the clusters are spherical or not.  \n",
    "- No assumptions about hierarchies.  \n",
    "- Can identity points that are outliers.  \n",
    "\n",
    "### Each Example is Assigned a Label \n",
    "- Core point: if it's sufficiently close to neighbors defined by a minimum number (`MinPts`) falling within a radius, $\\epsilon$. Points within $\\epsilon$ are also considered its neighborhood.  \n",
    "- Border point: on the outside border of the cluster boundary, defined by being within the radius ($\\epsilon$) of a core point but lacking the minimum number of neighbors.  \n",
    "- Noise point: think of these as outliers that aren't attached to any clusters.  \n",
    "\n",
    "### Basic Process\n",
    "- Create clusters for each core point or connected group. They are considered connected if they are within $\\epsilon$.  \n",
    "- Assign the border points.\n",
    "\n",
    "<img src='files/diagrams/dbscan.png' style='width: 600px'>\n",
    "\n",
    "[Image source Machine Learning with Python 3rd Edition Page 377](https://github.com/rasbt/python-machine-learning-book-3rd-edition/tree/master/ch11)\n",
    "\n",
    "<img src='diagrams/dbscan_p.gif' style='width: 600px'>\n",
    "\n",
    "[source](https://www.kdnuggets.com/2020/04/dbscan-clustering-algorithm-machine-learning.html)\n",
    "\n",
    "\n",
    "### Biggest Advantages\n",
    "- Identifies noise/outliers. \n",
    "- No assumptions on structure.  "
   ]
  },
  {
   "cell_type": "markdown",
   "metadata": {},
   "source": [
    "## Example with Half-Moons"
   ]
  },
  {
   "cell_type": "code",
   "execution_count": null,
   "metadata": {},
   "outputs": [],
   "source": [
    "from sklearn.datasets import make_moons\n",
    "\n",
    "X, y = make_moons(n_samples=300, noise=0.05, random_state=0)\n",
    "\n",
    "plt.scatter(X[:,0], X[:,1])\n",
    "plt.show()"
   ]
  },
  {
   "cell_type": "markdown",
   "metadata": {},
   "source": [
    "### See how k-Means handles this data"
   ]
  },
  {
   "cell_type": "code",
   "execution_count": null,
   "metadata": {},
   "outputs": [],
   "source": [
    "from sklearn.cluster import KMeans\n",
    "\n",
    "km = KMeans(n_clusters=2, n_init='auto')\n",
    "km = km.fit(X)\n",
    "\n",
    "pclusters = km.predict(X)\n",
    "\n",
    "for i in range(n):\n",
    "    plt.scatter(X[pclusters==i, 0], X[pclusters==i, 1], alpha=0.25)\n",
    "plt.show()"
   ]
  },
  {
   "cell_type": "markdown",
   "metadata": {},
   "source": [
    "> k-Means assumes spherical clusters, so this isn't going to work...  \n",
    "\n",
    "### Now with DBSCAN\n",
    "> Note: there isn't a `.predict()` method for DBSCAN since it's meant to identify clusters based on the current dataset. If you needed predictions, you could use the outputs and use with KMeans. See pages 257-258 of *Hands-on Machine Learning with Scikit-Learn, Keras & TensorFlow*."
   ]
  },
  {
   "cell_type": "code",
   "execution_count": null,
   "metadata": {},
   "outputs": [],
   "source": [
    "from sklearn.cluster import DBSCAN\n",
    "\n",
    "db = DBSCAN(eps=0.2, min_samples=5, metric='euclidean')\n",
    "pclusters = db.fit_predict(X)\n",
    "labs = db.labels_\n",
    "ulabs = np.unique(labs)\n",
    "\n",
    "for i in ulabs:\n",
    "    plt.scatter(X[pclusters==i, 0], X[pclusters==i, 1], alpha=0.25)\n",
    "plt.show()"
   ]
  },
  {
   "cell_type": "markdown",
   "metadata": {},
   "source": [
    "- DBSCAN was able to identity the areas of continously density, and thus, the half moons.  \n",
    "- So for data of arbitrary shapes, this will probably perform better than k-Means or hierarchical clustering.  "
   ]
  },
  {
   "cell_type": "code",
   "execution_count": null,
   "metadata": {},
   "outputs": [],
   "source": [
    "from sklearn.cluster import DBSCAN\n",
    "\n",
    "db = DBSCAN(eps=0.05, min_samples=5, metric='euclidean')\n",
    "pclusters = db.fit_predict(X)\n",
    "labs = db.labels_\n",
    "ulabs = np.unique(labs)\n",
    "\n",
    "plt.figure(figsize=(10,4))\n",
    "for i in ulabs:\n",
    "    plt.scatter(X[pclusters==i, 0], X[pclusters==i, 1], alpha=0.25)\n",
    "plt.legend(ulabs)\n",
    "plt.show()"
   ]
  },
  {
   "cell_type": "markdown",
   "metadata": {},
   "source": [
    "> Setting the radius too small, and nearly everything could be an outlier ($-1$)."
   ]
  },
  {
   "cell_type": "markdown",
   "metadata": {},
   "source": [
    "### Cons\n",
    "- Vulnerable to curse of dimensionality (not unique, not something to be aware of).  \n",
    "- Need to determine $\\epsilon$ and the minimum number of points.  \n",
    "- If the density if very uneven, finding reasonable choices for $\\epsilon$ and the minimum points could be challenging.  "
   ]
  },
  {
   "cell_type": "markdown",
   "metadata": {},
   "source": [
    "# Additional Clustering Algorithms\n",
    "- [Balance Iterative Reducing and Clustering using Hierarchies (BIRCH)](https://en.wikipedia.org/wiki/BIRCH): designed for very large datasets. Similar to k-means and traditionally has similar results.    \n",
    "- [Mean-Shift](https://scikit-learn.org/stable/modules/generated/sklearn.cluster.MeanShift.html):  Starts with a circle around each example and computes mean of instances within that circle, then centers so the it is centered on the mean. Shifts to areas of higher density. Circles in similar places are assigned to the same cluster. Very computationally complicated and not suitable for bigger datasets.     \n",
    "- [Affinity](https://en.wikipedia.org/wiki/Affinity_propagation): Voting based.  \n",
    "- [Spectral clustering](https://scikit-learn.org/stable/modules/generated/sklearn.cluster.SpectralClustering.html): Uses similarity matrix and simple embedding and then uses k-means (or another clustering algorithm).  \n",
    "- [Gaussian Mixtures](https://scikit-learn.org/stable/modules/mixture.html)"
   ]
  },
  {
   "cell_type": "markdown",
   "metadata": {},
   "source": [
    "# Association Rules\n",
    "- Also referred to as data mining or `market basket analysis`.  \n",
    "- Common algorithm is [`apriori`](https://en.wikipedia.org/wiki/Apriori_algorithm).  \n",
    "- If someone buys `toilet paper`, `water`, and `bread`; they probably also bought `_______`.  \n",
    "- Not the most efficient algorithm in the world.  \n",
    "- $3$ metrics to calculate:\n",
    "    - $support(m)$ = $\\frac{\\text{# transactions containing m}}{\\text{# transactions}}$<br><br>\n",
    "    \n",
    "    - $confidence(m\\rightarrow n)$ = $\\frac{\\text{# transactions containing m and n}}{\\text{# transactions containing m}}$<br><br>\n",
    "    - $lift(m\\rightarrow n)$ = $\\frac{confidence_{m \\rightarrow n}}{support_n}$  \n",
    "\n",
    "This is easily extended to looking at sets of 3, 4, ...\n",
    "\n",
    "### Steps:\n",
    "- Set minimum support and confidence.  \n",
    "- Take subsets that exceed minimum support.  \n",
    "- Take rules where confidence exceeds minimum confidence.  \n",
    "- Sort by decreasing lift."
   ]
  },
  {
   "cell_type": "markdown",
   "metadata": {},
   "source": [
    "Example with grocery transactions:"
   ]
  },
  {
   "cell_type": "code",
   "execution_count": null,
   "metadata": {},
   "outputs": [],
   "source": [
    "import pandas as pd\n",
    "\n",
    "pd.set_option('display.max_columns', 100)\n",
    "txn = pd.read_csv('https://raw.githubusercontent.com/msaricaumbc/DS_data/master/ds602/grocery.csv', header=None)\n",
    "txn = txn.reset_index()\n",
    "txn = txn.rename(columns={'index':'transactionID'})\n",
    "txn.head()"
   ]
  },
  {
   "cell_type": "code",
   "execution_count": null,
   "metadata": {},
   "outputs": [],
   "source": [
    "txn.shape"
   ]
  },
  {
   "cell_type": "code",
   "execution_count": null,
   "metadata": {},
   "outputs": [],
   "source": [
    "transactions = (\n",
    "    txn.melt(id_vars='transactionID')\n",
    "    .dropna()\n",
    "    .groupby('transactionID')['value'].apply(lambda x: list(set(x)))\n",
    ").tolist()\n",
    "\n",
    "for i in range(5):\n",
    "    print(f'\\nTransaction {i}')\n",
    "    print(*transactions[i])"
   ]
  },
  {
   "cell_type": "code",
   "execution_count": null,
   "metadata": {},
   "outputs": [],
   "source": [
    "# !pip install mlxtend  "
   ]
  },
  {
   "cell_type": "code",
   "execution_count": null,
   "metadata": {},
   "outputs": [],
   "source": [
    "import pandas as pd\n",
    "from mlxtend.preprocessing import TransactionEncoder\n",
    "\n",
    "te = TransactionEncoder()\n",
    "te_ary = te.fit(transactions).transform(transactions)\n",
    "df = pd.DataFrame(te_ary, columns=te.columns_)\n",
    "df.head()"
   ]
  },
  {
   "cell_type": "code",
   "execution_count": null,
   "metadata": {},
   "outputs": [],
   "source": [
    "from mlxtend.frequent_patterns import apriori\n",
    "\n",
    "results = apriori(df, min_support=0.02, use_colnames=True)\n",
    "results['items'] = results['itemsets'].apply(lambda x: len(x))\n",
    "\n",
    "results.sort_values(by=['items', 'support'], ascending=[False, False]).query('items>1')"
   ]
  },
  {
   "cell_type": "markdown",
   "metadata": {},
   "source": [
    "> More information on [mlxtend and Apriori](http://rasbt.github.io/mlxtend/user_guide/frequent_patterns/apriori/)"
   ]
  },
  {
   "cell_type": "markdown",
   "metadata": {},
   "source": [
    "# Non-negative Matrix Factorization\n",
    "- Technique to decompose a matrix into the product of two matrices that approximate the original matrix.  \n",
    "- Can be used for recommendation / collaborative filtering.\n",
    "\n",
    "We have an original matrix, $V$, and the goal is to find two new matrices, $H$ and $W$, that when multiplied together approximate $V$. This approximated $V$ contains no zeros, and values that were zero and replaced by an estimated floating point value.  \n",
    "- Per the title, these matrices, including $V$, cannot contain negative numbers.  \n",
    "- Ideal for using for counts of items purchased and other events that cannot be negative.  \n",
    "\n",
    "<img src='diagrams/nmf.png'>\n",
    "\n",
    "[Image source: Wikipedia](https://en.wikipedia.org/wiki/Non-negative_matrix_factorization#/media/File:NMF.png)\n",
    "\n",
    "This doesn't have an exact solution, so it is solved with approximation, with the aim of minimizing the distance, $d$, between $V$ and $WH$.\n",
    "\n",
    "It uses the squared Frobenius norm for distance, which is essentially Euclidean distance for matrices.  \n",
    "\n",
    "$$\n",
    "d_{Fro}(V,WH)=\\frac{1}{2}||V-WH||_{Fro}^2=\\frac{1}{2}\\sum(V_{ij}-WH_{ij})^2\n",
    "$$"
   ]
  },
  {
   "cell_type": "code",
   "execution_count": null,
   "metadata": {},
   "outputs": [],
   "source": [
    "import pandas as pd\n",
    "import numpy as np\n",
    "from sklearn.decomposition import NMF\n",
    "\n",
    "V = np.array([[12,11,3,4,6,4,4],\n",
    "              [12,3,6,5,6,4,3],\n",
    "              [7 ,3,4,0,5, 1,2],\n",
    "              [7 ,4,3,6,5, 1,2],\n",
    "              [5 ,0,0,0,2,2,2],\n",
    "              [3 ,1, 3,0,6,3,2]])\n",
    "\n",
    "V"
   ]
  },
  {
   "cell_type": "code",
   "execution_count": null,
   "metadata": {},
   "outputs": [],
   "source": [
    "V = pd.DataFrame(V, columns=['Chris', 'Kim', 'Brian', 'Billy', 'Devin', 'John', 'Joe'])\n",
    "V.index = ['Batman', 'Superman', 'Green Lantern', 'Aquaman', 'Flash', 'Cyborg']\n",
    "\n",
    "V"
   ]
  },
  {
   "cell_type": "code",
   "execution_count": null,
   "metadata": {},
   "outputs": [],
   "source": [
    "from sklearn.decomposition import NMF\n",
    "\n",
    "nmf = NMF(init=None, max_iter=1000)\n",
    "nmf.fit(V)\n",
    "\n",
    "H = pd.DataFrame(nmf.components_, columns=V.columns)\n",
    "H"
   ]
  },
  {
   "cell_type": "code",
   "execution_count": null,
   "metadata": {},
   "outputs": [],
   "source": [
    "W = pd.DataFrame(nmf.transform(V), columns=V.columns)\n",
    "W.index = V.index\n",
    "\n",
    "W"
   ]
  },
  {
   "cell_type": "code",
   "execution_count": null,
   "metadata": {},
   "outputs": [],
   "source": [
    "reconstructed = pd.DataFrame(np.dot(W,H), columns=V.columns)\n",
    "reconstructed.index = V.index\n",
    "\n",
    "print('Original\\n')\n",
    "print(V)\n",
    "\n",
    "print('\\nReconstructed\\n')\n",
    "print(np.round(reconstructed,4))"
   ]
  },
  {
   "cell_type": "markdown",
   "metadata": {},
   "source": [
    "## Using on the grocery data\n",
    "We are going to restrict the number of people to make this run relatively fast. This is the same format as the above example. Remember this is the `V` matrix."
   ]
  },
  {
   "cell_type": "code",
   "execution_count": null,
   "metadata": {},
   "outputs": [],
   "source": [
    "dfT = df.transpose()\n",
    "dfT = dfT.iloc[:, 0:300]\n",
    "dfT[:] = np.where(dfT[:], 1, 0)\n",
    "dfT.head()"
   ]
  },
  {
   "cell_type": "markdown",
   "metadata": {},
   "source": [
    "#### Now we create the `H` matrix:"
   ]
  },
  {
   "cell_type": "code",
   "execution_count": null,
   "metadata": {},
   "outputs": [],
   "source": [
    "from sklearn.decomposition import NMF\n",
    "import datetime\n",
    "\n",
    "st = datetime.datetime.now()\n",
    "\n",
    "nmf = NMF(init=None, max_iter=2500)\n",
    "nmf.fit(dfT)\n",
    "\n",
    "Ht = pd.DataFrame(nmf.components_, columns=dfT.columns)\n",
    "\n",
    "en = datetime.datetime.now()\n",
    "el = en - st\n",
    "\n",
    "print(f'Elapsed time: {el}')\n",
    "\n",
    "Ht.head()"
   ]
  },
  {
   "cell_type": "markdown",
   "metadata": {},
   "source": [
    "#### Now we create the `W` matrix:"
   ]
  },
  {
   "cell_type": "code",
   "execution_count": null,
   "metadata": {},
   "outputs": [],
   "source": [
    "import datetime\n",
    "\n",
    "st = datetime.datetime.now()\n",
    "Wt = pd.DataFrame(nmf.transform(dfT), columns=dfT.columns)\n",
    "Wt.index = dfT.index\n",
    "\n",
    "en = datetime.datetime.now()\n",
    "el = en - st\n",
    "\n",
    "print(f'Elapsed time: {el}')\n",
    "\n",
    "Wt"
   ]
  },
  {
   "cell_type": "markdown",
   "metadata": {},
   "source": [
    "#### And now we multiply `H` and `W` to reconstruct `V`:"
   ]
  },
  {
   "cell_type": "code",
   "execution_count": null,
   "metadata": {},
   "outputs": [],
   "source": [
    "reconstructed = pd.DataFrame(np.dot(Wt,Ht), columns=dfT.columns)\n",
    "reconstructed.index = dfT.index\n",
    "\n",
    "reconstructed.head()"
   ]
  },
  {
   "cell_type": "markdown",
   "metadata": {},
   "source": [
    "### Let's find individuals that bought frankfurters (hotdogs) and no buns/rolls\n",
    "You would expect to recommend someone that."
   ]
  },
  {
   "cell_type": "code",
   "execution_count": null,
   "metadata": {},
   "outputs": [],
   "source": [
    "df.query('frankfurter and `rolls/buns` == False', engine='python').head()"
   ]
  },
  {
   "cell_type": "code",
   "execution_count": null,
   "metadata": {},
   "outputs": [],
   "source": [
    "person_id = 120\n",
    "\n",
    "reconstructed[person_id].sort_values(ascending=False).head(15)"
   ]
  },
  {
   "cell_type": "markdown",
   "metadata": {},
   "source": [
    "### Let's look at another example (similar people) "
   ]
  },
  {
   "cell_type": "code",
   "execution_count": 15,
   "metadata": {},
   "outputs": [
    {
     "data": {
      "text/html": [
       "<div>\n",
       "<style scoped>\n",
       "    .dataframe tbody tr th:only-of-type {\n",
       "        vertical-align: middle;\n",
       "    }\n",
       "\n",
       "    .dataframe tbody tr th {\n",
       "        vertical-align: top;\n",
       "    }\n",
       "\n",
       "    .dataframe thead th {\n",
       "        text-align: right;\n",
       "    }\n",
       "</style>\n",
       "<table border=\"1\" class=\"dataframe\">\n",
       "  <thead>\n",
       "    <tr style=\"text-align: right;\">\n",
       "      <th></th>\n",
       "      <th>URI</th>\n",
       "      <th>name</th>\n",
       "      <th>text</th>\n",
       "    </tr>\n",
       "  </thead>\n",
       "  <tbody>\n",
       "    <tr>\n",
       "      <th>0</th>\n",
       "      <td>&lt;http://dbpedia.org/resource/Digby_Morrell&gt;</td>\n",
       "      <td>Digby Morrell</td>\n",
       "      <td>digby morrell born 10 october 1979 is a former...</td>\n",
       "    </tr>\n",
       "    <tr>\n",
       "      <th>1</th>\n",
       "      <td>&lt;http://dbpedia.org/resource/Alfred_J._Lewy&gt;</td>\n",
       "      <td>Alfred J. Lewy</td>\n",
       "      <td>alfred j lewy aka sandy lewy graduated from un...</td>\n",
       "    </tr>\n",
       "    <tr>\n",
       "      <th>2</th>\n",
       "      <td>&lt;http://dbpedia.org/resource/Harpdog_Brown&gt;</td>\n",
       "      <td>Harpdog Brown</td>\n",
       "      <td>harpdog brown is a singer and harmonica player...</td>\n",
       "    </tr>\n",
       "    <tr>\n",
       "      <th>3</th>\n",
       "      <td>&lt;http://dbpedia.org/resource/Franz_Rottensteiner&gt;</td>\n",
       "      <td>Franz Rottensteiner</td>\n",
       "      <td>franz rottensteiner born in waidmannsfeld lowe...</td>\n",
       "    </tr>\n",
       "    <tr>\n",
       "      <th>4</th>\n",
       "      <td>&lt;http://dbpedia.org/resource/G-Enka&gt;</td>\n",
       "      <td>G-Enka</td>\n",
       "      <td>henry krvits born 30 december 1974 in tallinn ...</td>\n",
       "    </tr>\n",
       "  </tbody>\n",
       "</table>\n",
       "</div>"
      ],
      "text/plain": [
       "                                                 URI                 name  \\\n",
       "0        <http://dbpedia.org/resource/Digby_Morrell>        Digby Morrell   \n",
       "1       <http://dbpedia.org/resource/Alfred_J._Lewy>       Alfred J. Lewy   \n",
       "2        <http://dbpedia.org/resource/Harpdog_Brown>        Harpdog Brown   \n",
       "3  <http://dbpedia.org/resource/Franz_Rottensteiner>  Franz Rottensteiner   \n",
       "4               <http://dbpedia.org/resource/G-Enka>               G-Enka   \n",
       "\n",
       "                                                text  \n",
       "0  digby morrell born 10 october 1979 is a former...  \n",
       "1  alfred j lewy aka sandy lewy graduated from un...  \n",
       "2  harpdog brown is a singer and harmonica player...  \n",
       "3  franz rottensteiner born in waidmannsfeld lowe...  \n",
       "4  henry krvits born 30 december 1974 in tallinn ...  "
      ]
     },
     "execution_count": 15,
     "metadata": {},
     "output_type": "execute_result"
    }
   ],
   "source": [
    "from zipfile import ZipFile\n",
    "from io import BytesIO\n",
    "import urllib.request as urllib2\n",
    "import pandas as pd\n",
    "def get_data():\n",
    "    r = urllib2.urlopen(\"https://github.com/msaricaumbc/DS_data/blob/master/ds602/people_wiki.zip?raw=true\").read()\n",
    "    file = ZipFile(BytesIO(r))\n",
    "    people_wiki_csv = file.open(\"people_wiki.csv\")\n",
    "    people = pd.read_csv(people_wiki_csv)\n",
    "    return people\n",
    "\n",
    "people = get_data()\n",
    "people.head()"
   ]
  },
  {
   "cell_type": "code",
   "execution_count": 16,
   "metadata": {},
   "outputs": [
    {
     "data": {
      "text/plain": [
       "(42786, 2)"
      ]
     },
     "execution_count": 16,
     "metadata": {},
     "output_type": "execute_result"
    }
   ],
   "source": [
    "people.drop('URI', inplace=True, axis=1)\n",
    "people.shape"
   ]
  },
  {
   "cell_type": "code",
   "execution_count": 17,
   "metadata": {},
   "outputs": [],
   "source": [
    "from sklearn.feature_extraction.text import CountVectorizer\n",
    "\n",
    "vec = CountVectorizer(stop_words='english', max_features=10000)\n",
    "corpus = vec.fit_transform(people.text)\n",
    "corpus = corpus.toarray()"
   ]
  },
  {
   "cell_type": "code",
   "execution_count": 18,
   "metadata": {},
   "outputs": [
    {
     "data": {
      "text/html": [
       "<div>\n",
       "<style scoped>\n",
       "    .dataframe tbody tr th:only-of-type {\n",
       "        vertical-align: middle;\n",
       "    }\n",
       "\n",
       "    .dataframe tbody tr th {\n",
       "        vertical-align: top;\n",
       "    }\n",
       "\n",
       "    .dataframe thead th {\n",
       "        text-align: right;\n",
       "    }\n",
       "</style>\n",
       "<table border=\"1\" class=\"dataframe\">\n",
       "  <thead>\n",
       "    <tr style=\"text-align: right;\">\n",
       "      <th></th>\n",
       "      <th>name</th>\n",
       "      <th>text</th>\n",
       "    </tr>\n",
       "  </thead>\n",
       "  <tbody>\n",
       "    <tr>\n",
       "      <th>24478</th>\n",
       "      <td>Joe Biden</td>\n",
       "      <td>joseph robinette joe biden jr dosf rbnt badn b...</td>\n",
       "    </tr>\n",
       "  </tbody>\n",
       "</table>\n",
       "</div>"
      ],
      "text/plain": [
       "            name                                               text\n",
       "24478  Joe Biden  joseph robinette joe biden jr dosf rbnt badn b..."
      ]
     },
     "execution_count": 18,
     "metadata": {},
     "output_type": "execute_result"
    }
   ],
   "source": [
    "person = people.query('name == \"Joe Biden\"')\n",
    "person"
   ]
  },
  {
   "cell_type": "code",
   "execution_count": 19,
   "metadata": {},
   "outputs": [
    {
     "data": {
      "text/plain": [
       "array([[0.04939966, 0.02836264, 0.03850959, ..., 0.03286175, 0.02918491,\n",
       "        0.07815824]])"
      ]
     },
     "execution_count": 19,
     "metadata": {},
     "output_type": "execute_result"
    }
   ],
   "source": [
    "from sklearn.metrics.pairwise import cosine_similarity\n",
    "\n",
    "similarity = cosine_similarity([corpus[person.index[0]]], corpus)\n",
    "similarity"
   ]
  },
  {
   "cell_type": "code",
   "execution_count": 20,
   "metadata": {},
   "outputs": [
    {
     "data": {
      "text/html": [
       "<div>\n",
       "<style scoped>\n",
       "    .dataframe tbody tr th:only-of-type {\n",
       "        vertical-align: middle;\n",
       "    }\n",
       "\n",
       "    .dataframe tbody tr th {\n",
       "        vertical-align: top;\n",
       "    }\n",
       "\n",
       "    .dataframe thead th {\n",
       "        text-align: right;\n",
       "    }\n",
       "</style>\n",
       "<table border=\"1\" class=\"dataframe\">\n",
       "  <thead>\n",
       "    <tr style=\"text-align: right;\">\n",
       "      <th></th>\n",
       "      <th>name</th>\n",
       "      <th>text</th>\n",
       "      <th>similarity</th>\n",
       "    </tr>\n",
       "  </thead>\n",
       "  <tbody>\n",
       "    <tr>\n",
       "      <th>0</th>\n",
       "      <td>Digby Morrell</td>\n",
       "      <td>digby morrell born 10 october 1979 is a former...</td>\n",
       "      <td>0.049400</td>\n",
       "    </tr>\n",
       "    <tr>\n",
       "      <th>1</th>\n",
       "      <td>Alfred J. Lewy</td>\n",
       "      <td>alfred j lewy aka sandy lewy graduated from un...</td>\n",
       "      <td>0.028363</td>\n",
       "    </tr>\n",
       "    <tr>\n",
       "      <th>2</th>\n",
       "      <td>Harpdog Brown</td>\n",
       "      <td>harpdog brown is a singer and harmonica player...</td>\n",
       "      <td>0.038510</td>\n",
       "    </tr>\n",
       "    <tr>\n",
       "      <th>3</th>\n",
       "      <td>Franz Rottensteiner</td>\n",
       "      <td>franz rottensteiner born in waidmannsfeld lowe...</td>\n",
       "      <td>0.066855</td>\n",
       "    </tr>\n",
       "    <tr>\n",
       "      <th>4</th>\n",
       "      <td>G-Enka</td>\n",
       "      <td>henry krvits born 30 december 1974 in tallinn ...</td>\n",
       "      <td>0.014550</td>\n",
       "    </tr>\n",
       "  </tbody>\n",
       "</table>\n",
       "</div>"
      ],
      "text/plain": [
       "                  name                                               text  \\\n",
       "0        Digby Morrell  digby morrell born 10 october 1979 is a former...   \n",
       "1       Alfred J. Lewy  alfred j lewy aka sandy lewy graduated from un...   \n",
       "2        Harpdog Brown  harpdog brown is a singer and harmonica player...   \n",
       "3  Franz Rottensteiner  franz rottensteiner born in waidmannsfeld lowe...   \n",
       "4               G-Enka  henry krvits born 30 december 1974 in tallinn ...   \n",
       "\n",
       "   similarity  \n",
       "0    0.049400  \n",
       "1    0.028363  \n",
       "2    0.038510  \n",
       "3    0.066855  \n",
       "4    0.014550  "
      ]
     },
     "execution_count": 20,
     "metadata": {},
     "output_type": "execute_result"
    }
   ],
   "source": [
    "people['similarity'] = similarity[0]\n",
    "people.head()"
   ]
  },
  {
   "cell_type": "code",
   "execution_count": 21,
   "metadata": {},
   "outputs": [
    {
     "data": {
      "text/html": [
       "<div>\n",
       "<style scoped>\n",
       "    .dataframe tbody tr th:only-of-type {\n",
       "        vertical-align: middle;\n",
       "    }\n",
       "\n",
       "    .dataframe tbody tr th {\n",
       "        vertical-align: top;\n",
       "    }\n",
       "\n",
       "    .dataframe thead th {\n",
       "        text-align: right;\n",
       "    }\n",
       "</style>\n",
       "<table border=\"1\" class=\"dataframe\">\n",
       "  <thead>\n",
       "    <tr style=\"text-align: right;\">\n",
       "      <th></th>\n",
       "      <th>name</th>\n",
       "      <th>text</th>\n",
       "      <th>similarity</th>\n",
       "    </tr>\n",
       "  </thead>\n",
       "  <tbody>\n",
       "    <tr>\n",
       "      <th>24478</th>\n",
       "      <td>Joe Biden</td>\n",
       "      <td>joseph robinette joe biden jr dosf rbnt badn b...</td>\n",
       "      <td>1.000000</td>\n",
       "    </tr>\n",
       "    <tr>\n",
       "      <th>35811</th>\n",
       "      <td>Barack Obama</td>\n",
       "      <td>barack hussein obama ii brk husen bm born augu...</td>\n",
       "      <td>0.502338</td>\n",
       "    </tr>\n",
       "    <tr>\n",
       "      <th>31417</th>\n",
       "      <td>Walter Mondale</td>\n",
       "      <td>walter frederick fritz mondale born january 5 ...</td>\n",
       "      <td>0.464199</td>\n",
       "    </tr>\n",
       "    <tr>\n",
       "      <th>4408</th>\n",
       "      <td>Joe Lieberman</td>\n",
       "      <td>joseph isadore joe lieberman born february 24 ...</td>\n",
       "      <td>0.412999</td>\n",
       "    </tr>\n",
       "    <tr>\n",
       "      <th>39351</th>\n",
       "      <td>John McCain</td>\n",
       "      <td>john sidney mccain iii born august 29 1936 is ...</td>\n",
       "      <td>0.372917</td>\n",
       "    </tr>\n",
       "    <tr>\n",
       "      <th>16880</th>\n",
       "      <td>Cynthia Hogan</td>\n",
       "      <td>cynthia c hogan born cincinnati ohio about 195...</td>\n",
       "      <td>0.372817</td>\n",
       "    </tr>\n",
       "    <tr>\n",
       "      <th>37868</th>\n",
       "      <td>Dick Cheney</td>\n",
       "      <td>richard bruce dick cheney born january 30 1941...</td>\n",
       "      <td>0.357788</td>\n",
       "    </tr>\n",
       "    <tr>\n",
       "      <th>37643</th>\n",
       "      <td>Max Baucus</td>\n",
       "      <td>max sieben baucus born december 11 1941 is the...</td>\n",
       "      <td>0.355817</td>\n",
       "    </tr>\n",
       "    <tr>\n",
       "      <th>21186</th>\n",
       "      <td>Mazie Hirono</td>\n",
       "      <td>mazie keiko hirono meij hirono japanese name h...</td>\n",
       "      <td>0.353337</td>\n",
       "    </tr>\n",
       "    <tr>\n",
       "      <th>15199</th>\n",
       "      <td>Dan Quayle</td>\n",
       "      <td>james danforth dan quayle kwel born february 4...</td>\n",
       "      <td>0.344677</td>\n",
       "    </tr>\n",
       "  </tbody>\n",
       "</table>\n",
       "</div>"
      ],
      "text/plain": [
       "                 name                                               text  \\\n",
       "24478       Joe Biden  joseph robinette joe biden jr dosf rbnt badn b...   \n",
       "35811    Barack Obama  barack hussein obama ii brk husen bm born augu...   \n",
       "31417  Walter Mondale  walter frederick fritz mondale born january 5 ...   \n",
       "4408    Joe Lieberman  joseph isadore joe lieberman born february 24 ...   \n",
       "39351     John McCain  john sidney mccain iii born august 29 1936 is ...   \n",
       "16880   Cynthia Hogan  cynthia c hogan born cincinnati ohio about 195...   \n",
       "37868     Dick Cheney  richard bruce dick cheney born january 30 1941...   \n",
       "37643      Max Baucus  max sieben baucus born december 11 1941 is the...   \n",
       "21186    Mazie Hirono  mazie keiko hirono meij hirono japanese name h...   \n",
       "15199      Dan Quayle  james danforth dan quayle kwel born february 4...   \n",
       "\n",
       "       similarity  \n",
       "24478    1.000000  \n",
       "35811    0.502338  \n",
       "31417    0.464199  \n",
       "4408     0.412999  \n",
       "39351    0.372917  \n",
       "16880    0.372817  \n",
       "37868    0.357788  \n",
       "37643    0.355817  \n",
       "21186    0.353337  \n",
       "15199    0.344677  "
      ]
     },
     "execution_count": 21,
     "metadata": {},
     "output_type": "execute_result"
    }
   ],
   "source": [
    "people.sort_values(by='similarity', ascending=False)[:10]"
   ]
  },
  {
   "cell_type": "code",
   "execution_count": 22,
   "metadata": {},
   "outputs": [
    {
     "name": "stdout",
     "output_type": "stream",
     "text": [
      "joseph robinette joe biden jr dosf rbnt badn born november 20 1942 is the 47th and current vice president of the united states jointly elected with president barack obama he is a member of the democratic party and was a united states senator from delaware from january 3 1973 until his resignation on january 15 2009 following his election to the vice presidency in 2012 biden was elected to a second term alongside obamabiden was born in scranton pennsylvania and lived there for ten years before mo\n",
      "-----\n",
      "barack hussein obama ii brk husen bm born august 4 1961 is the 44th and current president of the united states and the first african american to hold the office born in honolulu hawaii obama is a graduate of columbia university and harvard law school where he served as president of the harvard law review he was a community organizer in chicago before earning his law degree he worked as a civil rights attorney and taught constitutional law at the university of chicago law school from 1992 to 2004\n",
      "-----\n",
      "walter frederick fritz mondale born january 5 1928 is an american democratic party politician who served as the 42nd vice president of the united states 19771981 under president jimmy carter and as a united states senator from minnesota 19641976 he was the democratic partys presidential candidate in the united states presidential election of 1984 at more than 34 years he has had the longest retirement of any vice presidentmondale was born in ceylon minnesota and graduated from the university of \n",
      "-----\n",
      "joseph isadore joe lieberman born february 24 1942 is a former united states senator from connecticut a former member of the democratic party he was the partys nominee for vice president in the 2000 election currently an independent he remains closely associated with the partyborn in stamford connecticut lieberman is a graduate of yale college and yale law school he was elected as a reform democrat in 1970 to the connecticut senate where he served three terms as majority leader after an unsucces\n",
      "-----\n",
      "john sidney mccain iii born august 29 1936 is the senior united states senator from arizona he was the republican presidential nominee in the 2008 united states presidential electionmccain followed his father and grandfather both fourstar admirals into the united states navy graduating from the us naval academy in 1958 he became a naval aviator flying groundattack aircraft from aircraft carriers during the vietnam war he was almost killed in the 1967 uss forrestal fire in october 1967 while on a\n",
      "-----\n"
     ]
    }
   ],
   "source": [
    "for i in people.sort_values(by='similarity', ascending=False)[:5].text:\n",
    "    print(i[:500])\n",
    "    print('-----')"
   ]
  },
  {
   "cell_type": "code",
   "execution_count": 23,
   "metadata": {},
   "outputs": [],
   "source": [
    "from sklearn.metrics.pairwise import cosine_similarity, pairwise_distances\n",
    "\n",
    "def get_similar_people(name, top=5):\n",
    "    person = people.query(f'name == \"{name}\"')\n",
    "    if len(person)==0:\n",
    "        print('no match')\n",
    "        return\n",
    "    \n",
    "    similarity = cosine_similarity([corpus[person.index[0]]], corpus)\n",
    "    people['similarity'] = similarity[0]\n",
    "    return people.sort_values(by='similarity', ascending=False)[:top]\n"
   ]
  },
  {
   "cell_type": "code",
   "execution_count": 24,
   "metadata": {},
   "outputs": [
    {
     "data": {
      "text/html": [
       "<div>\n",
       "<style scoped>\n",
       "    .dataframe tbody tr th:only-of-type {\n",
       "        vertical-align: middle;\n",
       "    }\n",
       "\n",
       "    .dataframe tbody tr th {\n",
       "        vertical-align: top;\n",
       "    }\n",
       "\n",
       "    .dataframe thead th {\n",
       "        text-align: right;\n",
       "    }\n",
       "</style>\n",
       "<table border=\"1\" class=\"dataframe\">\n",
       "  <thead>\n",
       "    <tr style=\"text-align: right;\">\n",
       "      <th></th>\n",
       "      <th>name</th>\n",
       "      <th>text</th>\n",
       "      <th>similarity</th>\n",
       "    </tr>\n",
       "  </thead>\n",
       "  <tbody>\n",
       "    <tr>\n",
       "      <th>24478</th>\n",
       "      <td>Joe Biden</td>\n",
       "      <td>joseph robinette joe biden jr dosf rbnt badn b...</td>\n",
       "      <td>1.000000</td>\n",
       "    </tr>\n",
       "    <tr>\n",
       "      <th>35811</th>\n",
       "      <td>Barack Obama</td>\n",
       "      <td>barack hussein obama ii brk husen bm born augu...</td>\n",
       "      <td>0.502338</td>\n",
       "    </tr>\n",
       "    <tr>\n",
       "      <th>31417</th>\n",
       "      <td>Walter Mondale</td>\n",
       "      <td>walter frederick fritz mondale born january 5 ...</td>\n",
       "      <td>0.464199</td>\n",
       "    </tr>\n",
       "    <tr>\n",
       "      <th>4408</th>\n",
       "      <td>Joe Lieberman</td>\n",
       "      <td>joseph isadore joe lieberman born february 24 ...</td>\n",
       "      <td>0.412999</td>\n",
       "    </tr>\n",
       "    <tr>\n",
       "      <th>39351</th>\n",
       "      <td>John McCain</td>\n",
       "      <td>john sidney mccain iii born august 29 1936 is ...</td>\n",
       "      <td>0.372917</td>\n",
       "    </tr>\n",
       "  </tbody>\n",
       "</table>\n",
       "</div>"
      ],
      "text/plain": [
       "                 name                                               text  \\\n",
       "24478       Joe Biden  joseph robinette joe biden jr dosf rbnt badn b...   \n",
       "35811    Barack Obama  barack hussein obama ii brk husen bm born augu...   \n",
       "31417  Walter Mondale  walter frederick fritz mondale born january 5 ...   \n",
       "4408    Joe Lieberman  joseph isadore joe lieberman born february 24 ...   \n",
       "39351     John McCain  john sidney mccain iii born august 29 1936 is ...   \n",
       "\n",
       "       similarity  \n",
       "24478    1.000000  \n",
       "35811    0.502338  \n",
       "31417    0.464199  \n",
       "4408     0.412999  \n",
       "39351    0.372917  "
      ]
     },
     "execution_count": 24,
     "metadata": {},
     "output_type": "execute_result"
    }
   ],
   "source": [
    "get_similar_people('Joe Biden')"
   ]
  },
  {
   "cell_type": "code",
   "execution_count": 25,
   "metadata": {},
   "outputs": [
    {
     "data": {
      "text/html": [
       "<div>\n",
       "<style scoped>\n",
       "    .dataframe tbody tr th:only-of-type {\n",
       "        vertical-align: middle;\n",
       "    }\n",
       "\n",
       "    .dataframe tbody tr th {\n",
       "        vertical-align: top;\n",
       "    }\n",
       "\n",
       "    .dataframe thead th {\n",
       "        text-align: right;\n",
       "    }\n",
       "</style>\n",
       "<table border=\"1\" class=\"dataframe\">\n",
       "  <thead>\n",
       "    <tr style=\"text-align: right;\">\n",
       "      <th></th>\n",
       "      <th>name</th>\n",
       "      <th>text</th>\n",
       "      <th>similarity</th>\n",
       "    </tr>\n",
       "  </thead>\n",
       "  <tbody>\n",
       "    <tr>\n",
       "      <th>12808</th>\n",
       "      <td>Tom Hanks</td>\n",
       "      <td>thomas jeffrey tom hanks born july 9 1956 is a...</td>\n",
       "      <td>1.000000</td>\n",
       "    </tr>\n",
       "    <tr>\n",
       "      <th>5875</th>\n",
       "      <td>Michael Keaton</td>\n",
       "      <td>michael john douglas born september 5 1951 bet...</td>\n",
       "      <td>0.544993</td>\n",
       "    </tr>\n",
       "    <tr>\n",
       "      <th>16242</th>\n",
       "      <td>Meryl Streep</td>\n",
       "      <td>meryl streep born mary louise streep june 22 1...</td>\n",
       "      <td>0.492965</td>\n",
       "    </tr>\n",
       "    <tr>\n",
       "      <th>29556</th>\n",
       "      <td>Felicity Huffman</td>\n",
       "      <td>felicity kendall huffman born december 9 1962 ...</td>\n",
       "      <td>0.492746</td>\n",
       "    </tr>\n",
       "    <tr>\n",
       "      <th>39923</th>\n",
       "      <td>Jack Nicholson</td>\n",
       "      <td>john joseph jack nicholson born april 22 1937 ...</td>\n",
       "      <td>0.486095</td>\n",
       "    </tr>\n",
       "  </tbody>\n",
       "</table>\n",
       "</div>"
      ],
      "text/plain": [
       "                   name                                               text  \\\n",
       "12808         Tom Hanks  thomas jeffrey tom hanks born july 9 1956 is a...   \n",
       "5875     Michael Keaton  michael john douglas born september 5 1951 bet...   \n",
       "16242      Meryl Streep  meryl streep born mary louise streep june 22 1...   \n",
       "29556  Felicity Huffman  felicity kendall huffman born december 9 1962 ...   \n",
       "39923    Jack Nicholson  john joseph jack nicholson born april 22 1937 ...   \n",
       "\n",
       "       similarity  \n",
       "12808    1.000000  \n",
       "5875     0.544993  \n",
       "16242    0.492965  \n",
       "29556    0.492746  \n",
       "39923    0.486095  "
      ]
     },
     "execution_count": 25,
     "metadata": {},
     "output_type": "execute_result"
    }
   ],
   "source": [
    "get_similar_people('Tom Hanks')"
   ]
  },
  {
   "cell_type": "code",
   "execution_count": 26,
   "metadata": {},
   "outputs": [
    {
     "name": "stdout",
     "output_type": "stream",
     "text": [
      "aamir khan pronounced amr xan born mohammed aamir hussain khan on 14 march 1965 is an indian film actor director screenwriter producer and television presenter through his successful career in hindi films khan has established himself as one of the most popular and influential actors of indian cinema he is the recipient of numerous awards including four national film awards and seven filmfare awards he was honoured by the government of india with the padma shri in 2003 and the padma bhushan in 20\n",
      "---\n",
      "jugal hansraj born 26 july 1972 is an indian actor and a national award winning director based in mumbaihansraj started his career as a child in the 1983 film masoom which starred naseeruddin shah and shabana azmi the film was about a 9yearold boy whose stepmother was not willing to accept him into the family because he was born out of an extramarital relationship masoom was based on man woman and child a novel by erich segal the film had a positive response and launched hansrajs career later on\n",
      "---\n",
      "singeetam srinivasa rao born 21 september 1931 is an indian film director producer screenwriter composer singer lyricist and actor known for his works in telugu tamil kannada malayalam and hindi films across multiple genresthe octogenerain is widely regarded as one of the versatile directors of india he is credited with having revolutionised the south indian cinema with experimental films he has garnered two national film awards six state nandi awards three filmfare awards south and three karnat\n",
      "---\n",
      "saif ali khan pronounced sf li xan born sajid ali khan on 16 august 1970 is an indian film actor and producer through his successful career in hindi films bollywood khan has established himself as one of the most popular actors of indian cinema he is the recipient of several awards including a national film award and six filmfare awards and was honoured by the government of india with the padma shri in 2010khan is son of the cricketer mansoor ali khan and the actress sharmila tagore having made \n",
      "---\n",
      "gopala ratnam subramaniam born 2 june 1956 commonly known as mani ratnam is an indian film director screenwriter and producer who predominantly works in tamil cinema based in chennai widely regarded as one of the leading directors in indian cinema he made his directorial debut with the kannada film pallavi anu pallavi in 1983 despite a commercial failure the film earned critical acclaim and fetched an award for the screenplay at the karnataka state film awards ratnams following efforts were the \n",
      "---\n"
     ]
    }
   ],
   "source": [
    "for text in get_similar_people('Aamir Khan').text:\n",
    "    print(text[:500])\n",
    "    print('---')"
   ]
  },
  {
   "cell_type": "code",
   "execution_count": 27,
   "metadata": {},
   "outputs": [],
   "source": [
    "# people[people.text.str.contains('tim burton')].text "
   ]
  },
  {
   "cell_type": "markdown",
   "metadata": {},
   "source": [
    "# Readings\n",
    "- [Stanford k-Means Notes](https://stanford.edu/~cpiech/cs221/handouts/kmeans.html)  \n",
    "- [Dendrogram Gallery](https://www.r-graph-gallery.com/dendrogram.html)  \n",
    "- [DBSCAN Paper](https://www.aaai.org/Papers/KDD/1996/KDD96-037.pdf)  \n",
    "- [Fast Algorithms for Association Rule Mining](http://www.vldb.org/conf/1994/P487.PDF)  \n",
    "- [Non-negative Matrix Factorization Wiki](https://en.wikipedia.org/wiki/Non-negative_matrix_factorization)  \n",
    "- [Non-negative Matrix Factorization Example](https://medium.com/logicai/non-negative-matrix-factorization-for-recommendation-systems-985ca8d5c16c)"
   ]
  }
 ],
 "metadata": {
  "kernelspec": {
   "display_name": "Python 3 (ipykernel)",
   "language": "python",
   "name": "python3"
  },
  "language_info": {
   "codemirror_mode": {
    "name": "ipython",
    "version": 3
   },
   "file_extension": ".py",
   "mimetype": "text/x-python",
   "name": "python",
   "nbconvert_exporter": "python",
   "pygments_lexer": "ipython3",
   "version": "3.9.13"
  },
  "toc": {
   "base_numbering": 1,
   "nav_menu": {},
   "number_sections": false,
   "sideBar": true,
   "skip_h1_title": false,
   "title_cell": "Table of Contents",
   "title_sidebar": "Contents",
   "toc_cell": false,
   "toc_position": {},
   "toc_section_display": true,
   "toc_window_display": false
  }
 },
 "nbformat": 4,
 "nbformat_minor": 4
}
